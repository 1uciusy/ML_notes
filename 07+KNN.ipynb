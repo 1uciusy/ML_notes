{
 "cells": [
  {
   "cell_type": "markdown",
   "metadata": {},
   "source": [
    "# K近邻（K nearest neighbor）\n",
    "\n",
    "## 一、概念\n",
    "\n",
    "K近邻和K均值有异曲同工之妙，主要的计算都集中在计算距离上，分类/聚类也都建立在计算好的距离基础上，因此距离公式是个非常重要的组成部分。\n",
    "\n",
    "K近邻是有监督学习算法，模型学习仅仅是储存了所有数据而已。然后将需要预测的数据拿来一一比对，选取训练集中和输入最相近的数据标签进行返回。\n",
    "\n",
    "而K则表示返回的距离最相近的K个样本的标签，K是奇数较为常见，因为当返回到标签有多种时更容易“投票”选出哪个/类样本和输入更接近。K控制了分类边界的“粗糙”和“圆润”的程度，如果K等于1，边界将会非常粗糙非常容易造成过拟合，如果K无穷大为训练集的样本数，那么如果训练集中各类样本数目不严格相等，最后返回的标签将会是训练样本中存在最多的类别标签。所以这样看来，K的值是调控模型从过拟合到欠拟合的超参数。\n",
    "\n",
    "同时K近邻也可能存在不能确定的情况，比如K=3时，前三个最接近的样本来自三类，此时若返回最接近的那个样本标签，则此时相当于K=1。此时随即返回一个标签的处理更为合适。\n"
   ]
  },
  {
   "cell_type": "markdown",
   "metadata": {},
   "source": [
    "## 二、应用\n",
    "\n",
    "先前各种距离已经Kmeans中介绍过，这里用L2距离进行计算。"
   ]
  },
  {
   "cell_type": "code",
   "execution_count": 1,
   "metadata": {
    "ExecuteTime": {
     "end_time": "2019-03-12T09:00:14.198254Z",
     "start_time": "2019-03-12T09:00:10.314464Z"
    }
   },
   "outputs": [],
   "source": [
    "import numpy as np\n",
    "import pandas as pd\n",
    "from scipy import stats\n",
    "\n",
    "iris = pd.read_csv('data_set/Iris.data')\n",
    "index = np.random.permutation(iris.shape[0])\n",
    "train = iris.iloc[index[0:100]].copy()\n",
    "test = iris.iloc[index[100:150]].copy()\n",
    "train = np.array(train)\n",
    "test = np.array(test)"
   ]
  },
  {
   "cell_type": "markdown",
   "metadata": {},
   "source": [
    "一些实施细节：\n",
    "\n",
    "1. 不需要把标签设置成0-1，因为KNN不涉及对标签的操作，所以可以直接返回标签\n",
    "\n",
    "\n",
    "2. 取距离前K小的坐标用的是*np.argpartition(arr, k)* 它利用了快速排序中的思想，只关注第k大的数然后比第k大的数的坐标在前，小的在后，于是这样就可以实现不用完全排序就找出前k小的元素坐标。\n",
    "\n",
    "\n",
    "3. L2距离公式中有开根号的部分，但开根号不改变增减性，所以这里并不需要\n",
    "\n",
    "\n",
    "4. numpy中没有取众数的函数，有*np.bincount()* 可以统计各个元素出现的次数，但是这样也计算了很多我们不需要的东西，所以用了scipy的库\n",
    "\n",
    "\n",
    "5. KNN的实现有些书会将KD树，其目的还是为了更快地搜索，我的数据结构基础不好，担心讲不清楚暂时作罢"
   ]
  },
  {
   "cell_type": "code",
   "execution_count": 162,
   "metadata": {
    "ExecuteTime": {
     "end_time": "2019-03-02T17:29:34.362646Z",
     "start_time": "2019-03-02T17:29:34.283679Z"
    }
   },
   "outputs": [
    {
     "name": "stdout",
     "output_type": "stream",
     "text": [
      "['Iris-setosa' 'Iris-setosa' 'Iris-setosa' 'Iris-virginica'\n",
      " 'Iris-virginica' 'Iris-virginica' 'Iris-virginica' 'Iris-virginica'\n",
      " 'Iris-versicolor' 'Iris-virginica' 'Iris-versicolor' 'Iris-virginica'\n",
      " 'Iris-versicolor' 'Iris-versicolor' 'Iris-virginica' 'Iris-virginica'\n",
      " 'Iris-virginica' 'Iris-versicolor' 'Iris-versicolor' 'Iris-setosa'\n",
      " 'Iris-versicolor' 'Iris-versicolor' 'Iris-versicolor' 'Iris-setosa'\n",
      " 'Iris-versicolor' 'Iris-setosa' 'Iris-versicolor' 'Iris-versicolor'\n",
      " 'Iris-setosa' 'Iris-setosa' 'Iris-setosa' 'Iris-versicolor'\n",
      " 'Iris-virginica' 'Iris-setosa' 'Iris-virginica' 'Iris-setosa'\n",
      " 'Iris-setosa' 'Iris-virginica' 'Iris-versicolor' 'Iris-versicolor'\n",
      " 'Iris-virginica' 'Iris-setosa' 'Iris-setosa' 'Iris-virginica'\n",
      " 'Iris-setosa' 'Iris-setosa' 'Iris-versicolor' 'Iris-virginica'\n",
      " 'Iris-virginica']\n"
     ]
    }
   ],
   "source": [
    "def vote(train, index, k):\n",
    "    if len(np.unique(train[index, 4])) < k: \n",
    "        return np.array(stats.mode(train[index, 4]))[0]\n",
    "    else:\n",
    "        return train[np.random.randint(len(index)), 4]\n",
    "\n",
    "def KNN(train, test, k=3):\n",
    "    m = test.shape[0]\n",
    "    prediction = None\n",
    "    for i in range(m):\n",
    "        diff = train[:, 0:4] - test[i, 0:4]\n",
    "        diff = np.power(diff, 2)\n",
    "        diff = np.sum(diff, axis=1)\n",
    "        index = np.argpartition(diff, k)[:k]\n",
    "        pre = vote(train, index, k)\n",
    "        prediction = np.append(prediction,pre)\n",
    "    prediction = np.delete(prediction, 0)\n",
    "    return prediction\n",
    "    \n",
    "prediction = KNN(train, test)\n",
    "print(prediction)"
   ]
  },
  {
   "cell_type": "code",
   "execution_count": 163,
   "metadata": {
    "ExecuteTime": {
     "end_time": "2019-03-02T17:29:35.154524Z",
     "start_time": "2019-03-02T17:29:35.145530Z"
    }
   },
   "outputs": [
    {
     "name": "stdout",
     "output_type": "stream",
     "text": [
      "[ True  True  True  True  True  True  True  True  True  True  True  True\n",
      "  True  True  True  True  True  True  True  True  True  True  True  True\n",
      "  True  True  True  True  True  True  True  True  True  True  True  True\n",
      "  True False  True  True  True  True  True  True  True  True  True  True\n",
      "  True]\n",
      "0.9795918367346939\n"
     ]
    }
   ],
   "source": [
    "print(prediction == test[:, 4])\n",
    "print(np.sum(prediction == test[:, 4])/test.shape[0])"
   ]
  },
  {
   "cell_type": "code",
   "execution_count": 169,
   "metadata": {
    "ExecuteTime": {
     "end_time": "2019-03-02T17:46:53.321714Z",
     "start_time": "2019-03-02T17:46:53.310715Z"
    }
   },
   "outputs": [
    {
     "data": {
      "text/plain": [
       "array([7, 0, 4, 2, 1, 5, 6, 3], dtype=int64)"
      ]
     },
     "execution_count": 169,
     "metadata": {},
     "output_type": "execute_result"
    }
   ],
   "source": [
    "np.argpartition([2,6,5,7,4,8,9,1], 3)"
   ]
  },
  {
   "cell_type": "code",
   "execution_count": 174,
   "metadata": {
    "ExecuteTime": {
     "end_time": "2019-03-02T17:48:16.069009Z",
     "start_time": "2019-03-02T17:48:16.049015Z"
    }
   },
   "outputs": [
    {
     "data": {
      "text/plain": [
       "array([7, 0, 4, 2, 1, 3, 6, 5], dtype=int64)"
      ]
     },
     "execution_count": 174,
     "metadata": {},
     "output_type": "execute_result"
    }
   ],
   "source": [
    "np.argpartition([2,6,5,7,4,9,8,1], 7)"
   ]
  },
  {
   "cell_type": "code",
   "execution_count": null,
   "metadata": {},
   "outputs": [],
   "source": []
  }
 ],
 "metadata": {
  "kernelspec": {
   "display_name": "Python 3",
   "language": "python",
   "name": "python3"
  },
  "language_info": {
   "codemirror_mode": {
    "name": "ipython",
    "version": 3
   },
   "file_extension": ".py",
   "mimetype": "text/x-python",
   "name": "python",
   "nbconvert_exporter": "python",
   "pygments_lexer": "ipython3",
   "version": "3.6.4"
  },
  "latex_envs": {
   "LaTeX_envs_menu_present": true,
   "autoclose": false,
   "autocomplete": true,
   "bibliofile": "biblio.bib",
   "cite_by": "apalike",
   "current_citInitial": 1,
   "eqLabelWithNumbers": true,
   "eqNumInitial": 1,
   "hotkeys": {
    "equation": "Ctrl-E",
    "itemize": "Ctrl-I"
   },
   "labels_anchors": false,
   "latex_user_defs": false,
   "report_style_numbering": true,
   "user_envs_cfg": false
  },
  "varInspector": {
   "cols": {
    "lenName": 16,
    "lenType": 16,
    "lenVar": 40
   },
   "kernels_config": {
    "python": {
     "delete_cmd_postfix": "",
     "delete_cmd_prefix": "del ",
     "library": "var_list.py",
     "varRefreshCmd": "print(var_dic_list())"
    },
    "r": {
     "delete_cmd_postfix": ") ",
     "delete_cmd_prefix": "rm(",
     "library": "var_list.r",
     "varRefreshCmd": "cat(var_dic_list()) "
    }
   },
   "types_to_exclude": [
    "module",
    "function",
    "builtin_function_or_method",
    "instance",
    "_Feature"
   ],
   "window_display": false
  }
 },
 "nbformat": 4,
 "nbformat_minor": 2
}
