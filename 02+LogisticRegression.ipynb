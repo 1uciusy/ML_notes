{
 "cells": [
  {
   "cell_type": "markdown",
   "metadata": {},
   "source": [
    "# logistic regression\n",
    "\n",
    "## 一、概念\n",
    "\n",
    "逻辑回归是应用于**二分类**的方法。相对的应用于多分类的方法叫softmax。\n",
    "\n",
    "逻辑回归的实现依赖于sigmoid函数：\n",
    "\n",
    "$$\n",
    "y = \\frac{1}{1+e^{-z}}\n",
    "\\tag{1}\n",
    "$$\n",
    "\n",
    "可以看出这是一个单调递增，当x趋向于负无穷时函数值趋向于0，x趋向于正无穷时函数值趋向于1，对应于某一样本属于某一类的概率。\n",
    "\n",
    "对于一个有p个变量的样本而言，模型的形式为：\n",
    "\n",
    "$$\n",
    "\\hat y_i = P(y_i = 1) = \\frac{1}{1+e^{-(\\theta_0 + \\theta_1 x_1+...+\\theta_p x_p)}}\n",
    "\\tag{2}\n",
    "$$"
   ]
  },
  {
   "cell_type": "markdown",
   "metadata": {},
   "source": [
    "## 二、损失函数\n",
    "\n",
    "逻辑回归的损失函数是交叉熵，从数理统计的角度出发，则是极大似然函数。\n",
    "\n",
    "假设样本来自于伯努利分布，$y_i\\in \\{ 0, 1\\}$，对概率的估计值$\\hat y_i\\in (0,1)$，则估计的似然函数是：\n",
    "\n",
    "$$\n",
    "L =\\prod_{i=1}^n {\\hat {y_i}}^{y_i}(1-\\hat {y_i})^{1-{y_i}}\n",
    "\\tag{3}\n",
    "$$\n",
    "\n",
    "对其求以自然底数为底数的对数：\n",
    "\n",
    "$$\n",
    "ln(L) = \\sum_{i=1}^n (y_i ln(\\hat {y_i})+(1-{y_i})ln(1-\\hat {y_i}))\n",
    "$$\n",
    "\n",
    "根据极大似然估计的定义，似然函数的函数值越大，表示随机事件更可能服从当前的概率分布。\n",
    "由于伯努利分布的似然函数值在0，1之间，取对数后不改变增减性，极大化似然函数则等价于极小化损失函数。\n",
    "\n",
    "因此损失函数就定义为：\n",
    "\n",
    "$$\n",
    "loss = -\\frac 1 n\\sum_{i=1}^n y_i ln(\\hat {y_i})+(1-{y_i})ln(1-\\hat {y_i}))\n",
    "\\tag{4}\n",
    "$$"
   ]
  },
  {
   "cell_type": "markdown",
   "metadata": {},
   "source": [
    "## 三、优化\n",
    "\n",
    "和多元线性回归类似，逻辑回归也存在相应假定\n",
    "\n",
    "尽管逻辑回归的形式像是把多元线性回归套进sigmoid函数，但逻辑回归没有像多元线性回归那样的正规方程（据我所知没有），因此逻辑回归的参数求解和优化主要靠梯度下降。\n",
    "\n",
    "梯度下降的核心在于求导，样本为常数，参数为变量，把损失函数视为参数的函数对其求导。\n",
    "\n",
    "首先，由于真实值已知，所以损失函数是关于估计值的函数：\n",
    "\n",
    "$$\n",
    "\\frac{\\partial loss}{\\partial \\hat y_i} = -\\frac {1}{n}(\\frac {y_i}{\\hat y_i} - \\frac{1-y_i}{1-\\hat y_i})\n",
    "\\tag{5}\n",
    "$$\n",
    "\n",
    "而$\\hat y_i$是数据各变量线性组合$z_i$的sigmoid函数：\n",
    "\n",
    "$$\n",
    "\\begin{split}\n",
    "    \\hat y_i &= \\frac{1}{1+e^{-z_i}} \\\\\n",
    "    \\\\\n",
    "    \\frac{\\partial \\hat y_i}{\\partial z_i} &= \\frac{e^{-z_i}}{(1+e^{-z_i})^2} = \\frac{1}{1+e^{-z_i}}(1-\\frac{1}{1+e^{-z_i}})=\\hat y_i(1-\\hat y_i)\\\\\n",
    "    \\\\\n",
    "    z_i &= \\theta_0 + \\theta_1 x_1+...+\\theta_p x_p \\\\\n",
    "    \\\\\n",
    "    \\frac{\\partial z_i}{\\partial \\theta_j} &= x_{ij}\n",
    "\\end{split}\n",
    "$$\n",
    "\n",
    "接下来求梯度有两种方法：\n",
    "1. 求分量的导数：\n",
    "$$\n",
    "\\frac{\\partial loss}{\\partial \\theta_j} = \\sum_{i=1}^n \\frac{\\partial loss}{\\partial \\hat y_i} \\frac{\\partial \\hat y_i}{\\partial z_i} \\frac{\\partial z_i}{\\partial \\theta_j} = \\frac 1 n \\sum_{i=1}^n(\\hat y_i - y_i)x_{ij} \\\\\n",
    "$$\n",
    "然后迭代：\n",
    "$$\n",
    "\\theta_j := \\theta_j - step\\times\\frac 1 n \\sum_{i=1}^n(\\hat y_i - y_i)x_{ij}\n",
    "$$\n",
    "2. 直接求梯度矩阵\n",
    "\n",
    "损失是一个标量，$\\hat y_i$，$z_i$和$\\Theta$分别是$n\\times 1$，$n\\times 1$和$p\\times 1$维向量，根据雅可比（Jacob）矩阵的定义，最终的梯度$\\frac {\\triangledown loss}{\\triangledown \\Theta}$应该是一个$p\\times 1$维的向量。\n",
    "\n",
    "首先，损失对估计值向量的导数（梯度）是一个雅可比矩阵：\n",
    "\n",
    "$$\n",
    "\\frac{\\triangledown loss}{\\triangledown \\hat Y} = \n",
    "\\begin{bmatrix}\n",
    "\\frac{\\partial loss}{\\partial \\hat y_1} \\\\\n",
    "\\frac{\\partial loss}{\\partial \\hat y_2} \\\\\n",
    "... \\\\\n",
    "\\frac{\\partial loss}{\\partial \\hat y_n}\n",
    "\\end{bmatrix} =\n",
    "\\begin{bmatrix}\n",
    "-\\frac {1}{n}(\\frac {y_1}{\\hat y_1} - \\frac{1-y_1}{1-\\hat y_1}) \\\\\n",
    "-\\frac {1}{n}(\\frac {y_2}{\\hat y_2} - \\frac{1-y_2}{1-\\hat y_2}) \\\\\n",
    "... \\\\\n",
    "-\\frac {1}{n}(\\frac {y_n}{\\hat y_n} - \\frac{1-y_n}{1-\\hat y_n})\n",
    "\\end{bmatrix}\n",
    "$$\n",
    "\n",
    "其次，$\\hat Y$和$Z$的函数关系是分量之间的函数关系，于是：\n",
    "\n",
    "$$\n",
    "\\frac{\\triangledown \\hat Y}{\\triangledown Z} = \n",
    "\\begin{bmatrix}\n",
    "\\hat y_1(1-\\hat y_1)\\\\\n",
    "\\hat y_2(1-\\hat y_2)\\\\\n",
    "...\\\\\n",
    "\\hat y_n(1-\\hat y_n)\n",
    "\\end{bmatrix}\n",
    "$$\n",
    "\n",
    "然后，$Z=X\\Theta$需要求矩阵对矩阵的导数，其中的数学很复杂，我比较赞成的是这个方法：https://www.zhihu.com/question/39523290/answer/100057066 ，即导数的矩阵形式按需自取，也可以说是“凑”，先前求得的导数都是$n\\times1$维的，因此只需一个$p\\times n$维的矩阵参与，即可求得合适的梯度，即：\n",
    "\n",
    "$$\n",
    "\\frac{\\triangledown Z}{\\triangledown \\Theta} = X^T\n",
    "$$\n",
    "\n",
    "总结起来：\n",
    "\n",
    "$$\n",
    "\\frac{\\triangledown loss}{\\triangledown \\Theta} = \\frac{\\triangledown Z}{\\triangledown \\Theta}(\\frac{\\triangledown loss}{\\triangledown \\hat Y}*\\frac{\\triangledown \\hat Y}{\\triangledown Z}) = X^T\\begin{bmatrix}\n",
    "-\\frac 1 n (y_1 - \\hat y_1)\\\\\n",
    "-\\frac 1 n (y_2 - \\hat y_2)\\\\\n",
    "...\\\\\n",
    "-\\frac 1 n (y_n - \\hat y_n)\n",
    "\\end{bmatrix}\n",
    "$$\n",
    "\n",
    "其中\\*是按元素相乘。\n",
    "\n",
    "最后按照梯度下降的定义进行迭代即可。"
   ]
  },
  {
   "cell_type": "markdown",
   "metadata": {},
   "source": [
    "## 四、训练实例1\n",
    "\n",
    "选用的是数据集是经典的鸢尾花数据集：http://archive.ics.uci.edu/ml/datasets/Iris ，一共五列变量，分别是花萼长度、花萼宽度、花瓣长度、花瓣宽度和鸢尾花的品种，数据简洁易于快速应用算法。"
   ]
  },
  {
   "cell_type": "code",
   "execution_count": 1,
   "metadata": {
    "ExecuteTime": {
     "end_time": "2019-04-18T16:18:22.114288Z",
     "start_time": "2019-04-18T16:18:19.788551Z"
    }
   },
   "outputs": [
    {
     "data": {
      "text/html": [
       "<div>\n",
       "<style scoped>\n",
       "    .dataframe tbody tr th:only-of-type {\n",
       "        vertical-align: middle;\n",
       "    }\n",
       "\n",
       "    .dataframe tbody tr th {\n",
       "        vertical-align: top;\n",
       "    }\n",
       "\n",
       "    .dataframe thead th {\n",
       "        text-align: right;\n",
       "    }\n",
       "</style>\n",
       "<table border=\"1\" class=\"dataframe\">\n",
       "  <thead>\n",
       "    <tr style=\"text-align: right;\">\n",
       "      <th></th>\n",
       "      <th>bias</th>\n",
       "      <th>sepal.l</th>\n",
       "      <th>sepal.w</th>\n",
       "      <th>petal.l</th>\n",
       "      <th>petal.w</th>\n",
       "      <th>class</th>\n",
       "    </tr>\n",
       "  </thead>\n",
       "  <tbody>\n",
       "    <tr>\n",
       "      <th>0</th>\n",
       "      <td>1</td>\n",
       "      <td>5.1</td>\n",
       "      <td>3.5</td>\n",
       "      <td>1.4</td>\n",
       "      <td>0.2</td>\n",
       "      <td>Iris-setosa</td>\n",
       "    </tr>\n",
       "    <tr>\n",
       "      <th>1</th>\n",
       "      <td>1</td>\n",
       "      <td>4.9</td>\n",
       "      <td>3.0</td>\n",
       "      <td>1.4</td>\n",
       "      <td>0.2</td>\n",
       "      <td>Iris-setosa</td>\n",
       "    </tr>\n",
       "    <tr>\n",
       "      <th>2</th>\n",
       "      <td>1</td>\n",
       "      <td>4.7</td>\n",
       "      <td>3.2</td>\n",
       "      <td>1.3</td>\n",
       "      <td>0.2</td>\n",
       "      <td>Iris-setosa</td>\n",
       "    </tr>\n",
       "    <tr>\n",
       "      <th>3</th>\n",
       "      <td>1</td>\n",
       "      <td>4.6</td>\n",
       "      <td>3.1</td>\n",
       "      <td>1.5</td>\n",
       "      <td>0.2</td>\n",
       "      <td>Iris-setosa</td>\n",
       "    </tr>\n",
       "    <tr>\n",
       "      <th>4</th>\n",
       "      <td>1</td>\n",
       "      <td>5.0</td>\n",
       "      <td>3.6</td>\n",
       "      <td>1.4</td>\n",
       "      <td>0.2</td>\n",
       "      <td>Iris-setosa</td>\n",
       "    </tr>\n",
       "  </tbody>\n",
       "</table>\n",
       "</div>"
      ],
      "text/plain": [
       "   bias  sepal.l  sepal.w  petal.l  petal.w        class\n",
       "0     1      5.1      3.5      1.4      0.2  Iris-setosa\n",
       "1     1      4.9      3.0      1.4      0.2  Iris-setosa\n",
       "2     1      4.7      3.2      1.3      0.2  Iris-setosa\n",
       "3     1      4.6      3.1      1.5      0.2  Iris-setosa\n",
       "4     1      5.0      3.6      1.4      0.2  Iris-setosa"
      ]
     },
     "execution_count": 1,
     "metadata": {},
     "output_type": "execute_result"
    }
   ],
   "source": [
    "import numpy as np\n",
    "import pandas as pd\n",
    "\n",
    "cols = ['sepal.l','sepal.w','petal.l','petal.w','class']\n",
    "iris = pd.read_csv('data_set/Iris.data', header=None, names=cols)\n",
    "iris.insert(0, 'bias', 1)\n",
    "iris.head(5)"
   ]
  },
  {
   "cell_type": "markdown",
   "metadata": {},
   "source": [
    "Iris数据集中有三类花的数据，logistic regression适用于二分类，因此我们从Iris中选取两种花的数据作为训练数据。"
   ]
  },
  {
   "cell_type": "code",
   "execution_count": 2,
   "metadata": {
    "ExecuteTime": {
     "end_time": "2019-04-18T16:18:26.229457Z",
     "start_time": "2019-04-18T16:18:26.219463Z"
    }
   },
   "outputs": [
    {
     "data": {
      "text/plain": [
       "array(['Iris-setosa', 'Iris-versicolor', 'Iris-virginica'], dtype=object)"
      ]
     },
     "execution_count": 2,
     "metadata": {},
     "output_type": "execute_result"
    }
   ],
   "source": [
    "iris.index = iris['class']\n",
    "iris['class'].unique()"
   ]
  },
  {
   "cell_type": "code",
   "execution_count": 3,
   "metadata": {
    "ExecuteTime": {
     "end_time": "2019-04-18T16:18:28.497708Z",
     "start_time": "2019-04-18T16:18:28.483713Z"
    }
   },
   "outputs": [
    {
     "data": {
      "text/plain": [
       "array(['Iris-setosa', 'Iris-versicolor'], dtype=object)"
      ]
     },
     "execution_count": 3,
     "metadata": {},
     "output_type": "execute_result"
    }
   ],
   "source": [
    "iris = iris.loc[['Iris-setosa', 'Iris-versicolor'],:]\n",
    "iris['class'].unique()"
   ]
  },
  {
   "cell_type": "code",
   "execution_count": 4,
   "metadata": {
    "ExecuteTime": {
     "end_time": "2019-04-18T16:18:31.636691Z",
     "start_time": "2019-04-18T16:18:31.616694Z"
    }
   },
   "outputs": [],
   "source": [
    "n = iris.shape[0] # 样本数\n",
    "p = iris.shape[1]-1 # 变量数\n",
    "\n",
    "np.random.seed(2099)\n",
    "index = np.random.permutation(n) # 打乱样本索引\n",
    "\n",
    "train_index = index[0: int(0.7*n)]\n",
    "test_index = index[int(0.7*n): n]\n",
    "\n",
    "y = iris['class']\n",
    "y = y=='Iris-setosa'\n",
    "x = iris.drop(['class'], axis=1)\n",
    "\n",
    "train_x = x.iloc[train_index]\n",
    "train_y = y.iloc[train_index]\n",
    "test_x = x.iloc[test_index]\n",
    "test_y = y.iloc[test_index]\n",
    "\n",
    "train_y = np.array(train_y).reshape([int(0.7*n), 1])\n",
    "test_y = np.array(test_y).reshape([n-int(0.7*n), 1])"
   ]
  },
  {
   "cell_type": "code",
   "execution_count": 5,
   "metadata": {
    "ExecuteTime": {
     "end_time": "2019-04-18T16:18:36.235970Z",
     "start_time": "2019-04-18T16:18:36.226970Z"
    }
   },
   "outputs": [
    {
     "name": "stdout",
     "output_type": "stream",
     "text": [
      "[[-0.24336871]\n",
      " [-1.07204116]\n",
      " [-0.06854123]\n",
      " [-0.44725433]\n",
      " [ 0.4089976 ]]\n"
     ]
    }
   ],
   "source": [
    "def initialize(p):\n",
    "    return np.random.randn(p).reshape([p, 1])\n",
    "\n",
    "theta = initialize(p)\n",
    "print(theta)"
   ]
  },
  {
   "cell_type": "code",
   "execution_count": 6,
   "metadata": {
    "ExecuteTime": {
     "end_time": "2019-04-18T16:19:00.379578Z",
     "start_time": "2019-04-18T16:19:00.369584Z"
    }
   },
   "outputs": [],
   "source": [
    "def sigmoid(x, theta):\n",
    "    return 1/(1 + np.exp(-np.dot(x, theta)))\n",
    "\n",
    "train_y_hat = sigmoid(train_x, theta)\n",
    "# print(train_y_hat)"
   ]
  },
  {
   "cell_type": "code",
   "execution_count": 7,
   "metadata": {
    "ExecuteTime": {
     "end_time": "2019-04-18T16:19:03.582769Z",
     "start_time": "2019-04-18T16:19:03.570791Z"
    }
   },
   "outputs": [
    {
     "name": "stdout",
     "output_type": "stream",
     "text": [
      "[[3.31128951]]\n"
     ]
    }
   ],
   "source": [
    "def loss(y, y_hat):\n",
    "    n = y.shape[0]\n",
    "    return -1/n*(np.dot(y.T, np.log(y_hat)) + np.dot(1-y.T, np.log(1-y_hat)))\n",
    "\n",
    "train_loss = loss(train_y, train_y_hat)\n",
    "print(train_loss)"
   ]
  },
  {
   "cell_type": "code",
   "execution_count": 8,
   "metadata": {
    "ExecuteTime": {
     "end_time": "2019-04-18T16:19:07.878348Z",
     "start_time": "2019-04-18T16:19:07.549399Z"
    }
   },
   "outputs": [
    {
     "name": "stdout",
     "output_type": "stream",
     "text": [
      "[[0.02657989]]\n"
     ]
    }
   ],
   "source": [
    "def train(y, x, theta, step=0.1, delta = 0.0001):\n",
    "    decay = 1\n",
    "    loss_pre = None\n",
    "    loss_aft = float('inf')\n",
    "    y_hat = sigmoid(x, theta)\n",
    "    n = x.shape[0]\n",
    "    while decay > delta:\n",
    "        gradient = np.dot(x.T, 1/n*(y_hat - y))\n",
    "        \n",
    "        theta -= step*gradient\n",
    "        y_hat = sigmoid(x, theta)\n",
    "        \n",
    "        loss_pre = loss_aft\n",
    "        loss_aft = loss(y, y_hat)\n",
    "        decay = loss_pre-loss_aft\n",
    "        \n",
    "        #print(decay)\n",
    "    \n",
    "    return theta, loss_aft\n",
    "\n",
    "theta, train_loss = train(train_y, train_x, theta)\n",
    "print(train_loss)"
   ]
  },
  {
   "cell_type": "code",
   "execution_count": 9,
   "metadata": {
    "ExecuteTime": {
     "end_time": "2019-04-18T16:19:10.146991Z",
     "start_time": "2019-04-18T16:19:10.139992Z"
    }
   },
   "outputs": [
    {
     "name": "stdout",
     "output_type": "stream",
     "text": [
      "[[0.03144648]]\n"
     ]
    }
   ],
   "source": [
    "test_y_hat = sigmoid(test_x, theta)\n",
    "test_loss = loss(test_y, test_y_hat)\n",
    "print(test_loss)"
   ]
  },
  {
   "cell_type": "markdown",
   "metadata": {
    "ExecuteTime": {
     "end_time": "2019-02-24T06:40:16.420407Z",
     "start_time": "2019-02-24T06:40:16.414407Z"
    }
   },
   "source": [
    "## 五、阈值和评价指标\n",
    "\n",
    "在分类问题中，我们求出的估计值通常是一个概率值，是属于0到1的连续实数$(0,1)$，而真实值的取值集合$\\{ 0, 1\\}$。\n",
    "因此我们通常需要选取阈值，即确定概率值大于多少时认为取值是1，反之取值为0。\n",
    "同时，直接的损失函数并不直观，通常我们还用准确率和一些其他评价指标。\n",
    "\n",
    "### 1.阈值的选取\n",
    "\n",
    "### 2.评价指标\n",
    "\n",
    "最常见的评价指标是准确率，$accuracy = \\frac 1 n \\sum_{i=1}^n I(\\hat y_i = y_i)$，准确率非常直观，即预测结果正确的占比。\n",
    "\n",
    "尽管准确率较直观，但仍然有些粗糙，除了准确率之外我们还有查准率、召回率和F1分数作为评价指标。\n",
    "\n",
    "| 混淆矩阵 | 预测正例-1  | 预测反例-0  |\n",
    "|----------|:-----------:|:-----------:|\n",
    "| 真实正例 | TP（真正例）| FN（假反例）|\n",
    "| 真实反例 | FP（假正例）| TN（真反例）|\n",
    "\n",
    "- TP：预测为真，实际为真\n",
    "- FP：预测为真，实际为假\n",
    "- FN：预测为假，实际为真\n",
    "- TN：预测为假，实际为假\n",
    "\n",
    "查准率： $P = precision = \\frac{TP}{TP + FP}$\n",
    "\n",
    "召回率： $R = recall = \\frac{TP} {TP + FN}$\n",
    "\n",
    "F1分数则是二者的调和平均数：$F1 = \\frac{2}{\\frac 1 P + \\frac 1 R}$\n",
    "\n",
    "根据不同的问题选用不同的指标是较为明智的选择，譬如犯罪嫌疑人识别，我们希望尽可能多得识别，即模型判断是犯罪嫌疑人的人数占所有犯罪嫌疑人人数的比例尽可能高，此时选用查准率；而疾病检测则不同，误诊会给病人带来极大的困扰，因此我们“希望”诊断患有某种疾病的人“确实”患有该疾病，此时选用召回率更合适；但也有很多情况中，并没有明显的偏好，因此选用F1分数将会是能够兼顾二者的一个较好选择"
   ]
  },
  {
   "cell_type": "code",
   "execution_count": 10,
   "metadata": {
    "ExecuteTime": {
     "end_time": "2019-04-18T16:19:14.751321Z",
     "start_time": "2019-04-18T16:19:14.741322Z"
    }
   },
   "outputs": [
    {
     "name": "stdout",
     "output_type": "stream",
     "text": [
      "accuracy on train set:1.0\n",
      "accuracy on test set:1.0\n"
     ]
    }
   ],
   "source": [
    "def accuracy(y, y_hat, threshold=0.5):\n",
    "    y_hat = y_hat > threshold\n",
    "    return np.sum(y == y_hat)/y.shape[0]\n",
    "\n",
    "train_y_hat = sigmoid(train_x, theta)\n",
    "train_accuracy = accuracy(train_y, train_y_hat)\n",
    "test_accuracy = accuracy(test_y, test_y_hat)\n",
    "\n",
    "print('accuracy on train set:'+str(train_accuracy))\n",
    "print('accuracy on test set:'+str(test_accuracy))"
   ]
  },
  {
   "cell_type": "markdown",
   "metadata": {},
   "source": [
    "由于数据量较少，纬度较低，因此准确率较高，下面计算查准率、召回率和F1分数（尽管根据准确率来看，三者肯定都是1）。"
   ]
  },
  {
   "cell_type": "code",
   "execution_count": 11,
   "metadata": {
    "ExecuteTime": {
     "end_time": "2019-04-18T16:19:17.968053Z",
     "start_time": "2019-04-18T16:19:17.958053Z"
    }
   },
   "outputs": [
    {
     "name": "stdout",
     "output_type": "stream",
     "text": [
      "1.0\n"
     ]
    }
   ],
   "source": [
    "def precision(y, y_hat):\n",
    "    TP_FP_index = np.where(y_hat == 1)[0]\n",
    "    TP_FP = len(TP_FP_index)\n",
    "    \n",
    "    TP = np.sum(y_hat[TP_FP_index] == y[TP_FP_index])\n",
    "    \n",
    "    return TP/TP_FP\n",
    "\n",
    "test_y_hat = test_y_hat > 0.5\n",
    "test_precision = precision(test_y, test_y_hat)\n",
    "print(test_precision)"
   ]
  },
  {
   "cell_type": "code",
   "execution_count": 12,
   "metadata": {
    "ExecuteTime": {
     "end_time": "2019-04-18T16:19:21.656975Z",
     "start_time": "2019-04-18T16:19:21.647975Z"
    }
   },
   "outputs": [
    {
     "name": "stdout",
     "output_type": "stream",
     "text": [
      "1.0\n"
     ]
    }
   ],
   "source": [
    "def recall(y, y_hat):\n",
    "    TP_FN_index = np.where(y == 1)[0]\n",
    "    TP_FN = len(TP_FN_index)\n",
    "    \n",
    "    TP = np.sum(y[TP_FN_index] == y_hat[TP_FN_index])\n",
    "    \n",
    "    return TP/TP_FN\n",
    "\n",
    "test_recall = recall(test_y, test_y_hat)\n",
    "print(test_recall)"
   ]
  },
  {
   "cell_type": "code",
   "execution_count": 13,
   "metadata": {
    "ExecuteTime": {
     "end_time": "2019-04-18T16:19:25.615495Z",
     "start_time": "2019-04-18T16:19:25.604498Z"
    }
   },
   "outputs": [
    {
     "name": "stdout",
     "output_type": "stream",
     "text": [
      "1.0\n"
     ]
    }
   ],
   "source": [
    "def F1(y, y_hat):\n",
    "    return 2/(1/precision(y, y_hat) + 1/recall(y, y_hat))\n",
    "\n",
    "test_F1 = F1(test_y, test_y_hat)\n",
    "print(test_F1)"
   ]
  },
  {
   "cell_type": "markdown",
   "metadata": {},
   "source": [
    "## 六、实际应用\n",
    "\n",
    "在工业界，很少直接将连续值作为逻辑回归模型的特征输入，而是将连续特征离散化为一系列0、1特征交给逻辑回归模型，这样做的优势有以下几点：\n",
    "\n",
    "0. 离散特征的增加和减少都很容易，易于模型的快速迭代；\n",
    "\n",
    "1. 稀疏向量内积乘法运算速度快，计算结果方便存储，容易扩展；\n",
    "\n",
    "2. 离散化后的特征对异常数据有很强的鲁棒性：比如一个特征是年龄>30是1，否则0。如果特征没有离散化，一个异常数据“年龄300岁”会给模型造成很大的干扰；\n",
    "\n",
    "3. 逻辑回归属于广义线性模型，表达能力受限；单变量离散化为N个后，每个变量有单独的权重，相当于为模型引入了非线性，能够提升模型表达能力，加大拟合；\n",
    "\n",
    "4. 离散化后可以进行特征交叉，由M+N个变量变为M*N个变量，进一步引入非线性，提升表达能力；\n",
    "\n",
    "5. 特征离散化后，模型会更稳定，比如如果对用户年龄离散化，20-30作为一个区间，不会因为一个用户年龄长了一岁就变成一个完全不同的人。当然处于区间相邻处的样本会刚好相反，所以怎么划分区间是门学问；\n",
    "\n",
    "6. 特征离散化以后，起到了简化了逻辑回归模型的作用，降低了模型过拟合的风险。\n",
    "\n",
    "李沐曾经说过：模型是使用离散特征还是连续特征，其实是一个“海量离散特征+简单模型” 同 “少量连续特征+复杂模型”的权衡。既可以离散化用线性模型，也可以用连续特征加深度学习。就看是喜欢折腾特征还是折腾模型了。通常来说，前者容易，而且可以n个人一起并行做，有成功经验；后者目前看很赞，能走多远还须拭目以待。\n",
    "\n",
    "来源：知乎：https://www.zhihu.com/question/31989952/answer/54184582"
   ]
  },
  {
   "cell_type": "markdown",
   "metadata": {},
   "source": [
    "## 七、训练实例2\n",
    "\n",
    "### 1. 数据和获取\n",
    "\n",
    "这个例子用的是机器学习中的Titanic存活预测数据集，数据获取通过*seaborn*包在线导入。\n",
    "\n",
    "数据共有891个样本，15个变量，不同版本的数据集还有不同的变量，比如Kaggle上的数据及还有乘客船票的ID等：https://www.kaggle.com/c/titanic/data　。\n",
    "\n",
    "|变量名称     |变量类型(数据类型/可转化类型)|变量含义                          |是否有缺失|\n",
    "|:-----------:|:---------------------------:|:--------------------------------:|:--------:|\n",
    "|survived     |int                          |是否存活                          | 无 |\n",
    "|pclass       |int/Categories               |乘客船舱等级，数值越小等级越高    |无|\n",
    "|sex          |object(str)/bool             |乘客性别                          |无|\n",
    "|age          |float                        |乘客年龄                          |有|\n",
    "|sibsp        |int/Categories               |乘客同行兄弟姐妹数                |无|\n",
    "|parch        |int/Categories               |乘客同行父母子女数                |无|\n",
    "|fare         |float                        |乘客船票票价                      |无|\n",
    "|embarked     |object(str)/Categories       |乘客登船地点，C = Cherbourg, Q = Queenstown, S = Southampton|无|\n",
    "|class        |object(str)/Categories       |乘客船舱等级，和pclass等价        |无|\n",
    "|who          |object(str)/Categories       |乘客身份，男士、女士、孩子        |无|\n",
    "|adult_male   |bool                         |是否是成年男性                    |无|\n",
    "|deck         |object(str)/Categories，bool |甲板（不确定具体含义）            |无|\n",
    "|embarked_town|object(str)/Categories       |乘客登船地点，和embarked等价      |无|\n",
    "|alive        |object(str)/bool             |是否存活，和survived等价          |无|\n",
    "|alone        |bool                         |是否独自上船（或存活）            |无|\n"
   ]
  },
  {
   "cell_type": "code",
   "execution_count": 14,
   "metadata": {
    "ExecuteTime": {
     "end_time": "2019-04-18T16:19:34.731323Z",
     "start_time": "2019-04-18T16:19:32.279451Z"
    },
    "scrolled": false
   },
   "outputs": [
    {
     "name": "stdout",
     "output_type": "stream",
     "text": [
      "(891, 15)\n"
     ]
    },
    {
     "data": {
      "text/html": [
       "<div>\n",
       "<style scoped>\n",
       "    .dataframe tbody tr th:only-of-type {\n",
       "        vertical-align: middle;\n",
       "    }\n",
       "\n",
       "    .dataframe tbody tr th {\n",
       "        vertical-align: top;\n",
       "    }\n",
       "\n",
       "    .dataframe thead th {\n",
       "        text-align: right;\n",
       "    }\n",
       "</style>\n",
       "<table border=\"1\" class=\"dataframe\">\n",
       "  <thead>\n",
       "    <tr style=\"text-align: right;\">\n",
       "      <th></th>\n",
       "      <th>survived</th>\n",
       "      <th>pclass</th>\n",
       "      <th>sex</th>\n",
       "      <th>age</th>\n",
       "      <th>sibsp</th>\n",
       "      <th>parch</th>\n",
       "      <th>fare</th>\n",
       "      <th>embarked</th>\n",
       "      <th>class</th>\n",
       "      <th>who</th>\n",
       "      <th>adult_male</th>\n",
       "      <th>deck</th>\n",
       "      <th>embark_town</th>\n",
       "      <th>alive</th>\n",
       "      <th>alone</th>\n",
       "    </tr>\n",
       "  </thead>\n",
       "  <tbody>\n",
       "    <tr>\n",
       "      <th>0</th>\n",
       "      <td>0</td>\n",
       "      <td>3</td>\n",
       "      <td>male</td>\n",
       "      <td>22.0</td>\n",
       "      <td>1</td>\n",
       "      <td>0</td>\n",
       "      <td>7.2500</td>\n",
       "      <td>S</td>\n",
       "      <td>Third</td>\n",
       "      <td>man</td>\n",
       "      <td>True</td>\n",
       "      <td>NaN</td>\n",
       "      <td>Southampton</td>\n",
       "      <td>no</td>\n",
       "      <td>False</td>\n",
       "    </tr>\n",
       "    <tr>\n",
       "      <th>1</th>\n",
       "      <td>1</td>\n",
       "      <td>1</td>\n",
       "      <td>female</td>\n",
       "      <td>38.0</td>\n",
       "      <td>1</td>\n",
       "      <td>0</td>\n",
       "      <td>71.2833</td>\n",
       "      <td>C</td>\n",
       "      <td>First</td>\n",
       "      <td>woman</td>\n",
       "      <td>False</td>\n",
       "      <td>C</td>\n",
       "      <td>Cherbourg</td>\n",
       "      <td>yes</td>\n",
       "      <td>False</td>\n",
       "    </tr>\n",
       "    <tr>\n",
       "      <th>2</th>\n",
       "      <td>1</td>\n",
       "      <td>3</td>\n",
       "      <td>female</td>\n",
       "      <td>26.0</td>\n",
       "      <td>0</td>\n",
       "      <td>0</td>\n",
       "      <td>7.9250</td>\n",
       "      <td>S</td>\n",
       "      <td>Third</td>\n",
       "      <td>woman</td>\n",
       "      <td>False</td>\n",
       "      <td>NaN</td>\n",
       "      <td>Southampton</td>\n",
       "      <td>yes</td>\n",
       "      <td>True</td>\n",
       "    </tr>\n",
       "    <tr>\n",
       "      <th>3</th>\n",
       "      <td>1</td>\n",
       "      <td>1</td>\n",
       "      <td>female</td>\n",
       "      <td>35.0</td>\n",
       "      <td>1</td>\n",
       "      <td>0</td>\n",
       "      <td>53.1000</td>\n",
       "      <td>S</td>\n",
       "      <td>First</td>\n",
       "      <td>woman</td>\n",
       "      <td>False</td>\n",
       "      <td>C</td>\n",
       "      <td>Southampton</td>\n",
       "      <td>yes</td>\n",
       "      <td>False</td>\n",
       "    </tr>\n",
       "    <tr>\n",
       "      <th>4</th>\n",
       "      <td>0</td>\n",
       "      <td>3</td>\n",
       "      <td>male</td>\n",
       "      <td>35.0</td>\n",
       "      <td>0</td>\n",
       "      <td>0</td>\n",
       "      <td>8.0500</td>\n",
       "      <td>S</td>\n",
       "      <td>Third</td>\n",
       "      <td>man</td>\n",
       "      <td>True</td>\n",
       "      <td>NaN</td>\n",
       "      <td>Southampton</td>\n",
       "      <td>no</td>\n",
       "      <td>True</td>\n",
       "    </tr>\n",
       "    <tr>\n",
       "      <th>5</th>\n",
       "      <td>0</td>\n",
       "      <td>3</td>\n",
       "      <td>male</td>\n",
       "      <td>NaN</td>\n",
       "      <td>0</td>\n",
       "      <td>0</td>\n",
       "      <td>8.4583</td>\n",
       "      <td>Q</td>\n",
       "      <td>Third</td>\n",
       "      <td>man</td>\n",
       "      <td>True</td>\n",
       "      <td>NaN</td>\n",
       "      <td>Queenstown</td>\n",
       "      <td>no</td>\n",
       "      <td>True</td>\n",
       "    </tr>\n",
       "    <tr>\n",
       "      <th>6</th>\n",
       "      <td>0</td>\n",
       "      <td>1</td>\n",
       "      <td>male</td>\n",
       "      <td>54.0</td>\n",
       "      <td>0</td>\n",
       "      <td>0</td>\n",
       "      <td>51.8625</td>\n",
       "      <td>S</td>\n",
       "      <td>First</td>\n",
       "      <td>man</td>\n",
       "      <td>True</td>\n",
       "      <td>E</td>\n",
       "      <td>Southampton</td>\n",
       "      <td>no</td>\n",
       "      <td>True</td>\n",
       "    </tr>\n",
       "    <tr>\n",
       "      <th>7</th>\n",
       "      <td>0</td>\n",
       "      <td>3</td>\n",
       "      <td>male</td>\n",
       "      <td>2.0</td>\n",
       "      <td>3</td>\n",
       "      <td>1</td>\n",
       "      <td>21.0750</td>\n",
       "      <td>S</td>\n",
       "      <td>Third</td>\n",
       "      <td>child</td>\n",
       "      <td>False</td>\n",
       "      <td>NaN</td>\n",
       "      <td>Southampton</td>\n",
       "      <td>no</td>\n",
       "      <td>False</td>\n",
       "    </tr>\n",
       "    <tr>\n",
       "      <th>8</th>\n",
       "      <td>1</td>\n",
       "      <td>3</td>\n",
       "      <td>female</td>\n",
       "      <td>27.0</td>\n",
       "      <td>0</td>\n",
       "      <td>2</td>\n",
       "      <td>11.1333</td>\n",
       "      <td>S</td>\n",
       "      <td>Third</td>\n",
       "      <td>woman</td>\n",
       "      <td>False</td>\n",
       "      <td>NaN</td>\n",
       "      <td>Southampton</td>\n",
       "      <td>yes</td>\n",
       "      <td>False</td>\n",
       "    </tr>\n",
       "    <tr>\n",
       "      <th>9</th>\n",
       "      <td>1</td>\n",
       "      <td>2</td>\n",
       "      <td>female</td>\n",
       "      <td>14.0</td>\n",
       "      <td>1</td>\n",
       "      <td>0</td>\n",
       "      <td>30.0708</td>\n",
       "      <td>C</td>\n",
       "      <td>Second</td>\n",
       "      <td>child</td>\n",
       "      <td>False</td>\n",
       "      <td>NaN</td>\n",
       "      <td>Cherbourg</td>\n",
       "      <td>yes</td>\n",
       "      <td>False</td>\n",
       "    </tr>\n",
       "    <tr>\n",
       "      <th>10</th>\n",
       "      <td>1</td>\n",
       "      <td>3</td>\n",
       "      <td>female</td>\n",
       "      <td>4.0</td>\n",
       "      <td>1</td>\n",
       "      <td>1</td>\n",
       "      <td>16.7000</td>\n",
       "      <td>S</td>\n",
       "      <td>Third</td>\n",
       "      <td>child</td>\n",
       "      <td>False</td>\n",
       "      <td>G</td>\n",
       "      <td>Southampton</td>\n",
       "      <td>yes</td>\n",
       "      <td>False</td>\n",
       "    </tr>\n",
       "    <tr>\n",
       "      <th>11</th>\n",
       "      <td>1</td>\n",
       "      <td>1</td>\n",
       "      <td>female</td>\n",
       "      <td>58.0</td>\n",
       "      <td>0</td>\n",
       "      <td>0</td>\n",
       "      <td>26.5500</td>\n",
       "      <td>S</td>\n",
       "      <td>First</td>\n",
       "      <td>woman</td>\n",
       "      <td>False</td>\n",
       "      <td>C</td>\n",
       "      <td>Southampton</td>\n",
       "      <td>yes</td>\n",
       "      <td>True</td>\n",
       "    </tr>\n",
       "    <tr>\n",
       "      <th>12</th>\n",
       "      <td>0</td>\n",
       "      <td>3</td>\n",
       "      <td>male</td>\n",
       "      <td>20.0</td>\n",
       "      <td>0</td>\n",
       "      <td>0</td>\n",
       "      <td>8.0500</td>\n",
       "      <td>S</td>\n",
       "      <td>Third</td>\n",
       "      <td>man</td>\n",
       "      <td>True</td>\n",
       "      <td>NaN</td>\n",
       "      <td>Southampton</td>\n",
       "      <td>no</td>\n",
       "      <td>True</td>\n",
       "    </tr>\n",
       "    <tr>\n",
       "      <th>13</th>\n",
       "      <td>0</td>\n",
       "      <td>3</td>\n",
       "      <td>male</td>\n",
       "      <td>39.0</td>\n",
       "      <td>1</td>\n",
       "      <td>5</td>\n",
       "      <td>31.2750</td>\n",
       "      <td>S</td>\n",
       "      <td>Third</td>\n",
       "      <td>man</td>\n",
       "      <td>True</td>\n",
       "      <td>NaN</td>\n",
       "      <td>Southampton</td>\n",
       "      <td>no</td>\n",
       "      <td>False</td>\n",
       "    </tr>\n",
       "    <tr>\n",
       "      <th>14</th>\n",
       "      <td>0</td>\n",
       "      <td>3</td>\n",
       "      <td>female</td>\n",
       "      <td>14.0</td>\n",
       "      <td>0</td>\n",
       "      <td>0</td>\n",
       "      <td>7.8542</td>\n",
       "      <td>S</td>\n",
       "      <td>Third</td>\n",
       "      <td>child</td>\n",
       "      <td>False</td>\n",
       "      <td>NaN</td>\n",
       "      <td>Southampton</td>\n",
       "      <td>no</td>\n",
       "      <td>True</td>\n",
       "    </tr>\n",
       "  </tbody>\n",
       "</table>\n",
       "</div>"
      ],
      "text/plain": [
       "    survived  pclass     sex   age  sibsp  parch     fare embarked   class  \\\n",
       "0          0       3    male  22.0      1      0   7.2500        S   Third   \n",
       "1          1       1  female  38.0      1      0  71.2833        C   First   \n",
       "2          1       3  female  26.0      0      0   7.9250        S   Third   \n",
       "3          1       1  female  35.0      1      0  53.1000        S   First   \n",
       "4          0       3    male  35.0      0      0   8.0500        S   Third   \n",
       "5          0       3    male   NaN      0      0   8.4583        Q   Third   \n",
       "6          0       1    male  54.0      0      0  51.8625        S   First   \n",
       "7          0       3    male   2.0      3      1  21.0750        S   Third   \n",
       "8          1       3  female  27.0      0      2  11.1333        S   Third   \n",
       "9          1       2  female  14.0      1      0  30.0708        C  Second   \n",
       "10         1       3  female   4.0      1      1  16.7000        S   Third   \n",
       "11         1       1  female  58.0      0      0  26.5500        S   First   \n",
       "12         0       3    male  20.0      0      0   8.0500        S   Third   \n",
       "13         0       3    male  39.0      1      5  31.2750        S   Third   \n",
       "14         0       3  female  14.0      0      0   7.8542        S   Third   \n",
       "\n",
       "      who  adult_male deck  embark_town alive  alone  \n",
       "0     man        True  NaN  Southampton    no  False  \n",
       "1   woman       False    C    Cherbourg   yes  False  \n",
       "2   woman       False  NaN  Southampton   yes   True  \n",
       "3   woman       False    C  Southampton   yes  False  \n",
       "4     man        True  NaN  Southampton    no   True  \n",
       "5     man        True  NaN   Queenstown    no   True  \n",
       "6     man        True    E  Southampton    no   True  \n",
       "7   child       False  NaN  Southampton    no  False  \n",
       "8   woman       False  NaN  Southampton   yes  False  \n",
       "9   child       False  NaN    Cherbourg   yes  False  \n",
       "10  child       False    G  Southampton   yes  False  \n",
       "11  woman       False    C  Southampton   yes   True  \n",
       "12    man        True  NaN  Southampton    no   True  \n",
       "13    man        True  NaN  Southampton    no  False  \n",
       "14  child       False  NaN  Southampton    no   True  "
      ]
     },
     "execution_count": 14,
     "metadata": {},
     "output_type": "execute_result"
    }
   ],
   "source": [
    "import seaborn as sb\n",
    "import matplotlib.pyplot as plt\n",
    "\n",
    "titanic = sb.load_dataset(\"Titanic\")\n",
    "print(titanic.shape)\n",
    "titanic.head(15)"
   ]
  },
  {
   "cell_type": "code",
   "execution_count": 15,
   "metadata": {
    "ExecuteTime": {
     "end_time": "2019-04-18T16:19:38.945662Z",
     "start_time": "2019-04-18T16:19:38.930669Z"
    }
   },
   "outputs": [
    {
     "name": "stdout",
     "output_type": "stream",
     "text": [
      "<class 'pandas.core.frame.DataFrame'>\n",
      "RangeIndex: 891 entries, 0 to 890\n",
      "Data columns (total 15 columns):\n",
      "survived       891 non-null int64\n",
      "pclass         891 non-null int64\n",
      "sex            891 non-null object\n",
      "age            714 non-null float64\n",
      "sibsp          891 non-null int64\n",
      "parch          891 non-null int64\n",
      "fare           891 non-null float64\n",
      "embarked       889 non-null object\n",
      "class          891 non-null object\n",
      "who            891 non-null object\n",
      "adult_male     891 non-null bool\n",
      "deck           203 non-null object\n",
      "embark_town    889 non-null object\n",
      "alive          891 non-null object\n",
      "alone          891 non-null bool\n",
      "dtypes: bool(2), float64(2), int64(4), object(7)\n",
      "memory usage: 92.3+ KB\n"
     ]
    }
   ],
   "source": [
    "titanic.info() # titanic.info without \"()\", it's different"
   ]
  },
  {
   "cell_type": "code",
   "execution_count": 16,
   "metadata": {
    "ExecuteTime": {
     "end_time": "2019-04-18T16:19:43.555940Z",
     "start_time": "2019-04-18T16:19:43.525949Z"
    }
   },
   "outputs": [
    {
     "name": "stdout",
     "output_type": "stream",
     "text": [
      "<class 'pandas.core.frame.DataFrame'>\n",
      "RangeIndex: 891 entries, 0 to 890\n",
      "Data columns (total 12 columns):\n",
      "survived      891 non-null int64\n",
      "pclass        891 non-null int64\n",
      "sex           891 non-null object\n",
      "age           714 non-null float64\n",
      "sibsp         891 non-null int64\n",
      "parch         891 non-null int64\n",
      "fare          891 non-null float64\n",
      "embarked      889 non-null object\n",
      "who           891 non-null object\n",
      "adult_male    891 non-null bool\n",
      "deck          203 non-null object\n",
      "alone         891 non-null bool\n",
      "dtypes: bool(2), float64(2), int64(4), object(4)\n",
      "memory usage: 71.4+ KB\n"
     ]
    }
   ],
   "source": [
    "del titanic[\"alive\"], titanic[\"embark_town\"], titanic[\"class\"]\n",
    "\n",
    "titanic.info()"
   ]
  },
  {
   "cell_type": "code",
   "execution_count": 17,
   "metadata": {
    "ExecuteTime": {
     "end_time": "2019-04-18T16:19:51.790355Z",
     "start_time": "2019-04-18T16:19:51.744359Z"
    }
   },
   "outputs": [
    {
     "data": {
      "text/html": [
       "<div>\n",
       "<style scoped>\n",
       "    .dataframe tbody tr th:only-of-type {\n",
       "        vertical-align: middle;\n",
       "    }\n",
       "\n",
       "    .dataframe tbody tr th {\n",
       "        vertical-align: top;\n",
       "    }\n",
       "\n",
       "    .dataframe thead th {\n",
       "        text-align: right;\n",
       "    }\n",
       "</style>\n",
       "<table border=\"1\" class=\"dataframe\">\n",
       "  <thead>\n",
       "    <tr style=\"text-align: right;\">\n",
       "      <th></th>\n",
       "      <th>survived</th>\n",
       "      <th>pclass</th>\n",
       "      <th>sex</th>\n",
       "      <th>age</th>\n",
       "      <th>sibsp</th>\n",
       "      <th>parch</th>\n",
       "      <th>fare</th>\n",
       "      <th>embarked</th>\n",
       "      <th>who</th>\n",
       "      <th>adult_male</th>\n",
       "      <th>deck</th>\n",
       "      <th>alone</th>\n",
       "    </tr>\n",
       "  </thead>\n",
       "  <tbody>\n",
       "    <tr>\n",
       "      <th>0</th>\n",
       "      <td>0</td>\n",
       "      <td>3</td>\n",
       "      <td>male</td>\n",
       "      <td>22.0</td>\n",
       "      <td>1</td>\n",
       "      <td>0</td>\n",
       "      <td>7.2500</td>\n",
       "      <td>S</td>\n",
       "      <td>man</td>\n",
       "      <td>True</td>\n",
       "      <td>NaN</td>\n",
       "      <td>False</td>\n",
       "    </tr>\n",
       "    <tr>\n",
       "      <th>1</th>\n",
       "      <td>1</td>\n",
       "      <td>1</td>\n",
       "      <td>female</td>\n",
       "      <td>38.0</td>\n",
       "      <td>1</td>\n",
       "      <td>0</td>\n",
       "      <td>71.2833</td>\n",
       "      <td>C</td>\n",
       "      <td>woman</td>\n",
       "      <td>False</td>\n",
       "      <td>C</td>\n",
       "      <td>False</td>\n",
       "    </tr>\n",
       "    <tr>\n",
       "      <th>2</th>\n",
       "      <td>1</td>\n",
       "      <td>3</td>\n",
       "      <td>female</td>\n",
       "      <td>26.0</td>\n",
       "      <td>0</td>\n",
       "      <td>0</td>\n",
       "      <td>7.9250</td>\n",
       "      <td>S</td>\n",
       "      <td>woman</td>\n",
       "      <td>False</td>\n",
       "      <td>NaN</td>\n",
       "      <td>True</td>\n",
       "    </tr>\n",
       "    <tr>\n",
       "      <th>3</th>\n",
       "      <td>1</td>\n",
       "      <td>1</td>\n",
       "      <td>female</td>\n",
       "      <td>35.0</td>\n",
       "      <td>1</td>\n",
       "      <td>0</td>\n",
       "      <td>53.1000</td>\n",
       "      <td>S</td>\n",
       "      <td>woman</td>\n",
       "      <td>False</td>\n",
       "      <td>C</td>\n",
       "      <td>False</td>\n",
       "    </tr>\n",
       "    <tr>\n",
       "      <th>4</th>\n",
       "      <td>0</td>\n",
       "      <td>3</td>\n",
       "      <td>male</td>\n",
       "      <td>35.0</td>\n",
       "      <td>0</td>\n",
       "      <td>0</td>\n",
       "      <td>8.0500</td>\n",
       "      <td>S</td>\n",
       "      <td>man</td>\n",
       "      <td>True</td>\n",
       "      <td>NaN</td>\n",
       "      <td>True</td>\n",
       "    </tr>\n",
       "  </tbody>\n",
       "</table>\n",
       "</div>"
      ],
      "text/plain": [
       "   survived  pclass     sex   age  sibsp  parch     fare embarked    who  \\\n",
       "0         0       3    male  22.0      1      0   7.2500        S    man   \n",
       "1         1       1  female  38.0      1      0  71.2833        C  woman   \n",
       "2         1       3  female  26.0      0      0   7.9250        S  woman   \n",
       "3         1       1  female  35.0      1      0  53.1000        S  woman   \n",
       "4         0       3    male  35.0      0      0   8.0500        S    man   \n",
       "\n",
       "   adult_male deck  alone  \n",
       "0        True  NaN  False  \n",
       "1       False    C  False  \n",
       "2       False  NaN   True  \n",
       "3       False    C  False  \n",
       "4        True  NaN   True  "
      ]
     },
     "execution_count": 17,
     "metadata": {},
     "output_type": "execute_result"
    }
   ],
   "source": [
    "titanic.head(5)"
   ]
  },
  {
   "cell_type": "markdown",
   "metadata": {},
   "source": [
    "### 2. 描述统计\n",
    "\n",
    "- 存活率\n",
    "\n",
    "首先看存活情况，发现891人中有342人存活，存活率为38.38%。\n",
    "\n",
    "存活率是一个重要的数字，我们在这里埋下一个伏笔。"
   ]
  },
  {
   "cell_type": "code",
   "execution_count": 18,
   "metadata": {
    "ExecuteTime": {
     "end_time": "2019-04-18T16:20:00.574453Z",
     "start_time": "2019-04-18T16:20:00.555457Z"
    }
   },
   "outputs": [
    {
     "name": "stdout",
     "output_type": "stream",
     "text": [
      "0.3838383838383838\n",
      "the number of the survived is 342\n",
      "with the total number of passengers of 891\n"
     ]
    }
   ],
   "source": [
    "print(sum(titanic[\"survived\"])/titanic.shape[0])\n",
    "print(\"the number of the survived is \"+str(sum(titanic[\"survived\"])))\n",
    "print(\"with the total number of passengers of \"+str(titanic.shape[0]))"
   ]
  },
  {
   "cell_type": "code",
   "execution_count": 19,
   "metadata": {
    "ExecuteTime": {
     "end_time": "2019-04-18T15:31:20.850822Z",
     "start_time": "2019-04-18T15:31:20.182926Z"
    }
   },
   "outputs": [
    {
     "data": {
      "image/png": "[encoded data removed]",
      "text/plain": [
       "<Figure size 720x360 with 2 Axes>"
      ]
     },
     "metadata": {
      "needs_background": "light"
     },
     "output_type": "display_data"
    }
   ],
   "source": [
    "plt.figure(figsize = (10,5))\n",
    "plt.subplot(121)\n",
    "sb.countplot(x='survived', data=titanic)\n",
    "plt.title('Survival count')\n",
    "\n",
    "plt.subplot(122)\n",
    "plt.pie([sum(titanic[\"survived\"]), 891-sum(titanic[\"survived\"])],\n",
    "        labels=['No Survived','Survived'],autopct='%1.0f%%')\n",
    "plt.title('Survival rate') \n",
    "\n",
    "plt.show()"
   ]
  },
  {
   "cell_type": "markdown",
   "metadata": {},
   "source": [
    "- 性别和年龄\n",
    "\n",
    "登船的这891人中有577名男性，314名女性，占比分别为64.76%和35.24%。而幸存的342人中有男性109人，女性233人，占比31.87%和68.13%。幸存的男性中成年男性占大多数，达到了80.73%"
   ]
  },
  {
   "cell_type": "code",
   "execution_count": 20,
   "metadata": {
    "ExecuteTime": {
     "end_time": "2019-04-18T16:20:30.941793Z",
     "start_time": "2019-04-18T16:20:30.908800Z"
    }
   },
   "outputs": [
    {
     "name": "stdout",
     "output_type": "stream",
     "text": [
      "577\n",
      "314\n",
      "the proportion of male on board is 0.6475869809203143\n",
      "the proportion of female on board is 0.35241301907968575\n",
      "109\n",
      "233\n",
      "however, the proportion of male in survivals is 0.31871345029239767\n",
      "in which, the proportion of adult male is 0.8073394495412844\n",
      "and the proportion of female that survived is 0.6812865497076024\n"
     ]
    }
   ],
   "source": [
    "print(sum(titanic[\"sex\"] == \"male\"))\n",
    "print(sum(titanic[\"sex\"] == \"female\"))\n",
    "print(\"the proportion of male on board is \"+str(sum(titanic[\"sex\"] == \"male\")/891))\n",
    "print(\"the proportion of female on board is \"+str(sum(titanic[\"sex\"] == \"female\")/891))\n",
    "\n",
    "tmp = titanic.loc[titanic[\"survived\"]==1]\n",
    "print(sum(tmp[\"sex\"] == \"male\"))\n",
    "print(sum(tmp[\"sex\"] == \"female\"))\n",
    "print(\"however, the proportion of male in survivals is \"+\n",
    "     str(sum(tmp[\"sex\"] == \"male\")/tmp.shape[0]))\n",
    "print(\"in which, the proportion of adult male is \"+\n",
    "     str(sum(tmp[\"adult_male\"])/sum(tmp[\"sex\"] == \"male\")))\n",
    "\n",
    "print(\"and the proportion of female that survived is \"+\n",
    "     str(sum(tmp[\"sex\"] == \"female\")/tmp.shape[0]))"
   ]
  },
  {
   "cell_type": "markdown",
   "metadata": {},
   "source": [
    "样本中登船的儿童占样本总数的9.31%，而幸存者中儿童占比为14.32%，儿童也是幸存比例高于登船比例的群体。\n"
   ]
  },
  {
   "cell_type": "code",
   "execution_count": 21,
   "metadata": {
    "ExecuteTime": {
     "end_time": "2019-04-18T15:31:28.911470Z",
     "start_time": "2019-04-18T15:31:28.900474Z"
    }
   },
   "outputs": [
    {
     "name": "stdout",
     "output_type": "stream",
     "text": [
      "0.0931537598204265\n",
      "0.14327485380116958\n"
     ]
    }
   ],
   "source": [
    "print(sum(titanic[\"who\"]==\"child\")/891)\n",
    "print(sum(tmp[\"who\"]==\"child\")/342)"
   ]
  },
  {
   "cell_type": "markdown",
   "metadata": {},
   "source": [
    "那么其他年龄段呢？从直观上看，年龄在20-30之间的乘客存活率最低。"
   ]
  },
  {
   "cell_type": "code",
   "execution_count": 22,
   "metadata": {
    "ExecuteTime": {
     "end_time": "2019-04-18T15:31:32.626409Z",
     "start_time": "2019-04-18T15:31:32.617407Z"
    }
   },
   "outputs": [
    {
     "name": "stdout",
     "output_type": "stream",
     "text": [
      "80.0\n"
     ]
    }
   ],
   "source": [
    "print(max(titanic[\"age\"]))"
   ]
  },
  {
   "cell_type": "code",
   "execution_count": 23,
   "metadata": {
    "ExecuteTime": {
     "end_time": "2019-04-18T15:31:34.034809Z",
     "start_time": "2019-04-18T15:31:33.423856Z"
    },
    "scrolled": true
   },
   "outputs": [
    {
     "data": {
      "image/png": "[encoded data removed]",
      "text/plain": [
       "<Figure size 576x360 with 1 Axes>"
      ]
     },
     "metadata": {
      "needs_background": "light"
     },
     "output_type": "display_data"
    }
   ],
   "source": [
    "s = [i*10 for i in range(9)]\n",
    "\n",
    "plt.figure(figsize=(8, 5))\n",
    "plt.hist(titanic[\"age\"], bins=s)\n",
    "plt.hist(tmp[\"age\"], bins=s)\n",
    "\n",
    "plt.show()"
   ]
  },
  {
   "cell_type": "markdown",
   "metadata": {},
   "source": [
    "如果我们分性别观察，会发现在各个年龄段女性的存活率都是显著高于男性的。"
   ]
  },
  {
   "cell_type": "code",
   "execution_count": 24,
   "metadata": {
    "ExecuteTime": {
     "end_time": "2019-04-18T15:31:37.144827Z",
     "start_time": "2019-04-18T15:31:36.593913Z"
    }
   },
   "outputs": [
    {
     "data": {
      "image/png": "[encoded data removed]",
      "text/plain": [
       "<Figure size 576x360 with 1 Axes>"
      ]
     },
     "metadata": {
      "needs_background": "light"
     },
     "output_type": "display_data"
    }
   ],
   "source": [
    "plt.figure(figsize=(8, 5))\n",
    "plt.hist(titanic.loc[titanic[\"sex\"]==\"male\"][\"age\"], bins=s)\n",
    "plt.hist(tmp.loc[tmp[\"sex\"]==\"male\"][\"age\"], bins=s)\n",
    "\n",
    "plt.show()"
   ]
  },
  {
   "cell_type": "code",
   "execution_count": 25,
   "metadata": {
    "ExecuteTime": {
     "end_time": "2019-04-18T15:31:38.901062Z",
     "start_time": "2019-04-18T15:31:38.217168Z"
    }
   },
   "outputs": [
    {
     "data": {
      "image/png": "[encoded data removed]",
      "text/plain": [
       "<Figure size 576x360 with 1 Axes>"
      ]
     },
     "metadata": {
      "needs_background": "light"
     },
     "output_type": "display_data"
    }
   ],
   "source": [
    "plt.figure(figsize=(8, 5))\n",
    "plt.hist(titanic.loc[titanic[\"sex\"]==\"female\"][\"age\"], bins=s)\n",
    "plt.hist(tmp.loc[tmp[\"sex\"]==\"female\"][\"age\"], bins=s)\n",
    "\n",
    "plt.show()"
   ]
  },
  {
   "cell_type": "markdown",
   "metadata": {},
   "source": [
    "- 舱位等级\n",
    "\n",
    "发现样本中原本有接近一半的乘客乘坐三等舱，而幸存者中一等舱的比例明显上升且反超三等舱。说明不同阶层的乘客生还概率是不同的。\n",
    "\n",
    "因为舱位等级和票价挂钩，所以票价和存活率应该也会显示类似的规律。"
   ]
  },
  {
   "cell_type": "code",
   "execution_count": 26,
   "metadata": {
    "ExecuteTime": {
     "end_time": "2019-04-18T15:31:51.231779Z",
     "start_time": "2019-04-18T15:31:50.146147Z"
    }
   },
   "outputs": [
    {
     "data": {
      "image/png": "[encoded data removed]",
      "text/plain": [
       "<Figure size 720x360 with 2 Axes>"
      ]
     },
     "metadata": {
      "needs_background": "light"
     },
     "output_type": "display_data"
    }
   ],
   "source": [
    "plt.figure(figsize = (10,5))\n",
    "plt.subplot(121)\n",
    "sb.countplot(x='pclass', data=titanic)\n",
    "plt.title('All three class count')\n",
    "\n",
    "plt.subplot(122)\n",
    "sb.countplot(x='pclass', data=tmp)\n",
    "plt.title('Survived three class count') \n",
    "\n",
    "plt.show()"
   ]
  },
  {
   "cell_type": "markdown",
   "metadata": {},
   "source": [
    "- 上船地点\n",
    "\n",
    "直觉告诉我们，不同的上船地点人们的贫富程度是会有差异的，而这种差异和联系则不会像票价和舱位等级那样直接。所以我们通过对不同上船地点的票价做箱线图，发现三个登船地点的乘客贫富程度大概是C = Cherbourg > Q = Queenstown > S = Southampton。"
   ]
  },
  {
   "cell_type": "code",
   "execution_count": 27,
   "metadata": {
    "ExecuteTime": {
     "end_time": "2019-04-18T15:31:52.998218Z",
     "start_time": "2019-04-18T15:31:52.415310Z"
    }
   },
   "outputs": [
    {
     "data": {
      "image/png": "[encoded data removed]",
      "text/plain": [
       "<Figure size 360x720 with 1 Axes>"
      ]
     },
     "metadata": {
      "needs_background": "light"
     },
     "output_type": "display_data"
    }
   ],
   "source": [
    "plt.figure(figsize = (5,10))\n",
    "ax = sb.boxplot(x=\"embarked\", y=\"fare\", data=titanic)"
   ]
  },
  {
   "cell_type": "markdown",
   "metadata": {},
   "source": [
    "- 父母兄弟姐妹子女\n",
    "\n",
    "最后两个直觉上对生存可能性影响较大的变量大概就是*sibsp*和*parch*。\n",
    "\n",
    "通过画图我们也容易发现有一个兄弟姐妹的存活率大概是50%，而独自登船的存活率大概只有1/3。"
   ]
  },
  {
   "cell_type": "code",
   "execution_count": 28,
   "metadata": {
    "ExecuteTime": {
     "end_time": "2019-04-18T15:31:56.829677Z",
     "start_time": "2019-04-18T15:31:55.896765Z"
    }
   },
   "outputs": [
    {
     "data": {
      "image/png": "[encoded data removed]",
      "text/plain": [
       "<Figure size 720x360 with 2 Axes>"
      ]
     },
     "metadata": {
      "needs_background": "light"
     },
     "output_type": "display_data"
    }
   ],
   "source": [
    "plt.figure(figsize = (10,5))\n",
    "plt.subplot(121)\n",
    "sb.countplot(x='sibsp', data=titanic)\n",
    "plt.title('Passengers with siblings')\n",
    "\n",
    "plt.subplot(122)\n",
    "sb.countplot(x='sibsp', data=tmp)\n",
    "plt.title('Survived passengers with siblings')\n",
    "\n",
    "plt.show()"
   ]
  },
  {
   "cell_type": "markdown",
   "metadata": {},
   "source": [
    "通过对样本总体和存活部分的*parch*画柱形图，我们可以发现有父母子女也会略微提高生存概率。"
   ]
  },
  {
   "cell_type": "code",
   "execution_count": 29,
   "metadata": {
    "ExecuteTime": {
     "end_time": "2019-04-18T15:31:59.134212Z",
     "start_time": "2019-04-18T15:31:58.339436Z"
    }
   },
   "outputs": [
    {
     "data": {
      "image/png": "[encoded data removed]",
      "text/plain": [
       "<Figure size 720x360 with 2 Axes>"
      ]
     },
     "metadata": {
      "needs_background": "light"
     },
     "output_type": "display_data"
    }
   ],
   "source": [
    "plt.figure(figsize = (10,5))\n",
    "plt.subplot(121)\n",
    "sb.countplot(x='parch', data=titanic)\n",
    "plt.title('Parents and children')\n",
    "\n",
    "plt.subplot(122)\n",
    "sb.countplot(x='parch', data=tmp)\n",
    "plt.title('Parents and children')\n",
    "\n",
    "plt.show()"
   ]
  },
  {
   "cell_type": "markdown",
   "metadata": {},
   "source": [
    "那么是否就意味着有人陪着上船就能帮助人求生呢？从图形上看，答案是肯定的。"
   ]
  },
  {
   "cell_type": "code",
   "execution_count": 30,
   "metadata": {
    "ExecuteTime": {
     "end_time": "2019-04-18T15:32:13.093546Z",
     "start_time": "2019-04-18T15:32:12.462533Z"
    }
   },
   "outputs": [
    {
     "data": {
      "image/png": "[encoded data removed]",
      "text/plain": [
       "<Figure size 720x360 with 2 Axes>"
      ]
     },
     "metadata": {
      "needs_background": "light"
     },
     "output_type": "display_data"
    }
   ],
   "source": [
    "plt.figure(figsize = (10,5))\n",
    "plt.subplot(121)\n",
    "sb.countplot(x='alone', data=titanic)\n",
    "plt.title('Passengers with or without company')\n",
    "\n",
    "plt.subplot(122)\n",
    "sb.countplot(x='alone', data=tmp)\n",
    "plt.title('Survived passengers with or without company')\n",
    "\n",
    "plt.show()"
   ]
  },
  {
   "cell_type": "markdown",
   "metadata": {},
   "source": [
    "那么我们来计算一下既没有父母子女也没有兄弟姐妹的乘客幸存率和有兄弟姐妹或有父母子女的乘客幸存率。\n",
    "\n",
    "首先简单验证一下*alone*的定义是否表示该乘客独自一个人在船上，结果发现二者是一致的，且这样的乘客有537人。\n",
    "\n",
    "计算结果也显示有陪伴的乘客幸存率为50.56%，而独自上船的乘客幸存率仅为30.35%"
   ]
  },
  {
   "cell_type": "code",
   "execution_count": 31,
   "metadata": {
    "ExecuteTime": {
     "end_time": "2019-04-18T15:32:15.793981Z",
     "start_time": "2019-04-18T15:32:15.780979Z"
    }
   },
   "outputs": [
    {
     "data": {
      "text/plain": [
       "Int64Index([  2,   4,   5,   6,  11,  12,  14,  15,  17,  19,\n",
       "            ...\n",
       "            877, 878, 881, 882, 883, 884, 886, 887, 889, 890],\n",
       "           dtype='int64', length=537)"
      ]
     },
     "execution_count": 31,
     "metadata": {},
     "output_type": "execute_result"
    }
   ],
   "source": [
    "titanic.loc[titanic[\"alone\"]==True].index"
   ]
  },
  {
   "cell_type": "code",
   "execution_count": 32,
   "metadata": {
    "ExecuteTime": {
     "end_time": "2019-04-18T15:32:16.378886Z",
     "start_time": "2019-04-18T15:32:16.361888Z"
    }
   },
   "outputs": [
    {
     "data": {
      "text/plain": [
       "Int64Index([  2,   4,   5,   6,  11,  12,  14,  15,  17,  19,\n",
       "            ...\n",
       "            877, 878, 881, 882, 883, 884, 886, 887, 889, 890],\n",
       "           dtype='int64', length=537)"
      ]
     },
     "execution_count": 32,
     "metadata": {},
     "output_type": "execute_result"
    }
   ],
   "source": [
    "titanic.loc[(titanic[\"sibsp\"]==0) & (titanic[\"parch\"]==0)].index"
   ]
  },
  {
   "cell_type": "code",
   "execution_count": 33,
   "metadata": {
    "ExecuteTime": {
     "end_time": "2019-04-18T15:32:17.304231Z",
     "start_time": "2019-04-18T15:32:17.290233Z"
    }
   },
   "outputs": [
    {
     "name": "stdout",
     "output_type": "stream",
     "text": [
      "the passengers without company will survive at the rate of 0.30353817504655495\n",
      "while the passengers with company will survive at the rate of 0.5056497175141242\n"
     ]
    }
   ],
   "source": [
    "print(\"the passengers without company will survive at the rate of \"+\n",
    "     str(sum(titanic.loc[titanic[\"alone\"]==True][\"survived\"])/537))\n",
    "\n",
    "print(\"while the passengers with company will survive at the rate of \"+\n",
    "     str(sum(titanic.loc[titanic[\"alone\"]==False][\"survived\"])/(891-537)))"
   ]
  },
  {
   "cell_type": "markdown",
   "metadata": {},
   "source": [
    "- deck?\n",
    "\n",
    "至此，有明确、实际、可解释含义的变量已经被我们描述一番。\n",
    "\n",
    "理论上描述统计也差不多应该告一阶段。\n",
    "\n",
    "然而对于有经验的人来说，*deck*变量完全可以是一个强特征，也就是对生存率有重要影响，或者说样本总体和生存群体中*deck*的分布是不同的。这么说的依据就是因为它有很大程度的缺失，缺失数据的样本甚至远超有数据的样本，所以我们以*deck*变量是否缺失作为一个新变量，来检验是否会对生存率有明显影响。\n",
    "\n",
    "（事实上这个真的是经验之谈，之前的经验证明，越是遇到缺失特别多的数据越可能会对模型有意想不到的帮助）"
   ]
  },
  {
   "cell_type": "code",
   "execution_count": 21,
   "metadata": {
    "ExecuteTime": {
     "end_time": "2019-04-18T16:20:45.169864Z",
     "start_time": "2019-04-18T16:20:45.080874Z"
    }
   },
   "outputs": [
    {
     "name": "stderr",
     "output_type": "stream",
     "text": [
      "c:\\users\\37922\\appdata\\local\\programs\\python\\python37\\lib\\site-packages\\ipykernel_launcher.py:1: SettingWithCopyWarning: \n",
      "A value is trying to be set on a copy of a slice from a DataFrame.\n",
      "Try using .loc[row_indexer,col_indexer] = value instead\n",
      "\n",
      "See the caveats in the documentation: http://pandas.pydata.org/pandas-docs/stable/indexing.html#indexing-view-versus-copy\n",
      "  \"\"\"Entry point for launching an IPython kernel.\n"
     ]
    }
   ],
   "source": [
    "tmp[\"deck_NA\"] = tmp[\"deck\"].isnull()"
   ]
  },
  {
   "cell_type": "code",
   "execution_count": 22,
   "metadata": {
    "ExecuteTime": {
     "end_time": "2019-04-18T16:20:48.225378Z",
     "start_time": "2019-04-18T16:20:48.218379Z"
    }
   },
   "outputs": [],
   "source": [
    "titanic[\"deck_NA\"] = titanic[\"deck\"].isnull()"
   ]
  },
  {
   "cell_type": "code",
   "execution_count": 23,
   "metadata": {
    "ExecuteTime": {
     "end_time": "2019-04-18T16:20:51.340263Z",
     "start_time": "2019-04-18T16:20:50.691361Z"
    }
   },
   "outputs": [
    {
     "data": {
      "image/png": "[encoded data removed]",
      "text/plain": [
       "<Figure size 720x360 with 2 Axes>"
      ]
     },
     "metadata": {
      "needs_background": "light"
     },
     "output_type": "display_data"
    }
   ],
   "source": [
    "plt.figure(figsize = (10,5))\n",
    "plt.subplot(121)\n",
    "sb.countplot(x='deck_NA', data=titanic)\n",
    "plt.title('Deck info is missing ')\n",
    "\n",
    "plt.subplot(122)\n",
    "sb.countplot(x='deck_NA', data=tmp)\n",
    "plt.title('Survived passengers with or without company')\n",
    "\n",
    "plt.show()"
   ]
  },
  {
   "cell_type": "markdown",
   "metadata": {},
   "source": [
    "## 八、牛顿法\n",
    "\n",
    "### 1. 和梯度下降的对比\n",
    "\n",
    "1. 阶数不同\n",
    "\n",
    "梯度下降被称为一阶（first-order）优化方法，因为它是通过求一阶导函数进行优化。\n",
    "\n",
    "而牛顿法则被称为二阶（second-order）优化方法，顾名思义，用到了二阶导数。\n",
    "\n",
    "2. 优化目标不同\n",
    "\n",
    "梯度下降是求极值点，而牛顿法是求函数的零点。\n",
    "\n",
    "令二者等价的方法通常是通过牛顿法求一阶导数的零点，对于原函数单调，但一阶导数有零点的函数，譬如$\\frac13x^3$，牛顿法可以收敛，而梯度下降则会一直训练到超出计算机的精度范围。\n",
    "\n",
    "### 2. 计算公式\n",
    "\n",
    "牛顿法的思想非常朴素，就是在函数定义域上随机选取一个点，计算该点的函数值和导数值，求切线和x轴的交点，再反复迭代。\n",
    "\n",
    "设函数为$y=f(x)$，初始点$(x_0, y_0)$，则有切线方程：\n",
    "\n",
    "$$\n",
    "y - y_0 = f'\\left(x_0\\right)\\left(x-x_0\\right)\n",
    "$$\n",
    "\n",
    "令$y=0$，求得：\n",
    "\n",
    "$$\n",
    "x_1 = x_0 - \\frac{f(x_0)}{f'\\left(x_0\\right)}\n",
    "$$\n",
    "\n",
    "这就是牛顿法的迭代公式，如果是求函数的极值点，则只需将对应的函数$f(x)$替换成$g'(x)$即可。相比梯度下降，牛顿法用到了二阶导数的信息，不仅只看当前这一步的方向和大小，还会考虑后续的迭代信息，这就使得牛顿法比梯度下降**收敛更快**。\n",
    "\n",
    "牛顿法另一个显著的优点是**不需设定学习率**这一超参数，节省了计算和试错成本。\n",
    "\n",
    "但对于机器学习问题来说，我们求的通常是损失函数的极小值，也就是损失函数的导数的零点。\n",
    "\n",
    "$$\n",
    "x_{i+1} = x_i - \\frac{f'(x_i)}{f''\\left(x_i\\right)}\n",
    "$$\n",
    "\n",
    "### 3. 高维情况\n",
    "\n",
    "对于高维情况，我们进行对应的扩展，也就是将一阶导函数换成梯度，将二阶导函数替换成Hessian矩阵。\n",
    "\n",
    "$$\n",
    "x_{i+1} = x_i - \\left[Hf\\left(x_i\\right)\\right]^{-1}\\triangledown f(x_i)\n",
    "$$\n",
    "\n",
    "在逻辑回归的例子中：\n",
    "\n",
    "$$\n",
    "\\begin{split}\n",
    "    x_i &= \\theta_i \\\\\n",
    "    \\\\\n",
    "    \\triangledown f(x_i) &= \\frac{\\triangledown loss}{\\triangledown \\theta}\n",
    "\\end{split}\n",
    "$$\n",
    "\n",
    "Hessian矩阵为：\n",
    "\n",
    "$$\n",
    "\\begin{split}\n",
    "    Hf\\left(x_i\\right) &= \\begin{bmatrix}\n",
    "            \\frac{\\partial^2 f}{\\partial x_1^2} & \\dots & \\frac{\\partial^2 f}{\\partial x_1\\partial x_n}\\\\\n",
    "            \\vdots & \\ddots & \\vdots\\\\\n",
    "            \\frac{\\partial^2 f}{\\partial x_n \\partial x_1} & \\dots & \\frac{\\partial^2 f}{\\partial x_n^2}\n",
    "        \\end{bmatrix}\\\\\n",
    "    \\\\\n",
    "    \\Rightarrow  H\\left[loss\\left(\\hat Y\\right)\\right] &= \\begin{bmatrix}\n",
    "            \\frac{\\partial^2 loss}{\\partial \\theta _1^2} & \\dots & \\frac{\\partial^2 loss}{\\partial \\theta_1\\partial \\theta_n}\\\\\n",
    "            \\vdots & \\ddots & \\vdots\\\\\n",
    "            \\frac{\\partial^2 loss}{\\partial \\theta_n \\partial \\theta_1} & \\dots & \\frac{\\partial^2 loss}{\\partial \\theta_n^2}\n",
    "        \\end{bmatrix}\\\\\n",
    "\\end{split}\n",
    "$$\n",
    "\n",
    "其中：\n",
    "\n",
    "$$\n",
    "\\begin{split}\n",
    "    \\frac{\\partial loss}{\\partial \\theta _m} &= -\\frac1N\\sum_{i=1}^N x_{im}\\left(y_i - \\hat y_i\\right)\\\\\n",
    "    \\frac{\\partial^2 loss}{\\partial \\theta _m \\partial \\theta _n} &= -\\frac1N \\sum_{i=1}^N \\frac{\\partial x_{im}\\left(y_i - \\hat y_i\\right)}{\\partial \\theta_n}\\\\\n",
    "    &= -\\frac1N \\sum_{i=1}^N x_{im}\\frac{\\partial \\hat y_i}{\\partial \\theta_n}\\\\\n",
    "    &= -\\frac1N \\sum_{i=1}^N x_{im} \\left[\\frac{d\\hat y_i}{dz_i}\\frac{\\partial z_i}{\\partial\\theta_n}\\right]\\\\\n",
    "    &= -\\frac1N \\sum_{i=1}^N x_{im} \\left[\\hat y_i\\left(1-\\hat y_i\\right)x_{in}\\right]\n",
    "\\end{split}\n",
    "$$\n",
    "\n",
    "表示成矩阵形式：\n",
    "\n",
    "$$\n",
    "\\begin{split}\n",
    "    H\\left[loss\\left(\\hat Y\\right)\\right] = X^T\\left(X*\\left(\\left(\\hat Y*\\left(1-\\hat Y\\right)\\right)1^{1\\times p}\\right)\\right)\n",
    "\\end{split}\n",
    "$$\n",
    "\n",
    "其中\\*是元素点乘，可能会有更巧妙的表示方法，这是我根据自己推导能够总结出来的。"
   ]
  },
  {
   "cell_type": "markdown",
   "metadata": {},
   "source": [
    "## 续七、训练实例2\n",
    "\n",
    "首先是数据处理和缺失补全。\n",
    "\n",
    "对于缺失数据，缺失较多的*deck*用是否确实替换，缺失较少的*age*由于数据类型是浮点数，用平均值代替。\n",
    "\n",
    "对于字符串和*sibsp*、*parch*等的整数类型，统一用onehot编码。前者这样处理很好理解，后者做这样的处理是为了更好地针对这些整数类型的不同数值进行相应处理。"
   ]
  },
  {
   "cell_type": "markdown",
   "metadata": {},
   "source": [
    "### 1. onehot编码\n",
    "\n",
    "删去titanic的*deck*列，用*deck_NA*替换。\n",
    "\n",
    "因为pandas不支持int类型的数据进行onehot编码，所以我们需要把一部分int类型变量强制转换成object，在pandas里object就是代表字符串类型。"
   ]
  },
  {
   "cell_type": "code",
   "execution_count": 24,
   "metadata": {
    "ExecuteTime": {
     "end_time": "2019-04-18T16:21:19.713484Z",
     "start_time": "2019-04-18T16:21:19.707475Z"
    }
   },
   "outputs": [],
   "source": [
    "del titanic[\"deck\"]"
   ]
  },
  {
   "cell_type": "code",
   "execution_count": 25,
   "metadata": {
    "ExecuteTime": {
     "end_time": "2019-04-18T16:21:21.323572Z",
     "start_time": "2019-04-18T16:21:21.301571Z"
    }
   },
   "outputs": [
    {
     "name": "stdout",
     "output_type": "stream",
     "text": [
      "<class 'pandas.core.frame.DataFrame'>\n",
      "RangeIndex: 891 entries, 0 to 890\n",
      "Data columns (total 12 columns):\n",
      "survived      891 non-null int64\n",
      "pclass        891 non-null int64\n",
      "sex           891 non-null object\n",
      "age           714 non-null float64\n",
      "sibsp         891 non-null int64\n",
      "parch         891 non-null int64\n",
      "fare          891 non-null float64\n",
      "embarked      889 non-null object\n",
      "who           891 non-null object\n",
      "adult_male    891 non-null bool\n",
      "alone         891 non-null bool\n",
      "deck_NA       891 non-null bool\n",
      "dtypes: bool(3), float64(2), int64(4), object(3)\n",
      "memory usage: 65.3+ KB\n"
     ]
    }
   ],
   "source": [
    "titanic.info()"
   ]
  },
  {
   "cell_type": "code",
   "execution_count": 69,
   "metadata": {
    "ExecuteTime": {
     "end_time": "2019-04-18T16:31:04.319329Z",
     "start_time": "2019-04-18T16:31:04.265319Z"
    }
   },
   "outputs": [],
   "source": [
    "titanic[[\"pclass\", \"sibsp\", \"parch\"]] = titanic[[\"pclass\", \"sibsp\", \"parch\"]].astype(\"object\")\n",
    "data = pd.get_dummies(titanic)"
   ]
  },
  {
   "cell_type": "code",
   "execution_count": 70,
   "metadata": {
    "ExecuteTime": {
     "end_time": "2019-04-18T16:31:05.579113Z",
     "start_time": "2019-04-18T16:31:05.541118Z"
    }
   },
   "outputs": [
    {
     "name": "stdout",
     "output_type": "stream",
     "text": [
      "<class 'pandas.core.frame.DataFrame'>\n",
      "RangeIndex: 891 entries, 0 to 890\n",
      "Data columns (total 31 columns):\n",
      "survived      891 non-null int64\n",
      "age           714 non-null float64\n",
      "fare          891 non-null float64\n",
      "adult_male    891 non-null bool\n",
      "alone         891 non-null bool\n",
      "deck_NA       891 non-null bool\n",
      "pclass_1      891 non-null uint8\n",
      "pclass_2      891 non-null uint8\n",
      "pclass_3      891 non-null uint8\n",
      "sex_female    891 non-null uint8\n",
      "sex_male      891 non-null uint8\n",
      "sibsp_0       891 non-null uint8\n",
      "sibsp_1       891 non-null uint8\n",
      "sibsp_2       891 non-null uint8\n",
      "sibsp_3       891 non-null uint8\n",
      "sibsp_4       891 non-null uint8\n",
      "sibsp_5       891 non-null uint8\n",
      "sibsp_8       891 non-null uint8\n",
      "parch_0       891 non-null uint8\n",
      "parch_1       891 non-null uint8\n",
      "parch_2       891 non-null uint8\n",
      "parch_3       891 non-null uint8\n",
      "parch_4       891 non-null uint8\n",
      "parch_5       891 non-null uint8\n",
      "parch_6       891 non-null uint8\n",
      "embarked_C    891 non-null uint8\n",
      "embarked_Q    891 non-null uint8\n",
      "embarked_S    891 non-null uint8\n",
      "who_child     891 non-null uint8\n",
      "who_man       891 non-null uint8\n",
      "who_woman     891 non-null uint8\n",
      "dtypes: bool(3), float64(2), int64(1), uint8(25)\n",
      "memory usage: 45.3 KB\n"
     ]
    }
   ],
   "source": [
    "data.info()"
   ]
  },
  {
   "cell_type": "markdown",
   "metadata": {},
   "source": [
    "### 2. 补全缺失"
   ]
  },
  {
   "cell_type": "code",
   "execution_count": 71,
   "metadata": {
    "ExecuteTime": {
     "end_time": "2019-04-18T16:31:09.622479Z",
     "start_time": "2019-04-18T16:31:09.609480Z"
    }
   },
   "outputs": [
    {
     "name": "stdout",
     "output_type": "stream",
     "text": [
      "0\n"
     ]
    }
   ],
   "source": [
    "data = data.fillna({\"age\":np.mean(data[\"age\"])})\n",
    "print(np.sum(np.sum(data.isnull())))"
   ]
  },
  {
   "cell_type": "markdown",
   "metadata": {},
   "source": [
    "### 3. 用牛顿法训练模型"
   ]
  },
  {
   "cell_type": "code",
   "execution_count": 72,
   "metadata": {
    "ExecuteTime": {
     "end_time": "2019-04-18T16:31:12.935554Z",
     "start_time": "2019-04-18T16:31:12.921573Z"
    }
   },
   "outputs": [],
   "source": [
    "alive = data[\"survived\"].copy()\n",
    "del data[\"survived\"]\n",
    "data[\"bias\"] = 1\n",
    "n, p = data.shape\n",
    "\n",
    "np.random.seed(2099)\n",
    "index = np.random.permutation(n)\n",
    "train_index = index[0: int(0.7*n)]\n",
    "test_index = index[int(0.7*n): ]"
   ]
  },
  {
   "cell_type": "code",
   "execution_count": 93,
   "metadata": {
    "ExecuteTime": {
     "end_time": "2019-04-18T16:36:11.380301Z",
     "start_time": "2019-04-18T16:36:11.364303Z"
    }
   },
   "outputs": [
    {
     "name": "stdout",
     "output_type": "stream",
     "text": [
      "(623, 31) (31, 1) (623, 1)\n",
      "[[0.78356242]]\n"
     ]
    }
   ],
   "source": [
    "train_data = np.array(data.iloc[train_index])\n",
    "train_data = train_data.astype(\"float\")\n",
    "train_alive = np.array(alive.iloc[train_index]).reshape(len(train_index), 1)\n",
    "\n",
    "np.random.seed(2038)\n",
    "theta = initialize(p)/100\n",
    "print(train_data.shape, theta.shape, train_alive.shape)\n",
    "\n",
    "train_y_hat = sigmoid(train_data, theta)\n",
    "print(loss(train_alive, train_y_hat))"
   ]
  },
  {
   "cell_type": "code",
   "execution_count": 94,
   "metadata": {
    "ExecuteTime": {
     "end_time": "2019-04-18T16:36:13.083034Z",
     "start_time": "2019-04-18T16:36:13.055039Z"
    }
   },
   "outputs": [
    {
     "name": "stdout",
     "output_type": "stream",
     "text": [
      "[[inf]] [[0.78825625]]\n",
      "[[0.03698704]] [[0.75126921]]\n",
      "[[-0.03961307]] [[0.79088229]]\n"
     ]
    }
   ],
   "source": [
    "def train_newton(y, x, theta, sigma=1e-6):\n",
    "    decay = 1\n",
    "    loss_pre = None\n",
    "    loss_aft = float(\"inf\")\n",
    "    y_hat = sigmoid(x, theta)\n",
    "    n = x.shape[0]\n",
    "    \n",
    "    while decay > sigma:\n",
    "        first_order = -np.dot(x.T, 1/n*(y_hat - y))\n",
    "        second_order = np.dot(x.T, x*(y_hat)*(1-y_hat))\n",
    "        \n",
    "        delta = np.dot(np.linalg.inv(second_order), first_order)\n",
    "        tmp = theta.copy()\n",
    "        theta -= delta\n",
    "        y_hat = sigmoid(x, theta)\n",
    "        \n",
    "        loss_pre = loss_aft\n",
    "        loss_aft = loss(y, y_hat)\n",
    "        #print(loss_aft)\n",
    "        decay = loss_pre - loss_aft\n",
    "        print(decay, loss_aft)\n",
    "        if decay < 0:\n",
    "            return tmp, loss_pre\n",
    "    return theta, loss_aft\n",
    "\n",
    "theta_newton, train_loss_newton = train_newton(train_alive, train_data, theta)"
   ]
  },
  {
   "cell_type": "code",
   "execution_count": 95,
   "metadata": {
    "ExecuteTime": {
     "end_time": "2019-04-18T16:36:15.362677Z",
     "start_time": "2019-04-18T16:36:15.356697Z"
    }
   },
   "outputs": [
    {
     "name": "stdout",
     "output_type": "stream",
     "text": [
      "[[0.75126921]]\n"
     ]
    }
   ],
   "source": [
    "print(train_loss_newton)"
   ]
  },
  {
   "cell_type": "code",
   "execution_count": 96,
   "metadata": {
    "ExecuteTime": {
     "end_time": "2019-04-18T16:36:16.459523Z",
     "start_time": "2019-04-18T16:36:16.445507Z"
    }
   },
   "outputs": [],
   "source": [
    "np.random.seed(2038)\n",
    "theta = initialize(p)/100\n",
    "theta_sgd, train_loss_sgd = train(train_alive, train_data, theta, step=0.001)"
   ]
  },
  {
   "cell_type": "code",
   "execution_count": 97,
   "metadata": {
    "ExecuteTime": {
     "end_time": "2019-04-18T16:36:17.483344Z",
     "start_time": "2019-04-18T16:36:17.475347Z"
    }
   },
   "outputs": [
    {
     "name": "stdout",
     "output_type": "stream",
     "text": [
      "[[0.75126921]] [[0.62344033]]\n"
     ]
    }
   ],
   "source": [
    "print(train_loss_newton, train_loss_sgd)"
   ]
  },
  {
   "cell_type": "markdown",
   "metadata": {},
   "source": [
    "通过比较我们可以发现，用牛顿法求到的参数设置比梯度下降法更优。\n",
    "\n",
    "这里的比较是有意义的，因为在我们初始化参数前时都统一设置了随即种子，保证两个算法的起点是相同的。\n",
    "\n",
    "接下来我们再比较一下在测试集上的表现。"
   ]
  },
  {
   "cell_type": "code",
   "execution_count": 98,
   "metadata": {
    "ExecuteTime": {
     "end_time": "2019-04-18T16:36:22.977504Z",
     "start_time": "2019-04-18T16:36:22.960487Z"
    }
   },
   "outputs": [
    {
     "name": "stdout",
     "output_type": "stream",
     "text": [
      "[[0.76747635]] [[0.62034863]]\n"
     ]
    }
   ],
   "source": [
    "test_data = np.array(data.iloc[test_index])\n",
    "test_data = test_data.astype(\"float\")\n",
    "test_alive = np.array(alive.iloc[test_index]).reshape(len(test_index), 1)\n",
    "\n",
    "test_y_hat_newton = sigmoid(test_data, theta_newton)\n",
    "test_loss_newton = loss(test_alive, test_y_hat_newton-1e-16)\n",
    "\n",
    "test_y_hat_sgd = sigmoid(test_data, theta_sgd)\n",
    "test_loss_sgd = loss(test_alive, test_y_hat_sgd)\n",
    "\n",
    "print(test_loss_newton, test_loss_sgd)"
   ]
  },
  {
   "cell_type": "code",
   "execution_count": 110,
   "metadata": {
    "ExecuteTime": {
     "end_time": "2019-04-18T17:27:39.271359Z",
     "start_time": "2019-04-18T17:27:39.255372Z"
    }
   },
   "outputs": [
    {
     "name": "stdout",
     "output_type": "stream",
     "text": [
      "0.5584021193015484 0.42481658575800113 0.30597014925373134\n",
      "0.29464285714285715 0.46153846153846156\n",
      "0.8048780487804879 0.36585365853658536\n",
      "0.4313725490196078 0.4081632653061224\n"
     ]
    }
   ],
   "source": [
    "print(np.mean(test_y_hat_newton), np.mean(test_y_hat_sgd), np.mean(test_alive))\n",
    "print(precision(test_alive, test_y_hat_newton>0.5), precision(test_alive, test_y_hat_sgd>0.5))\n",
    "print(recall(test_alive, test_y_hat_newton>0.5), recall(test_alive, test_y_hat_sgd>0.5))\n",
    "print(F1(test_alive, test_y_hat_newton>0.5), F1(test_alive, test_y_hat_sgd>0.5))"
   ]
  },
  {
   "cell_type": "markdown",
   "metadata": {},
   "source": [
    "|优化方法|查准率|召回率|F1    |\n",
    "|--------|------|------|------|\n",
    "|梯度下降|46.15%|36.59%|0.4081|\n",
    "|牛顿法  |29.46%|80.49%|0.4314|\n",
    "\n",
    "\n",
    "可以看到，用牛顿法进行训练时迭代次数只有2-3次，的确大大降低了计算成本。但是在损失函数和平均存活率方面却逊于梯度下降，而F1分数方面却相比梯度下降有所提升，召回率相比梯度下降明显提升。\n",
    "\n",
    "考虑其原因可能是因为我们的变量中稀疏变量较多、维度较高，导致局部极值点增多或导函数的零点增多。\n",
    "\n",
    "而且牛顿法对初值也很敏感，当随机种子为*2099*时，用牛顿法的测试集和训练集损失会高达0.95。所以用二阶导函数进行迭代也并不一定总会比一阶导函数迭代要好。\n",
    "\n",
    "但梯度下降中的学习率是一个需要反复尝试然后确定的超参数，当学习率过大时会造成变量值溢出导致训练过程中出现nan的情况。而且即便是有效的，不会导致溢出的学习率也会对模型结果有影响。在这种情况下，较小的学习率0.001就比较大的学习率0.005表现更好。"
   ]
  },
  {
   "cell_type": "markdown",
   "metadata": {},
   "source": [
    "### 4. 模型改善\n",
    "\n",
    "不同的评价准则给出了不同的较优优化方法。梯度下降是较为有效的优化方法且优化较简单，我们就在梯度下降的基础上进行进一步的改善。\n",
    "\n",
    "目前可以努力的改善方向有四个：\n",
    "\n",
    "1. 改进补全缺失值（年龄）的方法，比如用一些聚类或回归树的方法；\n",
    "\n",
    "\n",
    "2. 将年龄离散化，用智能算法（遗传算法等）寻找较优的离散方法；\n",
    "\n",
    "\n",
    "3. 搜索更好的超参数设置，可以用线性搜索也可以用智能算法；\n",
    "\n",
    "\n",
    "4. 对样本加权；\n",
    "\n",
    "\n",
    "这四种方法中最有操作性且最有希望使性能变好的是方法1和方法4。\n",
    "\n",
    "我们考虑第四种，这也是面对不均衡样本的首选。\n",
    "\n",
    "回忆我们之前埋下的伏笔，总的存活率大约为30%。假设极端情况下存活率为1%，那么模型总是预测不存活就能获得很漂亮的损失函数。这也就是我们解决样本不均衡的最初动力。\n",
    "\n",
    "面对不均衡样本呢我们有三种处理手段：\n",
    "\n",
    "1. 重抽样：重复比例较低的样本，使其和比例较高的样本一样多；\n",
    "\n",
    "\n",
    "2. 欠抽样：抽取部分重复比例较高的样本和比例较少的样本进行训练；\n",
    "\n",
    "\n",
    "3. 赋权：给样本赋权，使不同比例的样本具有相同的权重；\n",
    "\n",
    "\n",
    "这三种方法本质上都是更改权重使不同比例的样本在模型中发挥同样的作用。"
   ]
  },
  {
   "cell_type": "markdown",
   "metadata": {},
   "source": [
    "修改原始的梯度下降训练方法，使其加入权重的因素。\n",
    "\n",
    "修改方法就是统计正例和负例的样本数，假设负例较少，则对正例赋权值1，对负例赋权值$\\frac{\\# positive}{\\# negtive}$。需要注意的是，赋权值是根据训练集进行赋权。如果赋权时包含了测试集的信息，则会提升模型在测试集的表现，但是对模型在实际数据上的泛化能力并没有提升，反而是降低了测试集测试模型的能力。\n",
    "\n",
    "如果是多分类情况我们对某一类赋权的公式则是$\\frac{\\#\\ of \\ most\\ frequent\\ class}{\\#\\ of \\ most\\ current\\ class}$"
   ]
  },
  {
   "cell_type": "code",
   "execution_count": 102,
   "metadata": {
    "ExecuteTime": {
     "end_time": "2019-04-18T17:11:37.126467Z",
     "start_time": "2019-04-18T17:11:37.079475Z"
    }
   },
   "outputs": [
    {
     "name": "stdout",
     "output_type": "stream",
     "text": [
      "[[0.63388563]]\n"
     ]
    }
   ],
   "source": [
    "def train(y, x, theta, step=0.1, delta = 0.0001):\n",
    "    decay = 1\n",
    "    loss_pre = None\n",
    "    loss_aft = float('inf')\n",
    "    y_hat = sigmoid(x, theta)\n",
    "    n = x.shape[0]\n",
    "    pos = np.sum(y)\n",
    "    neg = np.sum(1-y)\n",
    "    weight = y + (1-y)*pos/neg\n",
    "    \n",
    "    while decay > delta:\n",
    "        gradient = np.dot(x.T, (y_hat - y)/n*weight)\n",
    "        \n",
    "        theta -= step*gradient\n",
    "        y_hat = sigmoid(x, theta)\n",
    "        \n",
    "        loss_pre = loss_aft\n",
    "        loss_aft = loss(y, y_hat)\n",
    "        decay = loss_pre-loss_aft\n",
    "        \n",
    "        #print(decay)\n",
    "    \n",
    "    return theta, loss_aft\n",
    "\n",
    "np.random.seed(2038)\n",
    "theta = initialize(p)/100\n",
    "theta, train_loss = train(train_alive, train_data, theta, step = 0.001)\n",
    "print(train_loss)"
   ]
  },
  {
   "cell_type": "code",
   "execution_count": 109,
   "metadata": {
    "ExecuteTime": {
     "end_time": "2019-04-18T17:26:48.989077Z",
     "start_time": "2019-04-18T17:26:48.975078Z"
    }
   },
   "outputs": [
    {
     "name": "stdout",
     "output_type": "stream",
     "text": [
      "[[0.66014657]]\n",
      "0.48148148148148145\n",
      "0.47560975609756095\n",
      "0.47852760736196315\n"
     ]
    }
   ],
   "source": [
    "test_y_hat = sigmoid(test_data, theta)\n",
    "test_loss = loss(test_alive, test_y_hat)\n",
    "\n",
    "print(test_loss)\n",
    "print(precision(test_alive, test_y_hat>0.5))\n",
    "print(recall(test_alive, test_y_hat>0.5))\n",
    "print(F1(test_alive, test_y_hat>0.5))"
   ]
  },
  {
   "cell_type": "markdown",
   "metadata": {},
   "source": [
    "可以看到，当我们对样本进行加权之后，模型在测试集和训练集的损失都有所提高，这是因为我们把模型的预测倾向从不存活到二者中立。\n",
    "\n",
    "但是在查准率、召回率、F1分数方面我们也有了一个显著的提高，而且相比损失，F1分数和召回率的提升程度更高。说明通过加权解决样本不均衡的问题之后，我们的模型是有明显改善的。\n",
    "\n",
    "但如果我们的评价准则是损失函数，则不一定适合用这种方法改善模型。"
   ]
  },
  {
   "cell_type": "code",
   "execution_count": null,
   "metadata": {},
   "outputs": [],
   "source": []
  }
 ],
 "metadata": {
  "kernelspec": {
   "display_name": "Python 3",
   "language": "python",
   "name": "python3"
  },
  "language_info": {
   "codemirror_mode": {
    "name": "ipython",
    "version": 3
   },
   "file_extension": ".py",
   "mimetype": "text/x-python",
   "name": "python",
   "nbconvert_exporter": "python",
   "pygments_lexer": "ipython3",
   "version": "3.7.3"
  },
  "latex_envs": {
   "LaTeX_envs_menu_present": true,
   "autoclose": false,
   "autocomplete": true,
   "bibliofile": "biblio.bib",
   "cite_by": "apalike",
   "current_citInitial": 1,
   "eqLabelWithNumbers": true,
   "eqNumInitial": 1,
   "hotkeys": {
    "equation": "Ctrl-E",
    "itemize": "Ctrl-I"
   },
   "labels_anchors": false,
   "latex_user_defs": false,
   "report_style_numbering": true,
   "user_envs_cfg": false
  },
  "varInspector": {
   "cols": {
    "lenName": 16,
    "lenType": 16,
    "lenVar": 40
   },
   "kernels_config": {
    "python": {
     "delete_cmd_postfix": "",
     "delete_cmd_prefix": "del ",
     "library": "var_list.py",
     "varRefreshCmd": "print(var_dic_list())"
    },
    "r": {
     "delete_cmd_postfix": ") ",
     "delete_cmd_prefix": "rm(",
     "library": "var_list.r",
     "varRefreshCmd": "cat(var_dic_list()) "
    }
   },
   "types_to_exclude": [
    "module",
    "function",
    "builtin_function_or_method",
    "instance",
    "_Feature"
   ],
   "window_display": false
  }
 },
 "nbformat": 4,
 "nbformat_minor": 2
}
