{
 "cells": [
  {
   "cell_type": "markdown",
   "metadata": {},
   "source": [
    "# 神经网络\n",
    "\n",
    "## 一、概念\n",
    "\n",
    "神经网络由多层神经元组织，最初的神经网络相当于多个逻辑回归的合并，现在已经有了长足的发展"
   ]
  },
  {
   "cell_type": "code",
   "execution_count": 6,
   "metadata": {
    "ExecuteTime": {
     "end_time": "2019-02-24T08:32:48.578796Z",
     "start_time": "2019-02-24T08:32:48.477787Z"
    }
   },
   "outputs": [
    {
     "data": {
      "text/html": [
       "<div>\n",
       "<style scoped>\n",
       "    .dataframe tbody tr th:only-of-type {\n",
       "        vertical-align: middle;\n",
       "    }\n",
       "\n",
       "    .dataframe tbody tr th {\n",
       "        vertical-align: top;\n",
       "    }\n",
       "\n",
       "    .dataframe thead th {\n",
       "        text-align: right;\n",
       "    }\n",
       "</style>\n",
       "<table border=\"1\" class=\"dataframe\">\n",
       "  <thead>\n",
       "    <tr style=\"text-align: right;\">\n",
       "      <th></th>\n",
       "      <th>fixed acidity</th>\n",
       "      <th>volatile acidity</th>\n",
       "      <th>citric acid</th>\n",
       "      <th>residual sugar</th>\n",
       "      <th>chlorides</th>\n",
       "      <th>free sulfur dioxide</th>\n",
       "      <th>total sulfur dioxide</th>\n",
       "      <th>density</th>\n",
       "      <th>pH</th>\n",
       "      <th>sulphates</th>\n",
       "      <th>alcohol</th>\n",
       "      <th>quality</th>\n",
       "    </tr>\n",
       "  </thead>\n",
       "  <tbody>\n",
       "    <tr>\n",
       "      <th>0</th>\n",
       "      <td>7.0</td>\n",
       "      <td>0.27</td>\n",
       "      <td>0.36</td>\n",
       "      <td>20.7</td>\n",
       "      <td>0.045</td>\n",
       "      <td>45.0</td>\n",
       "      <td>170.0</td>\n",
       "      <td>1.0010</td>\n",
       "      <td>3.00</td>\n",
       "      <td>0.45</td>\n",
       "      <td>8.8</td>\n",
       "      <td>6</td>\n",
       "    </tr>\n",
       "    <tr>\n",
       "      <th>1</th>\n",
       "      <td>6.3</td>\n",
       "      <td>0.30</td>\n",
       "      <td>0.34</td>\n",
       "      <td>1.6</td>\n",
       "      <td>0.049</td>\n",
       "      <td>14.0</td>\n",
       "      <td>132.0</td>\n",
       "      <td>0.9940</td>\n",
       "      <td>3.30</td>\n",
       "      <td>0.49</td>\n",
       "      <td>9.5</td>\n",
       "      <td>6</td>\n",
       "    </tr>\n",
       "    <tr>\n",
       "      <th>2</th>\n",
       "      <td>8.1</td>\n",
       "      <td>0.28</td>\n",
       "      <td>0.40</td>\n",
       "      <td>6.9</td>\n",
       "      <td>0.050</td>\n",
       "      <td>30.0</td>\n",
       "      <td>97.0</td>\n",
       "      <td>0.9951</td>\n",
       "      <td>3.26</td>\n",
       "      <td>0.44</td>\n",
       "      <td>10.1</td>\n",
       "      <td>6</td>\n",
       "    </tr>\n",
       "    <tr>\n",
       "      <th>3</th>\n",
       "      <td>7.2</td>\n",
       "      <td>0.23</td>\n",
       "      <td>0.32</td>\n",
       "      <td>8.5</td>\n",
       "      <td>0.058</td>\n",
       "      <td>47.0</td>\n",
       "      <td>186.0</td>\n",
       "      <td>0.9956</td>\n",
       "      <td>3.19</td>\n",
       "      <td>0.40</td>\n",
       "      <td>9.9</td>\n",
       "      <td>6</td>\n",
       "    </tr>\n",
       "    <tr>\n",
       "      <th>4</th>\n",
       "      <td>7.2</td>\n",
       "      <td>0.23</td>\n",
       "      <td>0.32</td>\n",
       "      <td>8.5</td>\n",
       "      <td>0.058</td>\n",
       "      <td>47.0</td>\n",
       "      <td>186.0</td>\n",
       "      <td>0.9956</td>\n",
       "      <td>3.19</td>\n",
       "      <td>0.40</td>\n",
       "      <td>9.9</td>\n",
       "      <td>6</td>\n",
       "    </tr>\n",
       "  </tbody>\n",
       "</table>\n",
       "</div>"
      ],
      "text/plain": [
       "   fixed acidity  volatile acidity  citric acid  residual sugar  chlorides  \\\n",
       "0            7.0              0.27         0.36            20.7      0.045   \n",
       "1            6.3              0.30         0.34             1.6      0.049   \n",
       "2            8.1              0.28         0.40             6.9      0.050   \n",
       "3            7.2              0.23         0.32             8.5      0.058   \n",
       "4            7.2              0.23         0.32             8.5      0.058   \n",
       "\n",
       "   free sulfur dioxide  total sulfur dioxide  density    pH  sulphates  \\\n",
       "0                 45.0                 170.0   1.0010  3.00       0.45   \n",
       "1                 14.0                 132.0   0.9940  3.30       0.49   \n",
       "2                 30.0                  97.0   0.9951  3.26       0.44   \n",
       "3                 47.0                 186.0   0.9956  3.19       0.40   \n",
       "4                 47.0                 186.0   0.9956  3.19       0.40   \n",
       "\n",
       "   alcohol  quality  \n",
       "0      8.8        6  \n",
       "1      9.5        6  \n",
       "2     10.1        6  \n",
       "3      9.9        6  \n",
       "4      9.9        6  "
      ]
     },
     "execution_count": 6,
     "metadata": {},
     "output_type": "execute_result"
    }
   ],
   "source": [
    "import pandas as pd\n",
    "import numpy as np\n",
    "\n",
    "data = pd.read_csv('winequality-white.csv', sep=';')\n",
    "data.head(5)"
   ]
  },
  {
   "cell_type": "code",
   "execution_count": 10,
   "metadata": {
    "ExecuteTime": {
     "end_time": "2019-02-24T08:40:29.852162Z",
     "start_time": "2019-02-24T08:40:29.824641Z"
    }
   },
   "outputs": [],
   "source": [
    "n = data.shape[0]\n",
    "p = data.shape[1]-1\n",
    "\n",
    "np.random.seed(2099)\n",
    "index = np.random.permutation(n)\n",
    "\n",
    "n_train = int(0.7*n)\n",
    "train_index = index[0: n_train]\n",
    "test_index = index[n_train: n]\n",
    "\n",
    "train = data.iloc[train_index]\n",
    "test = data.iloc[test_index]\n",
    "\n",
    "train_x = train.drop('quality', axis=1)\n",
    "train_x = np.array(train_x).reshape([n_train, p])\n",
    "test_x = test.drop('quality', axis=1)\n",
    "test_x = np.array(test_x).reshape([n - n_train, p])\n",
    "\n",
    "train_y = np.array(train['quality']).reshape([n_train, 1])\n",
    "test_y = np.array(test['quality']).reshape([n-n_train, 1])"
   ]
  },
  {
   "cell_type": "code",
   "execution_count": 14,
   "metadata": {
    "ExecuteTime": {
     "end_time": "2019-02-24T08:41:50.165077Z",
     "start_time": "2019-02-24T08:41:50.157072Z"
    }
   },
   "outputs": [],
   "source": [
    "def soft_max(z):\n",
    "    \"\"\"\n",
    "    :param z: input, an p*n matrix\n",
    "    :return: p*n matrix\n",
    "    \"\"\"\n",
    "    e = np.exp(z)\n",
    "    total = np.sum(e, axis=0, keepdims=True)\n",
    "    weight = e / total\n",
    "\n",
    "    return weight"
   ]
  },
  {
   "cell_type": "code",
   "execution_count": 15,
   "metadata": {
    "ExecuteTime": {
     "end_time": "2019-02-24T08:41:50.802922Z",
     "start_time": "2019-02-24T08:41:50.794919Z"
    }
   },
   "outputs": [],
   "source": [
    "def accuracy(y, y_hat):\n",
    "    y = np.argmax(y, axis=0)\n",
    "    y_hat = np.argmax(y_hat, axis=0)\n",
    "\n",
    "    return sum(y == y_hat)/len(y)"
   ]
  },
  {
   "cell_type": "code",
   "execution_count": 16,
   "metadata": {
    "ExecuteTime": {
     "end_time": "2019-02-24T08:41:51.324818Z",
     "start_time": "2019-02-24T08:41:51.312827Z"
    }
   },
   "outputs": [],
   "source": [
    "def likelihood(y, y_hat):\n",
    "    \"\"\"\n",
    "    :param y: the ture value\n",
    "    :param y_hat: the predicted value\n",
    "    :return: minimizing loss is the same as maximizing likelihood function, so we spare np.log\n",
    "    \"\"\"\n",
    "    number = y.shape[1]\n",
    "    \n",
    "    return np.sum(y * y_hat) / number"
   ]
  },
  {
   "cell_type": "code",
   "execution_count": 17,
   "metadata": {
    "ExecuteTime": {
     "end_time": "2019-02-24T08:41:52.097057Z",
     "start_time": "2019-02-24T08:41:52.085072Z"
    }
   },
   "outputs": [],
   "source": [
    "def leaky_relu(x, k=0.3):\n",
    "    \n",
    "    return (x>0)*x + k*(x<0)*x"
   ]
  },
  {
   "cell_type": "code",
   "execution_count": 18,
   "metadata": {
    "ExecuteTime": {
     "end_time": "2019-02-24T08:41:52.762353Z",
     "start_time": "2019-02-24T08:41:52.751794Z"
    }
   },
   "outputs": [],
   "source": [
    "def d_leaky_relu(x, k=0.3):\n",
    "\n",
    "    return (x > 0) + k*(x<0)"
   ]
  },
  {
   "cell_type": "code",
   "execution_count": 19,
   "metadata": {
    "ExecuteTime": {
     "end_time": "2019-02-24T08:41:53.281862Z",
     "start_time": "2019-02-24T08:41:53.269864Z"
    }
   },
   "outputs": [],
   "source": [
    "def init_w(b, a):\n",
    "    w = np.random.randn(a * b)\n",
    "    w = np.reshape(w, [b, a])\n",
    "    return w"
   ]
  },
  {
   "cell_type": "code",
   "execution_count": 20,
   "metadata": {
    "ExecuteTime": {
     "end_time": "2019-02-24T08:41:53.712369Z",
     "start_time": "2019-02-24T08:41:53.704857Z"
    }
   },
   "outputs": [],
   "source": [
    "def init_b(b):\n",
    "    bias = np.zeros([b, 1])\n",
    "    return bias"
   ]
  },
  {
   "cell_type": "code",
   "execution_count": 21,
   "metadata": {
    "ExecuteTime": {
     "end_time": "2019-02-24T08:42:20.524530Z",
     "start_time": "2019-02-24T08:42:20.511474Z"
    }
   },
   "outputs": [],
   "source": [
    "def forward(x, parameter, cache):\n",
    "    \"\"\"\n",
    "    :param x:input data p*n matrix\n",
    "    :param parameter: a dict storing parameters\n",
    "    :param cache: a dict storing computation result of each layer\n",
    "    :return: the predicted value\n",
    "    \"\"\"\n",
    "    cache['C1'] = np.dot(parameter['W1'], x) + parameter['b1']\n",
    "    cache['A1'] = leaky_relu(cache['C1'])\n",
    "    cache['C2'] = np.dot(parameter['W2'], cache['A1']) + parameter['b2']\n",
    "    cache['A2'] = leaky_relu(cache['C2'])\n",
    "    cache['C3'] = np.dot(parameter['W3'], cache['A2']) + parameter['b3']\n",
    "    cache['A3'] = soft_max(cache['C3'])\n",
    "\n",
    "    return cache"
   ]
  },
  {
   "cell_type": "code",
   "execution_count": 22,
   "metadata": {
    "ExecuteTime": {
     "end_time": "2019-02-24T08:42:21.466504Z",
     "start_time": "2019-02-24T08:42:21.434996Z"
    }
   },
   "outputs": [],
   "source": [
    "def back_propagation(x, y, parameter, cache, step):\n",
    "    \"\"\"\n",
    "    X 784*n / Y 10*n\n",
    "    dW1 W1 800*784, db1 b1 800*1, A1 C1, 800*n\n",
    "    dW2 W2 400*800, db2 b2 400*1, A2 C2, 400*n\n",
    "    dW3 W3 10*400, db3 b3 10*1, A3 C3, 10*n\n",
    "    :param y: true value\n",
    "    :param parameter: dictionary storing all parameters\n",
    "    :param cache: dictionary storing all the computation in process\n",
    "    :param step: learning rate\n",
    "    :return: updated parameters\n",
    "    \"\"\"\n",
    "    number = y.shape[1]\n",
    "    cache['dC3'] = cache['A3'] - y  # 10*n\n",
    "    cache['dW3'] = np.dot(cache['dC3'], cache['A2'].T)/number  # 10*400\n",
    "    cache['db3'] = np.sum(cache['dC3'], axis=1, keepdims=True)/number  # 10*1\n",
    "    \n",
    "    parameter['W3'] = parameter['W3'] - step*cache['dW3']  # 10*400\n",
    "    parameter['b3'] = parameter['b3'] - step*cache['db3']  # 10*1\n",
    "\n",
    "    cache['dC2'] = np.dot(parameter['W3'].T, cache['dC3'])*d_leaky_relu(cache['C2'])  # 400*n\n",
    "    cache['dW2'] = np.dot(cache['dC2'], cache['A1'].T)/number  # 400*800\n",
    "    cache['db2'] = np.sum(cache['dC2'], axis=1, keepdims=True)/number  # 400*1\n",
    "\n",
    "    parameter['W2'] = parameter['W2'] - step*cache['dW2']  # 400*800\n",
    "    parameter['b2'] = parameter['b2'] - step*cache['db2']  # 400*1\n",
    "\n",
    "    cache['dC1'] = np.dot(parameter['W2'].T, cache['dC2'])*d_leaky_relu(cache['C1'])  # 800*n\n",
    "    cache['dW1'] = np.dot(cache['dC1'], x.T)/number  # 800*784\n",
    "    cache['db1'] = np.sum(cache['dC1'], axis=1, keepdims=True)  # 800*1\n",
    "\n",
    "    parameter['W1'] = parameter['W1'] - step*cache['dW1']  # 800*784\n",
    "    parameter['b1'] = parameter['b1'] - step*cache['db1']  # 800*1\n",
    "\n",
    "    return cache, parameter"
   ]
  },
  {
   "cell_type": "code",
   "execution_count": 23,
   "metadata": {
    "ExecuteTime": {
     "end_time": "2019-02-24T08:42:28.368679Z",
     "start_time": "2019-02-24T08:42:28.345168Z"
    }
   },
   "outputs": [],
   "source": [
    "def train(x, y, learning_rate=0.001, batch_size=128, epoch=5):\n",
    "    \"\"\"\n",
    "    :param x: training data\n",
    "    :param y: training label\n",
    "    :param learning_rate: the length of a step\n",
    "    :param batch_size: numbers of samples we train in a round\n",
    "    :param epoch: rounds we train through training data\n",
    "    :return: a trained set of parameters\n",
    "    \"\"\"\n",
    "    parameter = dict()\n",
    "    nx = x.shape[1]\n",
    "\n",
    "    parameter['W1'] = init_w(800, 784)/100\n",
    "    parameter['b1'] = init_b(800)\n",
    "    parameter['W2'] = init_w(400, 800)/100\n",
    "    parameter['b2'] = init_b(400)\n",
    "    parameter['W3'] = init_w(10, 400)/100\n",
    "    parameter['b3'] = init_b(10)\n",
    "\n",
    "    index = np.array([], dtype='int')\n",
    "\n",
    "    for i in range(0, nx, batch_size):\n",
    "        index = np.append(index, i)\n",
    "\n",
    "    index = np.append(index, nx)\n",
    "\n",
    "    cache = dict()\n",
    "\n",
    "    for i in range(0, epoch):\n",
    "        for j in range(0, int(nx/batch_size)+1):\n",
    "            one_batch_x = x[:, index[j]:index[j+1]]\n",
    "            one_batch_y = y[:, index[j]:index[j+1]]\n",
    "\n",
    "            cache = forward(one_batch_x, parameter, cache)\n",
    "            prob = likelihood(one_batch_y, cache['A3'])\n",
    "\n",
    "            acc = accuracy(one_batch_y, cache['A3'])\n",
    "            \n",
    "            print(str(i)+'--'+str(j)+'--'+str(index[j+1]))\n",
    "            print('likelihood'+str(prob))\n",
    "            print('accuracy'+str(acc))\n",
    "\n",
    "            [cache, parameter] = back_propagation(one_batch_x, one_batch_y, parameter, cache, step=learning_rate)\n",
    "\n",
    "    return cache, parameter"
   ]
  },
  {
   "cell_type": "code",
   "execution_count": null,
   "metadata": {},
   "outputs": [],
   "source": [
    "[cache, parameter] = train(x=train_data.T, y=labels.T, epoch=5)"
   ]
  },
  {
   "cell_type": "code",
   "execution_count": null,
   "metadata": {},
   "outputs": [],
   "source": []
  },
  {
   "cell_type": "code",
   "execution_count": null,
   "metadata": {},
   "outputs": [],
   "source": []
  }
 ],
 "metadata": {
  "kernelspec": {
   "display_name": "Python 3",
   "language": "python",
   "name": "python3"
  },
  "language_info": {
   "codemirror_mode": {
    "name": "ipython",
    "version": 3
   },
   "file_extension": ".py",
   "mimetype": "text/x-python",
   "name": "python",
   "nbconvert_exporter": "python",
   "pygments_lexer": "ipython3",
   "version": "3.6.4"
  },
  "latex_envs": {
   "LaTeX_envs_menu_present": true,
   "autoclose": false,
   "autocomplete": true,
   "bibliofile": "biblio.bib",
   "cite_by": "apalike",
   "current_citInitial": 1,
   "eqLabelWithNumbers": true,
   "eqNumInitial": 1,
   "hotkeys": {
    "equation": "Ctrl-E",
    "itemize": "Ctrl-I"
   },
   "labels_anchors": false,
   "latex_user_defs": false,
   "report_style_numbering": true,
   "user_envs_cfg": false
  },
  "varInspector": {
   "cols": {
    "lenName": 16,
    "lenType": 16,
    "lenVar": 40
   },
   "kernels_config": {
    "python": {
     "delete_cmd_postfix": "",
     "delete_cmd_prefix": "del ",
     "library": "var_list.py",
     "varRefreshCmd": "print(var_dic_list())"
    },
    "r": {
     "delete_cmd_postfix": ") ",
     "delete_cmd_prefix": "rm(",
     "library": "var_list.r",
     "varRefreshCmd": "cat(var_dic_list()) "
    }
   },
   "types_to_exclude": [
    "module",
    "function",
    "builtin_function_or_method",
    "instance",
    "_Feature"
   ],
   "window_display": false
  }
 },
 "nbformat": 4,
 "nbformat_minor": 2
}
