{
 "cells": [
  {
   "cell_type": "markdown",
   "metadata": {},
   "source": [
    "# Classification and Regresssion Trees(Classification)\n",
    "\n",
    "## 一、概念\n",
    "\n",
    "决策树是一种经典且当前应用依然十分活跃的算法，用简单的一句话概括决策树的训练过程就是不停划分变量空间最后得到函数映射。就像分段函数一样:\n",
    "\n",
    "$$\n",
    "sign(x)=\\begin{cases}\n",
    "1 & x>0\\\\\n",
    "-1 & x\\le 0\n",
    "\\end{cases}\n",
    "$$\n",
    "\n",
    "我们可以看到这样的分类具有完备和互斥地性质，这意味着对于样本空间内的输入都有且仅有一个输出。\n",
    "\n",
    "如果你熟悉数据结构，那么决策树是通常一个完全二叉树，如果不熟悉也没关系。\n",
    "\n",
    "决策树有以下要点：\n",
    "\n",
    "1. 组织形式——树，\n",
    "\n",
    "2. 划分准则——信息增益、基尼系数等，本质都是衡量“不纯度”\n",
    "\n",
    "3. 增长方式——通过不断地选择变量进行划分然后生成子树\n",
    "\n",
    "4. 剪枝——防止过拟合\n",
    "\n",
    "譬如我们有一组数据，判断病人是否可能患病，决策树可能就会通过判断年龄是否大于50，血压血糖是否大于某个值来进行判断，也因此决策树具有很强的可解释性，展示起来十分直观"
   ]
  },
  {
   "cell_type": "markdown",
   "metadata": {},
   "source": [
    "## 二、训练\n",
    "\n",
    "### 1.组织形式\n",
    "\n",
    "树依靠节点之间的关系来组织。因为暂时不方便传图，所以不赘述。根节点为1，父节点和子节点之间有如下关系式：\n",
    "\n",
    "$$\n",
    "\\begin{split}\n",
    "    parent(i) = \\lfloor \\frac i2 \\rfloor \\\\\n",
    "    left-child(i) = 2i \\\\\n",
    "    right-child(i) = 2i+1\n",
    "\\end{split}\n",
    "$$\n",
    "\n",
    "### 2.划分准则\n",
    "\n",
    "衡量不纯度的指标有很多，不同的决策树算法会选用不同的指标，比如经典的ID3树和C4.5选用信息熵作为划分准则，而CART分类树选用基尼系数。\n",
    "\n",
    "基尼系数：假设有K个类，样本点属于第i类的概率为$p_i$，概率分布的基尼系数定义为：\n",
    "\n",
    "$$\n",
    "Gini(p) = \\sum_{i=1}^K p_i(1-p_i) = 1 - \\sum_{i=1}^K p_i^2\n",
    "$$\n",
    "\n",
    "对于给定的样本集合D，其基尼系数为：\n",
    "\n",
    "$$\n",
    "Gini(D) = 1 - \\sum_{i=1}^K \\left(\\frac {|C_i|}{|D|} \\right)^2\n",
    "$$\n",
    "\n",
    "其中$C_i$是样本中属于第i类的样本子集，K是类的个数。\n",
    "\n",
    "如果样本集合D根据特征A是否去某一可能值a被分割成$D_1$和$D_2$两个子集，则在特征A取值a的情况下集合D的基尼系数定义为：\n",
    "\n",
    "$$\n",
    "Gini(D,A=a) = \\frac{|D_1|}{|D|}Gini(D_1) + \\frac{|D_2|}{|D|}Gini(D_2)\n",
    "$$\n",
    "\n",
    "\n",
    "\n",
    "### 3.增长方式\n",
    "\n",
    "有了组织形式和划分准则之后，我们就要考虑如何让这棵树“生长”。\n",
    "\n",
    "以二分类为例，易知基尼系数的最大值是0.5，当且仅当取值0或1的概率都为0.5，也就是变量取值0和1的概率一样大。此时模型的输出可以视为随机的，应用在样本集合中也就是0和1的样本一样多，此时进行预测的结果和抛硬币无异，这显然不是我们想要的。\n",
    "\n",
    "而当基尼系数的取到最小值0时，可知有取值为0或1的概率中一个为0，一个为1，也就是变量取值是确定的，此时模型的输出是固定的，应用在样本集合中也就是只有0或1的样本，此时进行预测的结果是确定的，这才是我们希望得到的。\n",
    "\n",
    "因此我们可以发现基尼系数越大表示样本D的不确定性越大，所以我们希望**随着树的生长，基尼系数以最快的速度下降**。\n",
    "\n",
    "\n",
    "以下表的数据为例，变量A是连续变量，变量B是离散变量：\n",
    "\n",
    "|索引|变量A|变量B|标签|\n",
    "|----|-----|-----|----|\n",
    "|1   |2.1  |1    |1   |\n",
    "|2   |2.2  |1    |1   |\n",
    "|3   |1.8  |1    |0   |\n",
    "|4   |2.0  |1    |0   |\n",
    "|5   |1.6  |1    |1   |\n",
    "|6   |2.8  |2    |1   |\n",
    "|7   |1.3  |2    |0   |\n",
    "|8   |0.1  |2    |0   |\n",
    "|9   |3.8  |2    |1   |\n",
    "|10  |2.9  |2    |1   |\n",
    "|11  |0.5  |3    |0   |\n",
    "|12  |2.7  |3    |1   |\n",
    "|13  |0.9  |3    |0   |\n",
    "|14  |1.4  |3    |0   |\n",
    "|15  |1.2  |3    |0   |\n",
    "\n",
    "#### 对离散变量\n",
    "\n",
    "$$\n",
    "\\begin{split}\n",
    "    Gini(D,B=1) = \\frac{5}{15}\\times\\left(1-\\left(\\frac35\\right)^2-\\left(\\frac25\\right)^2\\right) + \\frac{10}{15}\\times \\left(1-\\left(\\frac{4}{10}\\right)^2-\\left(\\frac{6}{10}\\right)^2\\right)=\\frac{12}{25}\\\\\n",
    "    Gini(D,B=2) = \\frac{12}{25}\\\\\n",
    "    Gini(D,B=3) = \\frac{32}{75} < \\frac{36}{75} = \\frac{12}{25}\n",
    "\\end{split}\n",
    "$$\n",
    "\n",
    "于是我们将B是否等于3作为划分条件生成两个子节点，或者直接将B作为叶节点，B等于3则预测0，B不等于3则预测1.\n",
    "\n",
    "#### 对连续变量\n",
    "\n",
    "连续变量的情况就会稍复杂一些，这由连续变量的特点决定，连续变量是稠密的，很可能一个样本集合内的某一连续变量没有两个相同的值，此时划分按照变量是否等于某个值进行则极为不合理，于是划分取值则按照变量是否小于（小于等于）某个值进行。这和大于等于（大于）是完全等价的。\n",
    "\n",
    "决策树的特点决定，决策树从根节点到叶节点的划分变量和划分取值都**以使基尼系数下降最大为目标**，这意味着决策树是确定的，每一个划分都是最优的。而对于连续变量的最优划分，则需要遍历连续变量的每个取值（大多数情况下也是遍历整个样本），然后选出最优划分条件。\n",
    "\n",
    "以表中数据为例，连续变量A的最优划分条件是$I\\{A\\le 2.0\\}$（我是这么设计的...）\n",
    "\n",
    "$$\n",
    "Gini(D,A\\le 2.0) = \\frac{9}{15}\\left(1-\\left(\\frac19\\right)^2 - \\left(\\frac89 \\right)^2\\right) + \\frac{6}{15}\\left(1-\\left(\\frac66\\right)^2 - \\left(\\frac06 \\right)^2\\right) = \\frac{16}{135}\n",
    "$$\n",
    "\n",
    "#### 停止\n",
    "\n",
    "每次划分节点时，使用一个变量，在此节点的子树下，当前划分变量不会再次出现，当划分变量用完时树的生长就会自然停止。\n",
    "\n",
    "这样生成的树极有可能会过拟合，有两种解决方法：一是早停法，即是不把所有变量用来生成划分条件，只选择部分变量进行划分，然而这样生成的决策树不具有确定性，因为随机种子不同，选择的变量也不同；另一种解决方法则是对决策树进行剪枝。\n",
    "\n",
    "### 4.剪枝\n",
    "\n",
    "剪枝相关还不熟练，暂时跳过。"
   ]
  },
  {
   "cell_type": "markdown",
   "metadata": {},
   "source": [
    "## 三、应用\n",
    "\n",
    "直接上真实数据集可能比较玄学，先用先前的数据集进行验证："
   ]
  },
  {
   "cell_type": "code",
   "execution_count": 2,
   "metadata": {
    "ExecuteTime": {
     "end_time": "2019-03-09T10:51:02.286350Z",
     "start_time": "2019-03-09T10:50:59.400545Z"
    }
   },
   "outputs": [
    {
     "data": {
      "text/html": [
       "<div>\n",
       "<style scoped>\n",
       "    .dataframe tbody tr th:only-of-type {\n",
       "        vertical-align: middle;\n",
       "    }\n",
       "\n",
       "    .dataframe tbody tr th {\n",
       "        vertical-align: top;\n",
       "    }\n",
       "\n",
       "    .dataframe thead th {\n",
       "        text-align: right;\n",
       "    }\n",
       "</style>\n",
       "<table border=\"1\" class=\"dataframe\">\n",
       "  <thead>\n",
       "    <tr style=\"text-align: right;\">\n",
       "      <th></th>\n",
       "      <th>A</th>\n",
       "      <th>B</th>\n",
       "      <th>label</th>\n",
       "    </tr>\n",
       "  </thead>\n",
       "  <tbody>\n",
       "    <tr>\n",
       "      <th>0</th>\n",
       "      <td>2.1</td>\n",
       "      <td>1</td>\n",
       "      <td>1</td>\n",
       "    </tr>\n",
       "    <tr>\n",
       "      <th>1</th>\n",
       "      <td>2.2</td>\n",
       "      <td>1</td>\n",
       "      <td>1</td>\n",
       "    </tr>\n",
       "    <tr>\n",
       "      <th>2</th>\n",
       "      <td>1.8</td>\n",
       "      <td>1</td>\n",
       "      <td>0</td>\n",
       "    </tr>\n",
       "    <tr>\n",
       "      <th>3</th>\n",
       "      <td>2.0</td>\n",
       "      <td>1</td>\n",
       "      <td>0</td>\n",
       "    </tr>\n",
       "    <tr>\n",
       "      <th>4</th>\n",
       "      <td>1.6</td>\n",
       "      <td>1</td>\n",
       "      <td>1</td>\n",
       "    </tr>\n",
       "    <tr>\n",
       "      <th>5</th>\n",
       "      <td>2.8</td>\n",
       "      <td>2</td>\n",
       "      <td>1</td>\n",
       "    </tr>\n",
       "    <tr>\n",
       "      <th>6</th>\n",
       "      <td>1.3</td>\n",
       "      <td>2</td>\n",
       "      <td>0</td>\n",
       "    </tr>\n",
       "    <tr>\n",
       "      <th>7</th>\n",
       "      <td>0.1</td>\n",
       "      <td>2</td>\n",
       "      <td>0</td>\n",
       "    </tr>\n",
       "    <tr>\n",
       "      <th>8</th>\n",
       "      <td>3.8</td>\n",
       "      <td>2</td>\n",
       "      <td>1</td>\n",
       "    </tr>\n",
       "    <tr>\n",
       "      <th>9</th>\n",
       "      <td>2.9</td>\n",
       "      <td>2</td>\n",
       "      <td>1</td>\n",
       "    </tr>\n",
       "    <tr>\n",
       "      <th>10</th>\n",
       "      <td>0.5</td>\n",
       "      <td>3</td>\n",
       "      <td>0</td>\n",
       "    </tr>\n",
       "    <tr>\n",
       "      <th>11</th>\n",
       "      <td>2.7</td>\n",
       "      <td>3</td>\n",
       "      <td>1</td>\n",
       "    </tr>\n",
       "    <tr>\n",
       "      <th>12</th>\n",
       "      <td>0.9</td>\n",
       "      <td>3</td>\n",
       "      <td>0</td>\n",
       "    </tr>\n",
       "    <tr>\n",
       "      <th>13</th>\n",
       "      <td>1.4</td>\n",
       "      <td>3</td>\n",
       "      <td>0</td>\n",
       "    </tr>\n",
       "    <tr>\n",
       "      <th>14</th>\n",
       "      <td>1.2</td>\n",
       "      <td>3</td>\n",
       "      <td>0</td>\n",
       "    </tr>\n",
       "  </tbody>\n",
       "</table>\n",
       "</div>"
      ],
      "text/plain": [
       "      A  B  label\n",
       "0   2.1  1      1\n",
       "1   2.2  1      1\n",
       "2   1.8  1      0\n",
       "3   2.0  1      0\n",
       "4   1.6  1      1\n",
       "5   2.8  2      1\n",
       "6   1.3  2      0\n",
       "7   0.1  2      0\n",
       "8   3.8  2      1\n",
       "9   2.9  2      1\n",
       "10  0.5  3      0\n",
       "11  2.7  3      1\n",
       "12  0.9  3      0\n",
       "13  1.4  3      0\n",
       "14  1.2  3      0"
      ]
     },
     "execution_count": 2,
     "metadata": {},
     "output_type": "execute_result"
    }
   ],
   "source": [
    "import numpy as np\n",
    "import pandas as pd\n",
    "from scipy import stats\n",
    "\n",
    "test_data = pd.DataFrame({\n",
    "    'A':[2.1, 2.2, 1.8, 2.0, 1.6, 2.8, 1.3, 0.1, 3.8, 2.9, 0.5, 2.7, 0.9, 1.4, 1.2],\n",
    "    'B':[1, 1, 1, 1, 1, 2, 2, 2, 2, 2, 3, 3, 3, 3, 3],\n",
    "    'label':[1, 1, 0, 0, 1, 1, 0, 0, 1, 1, 0, 1, 0, 0, 0]\n",
    "})\n",
    "test_data"
   ]
  },
  {
   "cell_type": "code",
   "execution_count": 3,
   "metadata": {
    "ExecuteTime": {
     "end_time": "2019-03-09T10:51:22.861420Z",
     "start_time": "2019-03-09T10:51:22.848422Z"
    }
   },
   "outputs": [
    {
     "name": "stdout",
     "output_type": "stream",
     "text": [
      "0.4977777777777777\n"
     ]
    }
   ],
   "source": [
    "def Gini(data, labels, index, target='label'):\n",
    "    data = data.loc[index]\n",
    "    n = data.shape[0]\n",
    "\n",
    "    gini = 1\n",
    "    \n",
    "    for label in labels:\n",
    "        p = np.sum(data[target] == label)/n\n",
    "        gini -= p*p\n",
    "    \n",
    "    return gini\n",
    "\n",
    "print(Gini(data=test_data, labels=[0, 1], index=np.linspace(0, 14, 15)))"
   ]
  },
  {
   "cell_type": "code",
   "execution_count": 4,
   "metadata": {
    "ExecuteTime": {
     "end_time": "2019-03-09T10:51:24.621472Z",
     "start_time": "2019-03-09T10:51:24.572475Z"
    },
    "code_folding": [
     0
    ]
   },
   "outputs": [
    {
     "name": "stdout",
     "output_type": "stream",
     "text": [
      "0.4266666666666665\n",
      "0.4266666666666667\n",
      "0.11851851851851854\n",
      "0.11851851851851852\n"
     ]
    }
   ],
   "source": [
    "def conditional_gini(data, labels, split_variable, split_value, target='label', discrete=True):\n",
    "    #data = data.loc[index]\n",
    "    n = data.shape[0]\n",
    "    if discrete:\n",
    "        index1 = data[data[split_variable]==split_value].index\n",
    "        index2 = data[data[split_variable]!=split_value].index\n",
    "        \n",
    "        gini1 = Gini(data=data, labels=labels, index=index1, target=target)\n",
    "        gini2 = Gini(data=data, labels=labels, index=index2, target=target)\n",
    "        \n",
    "        gini = len(index1)/n*gini1 + len(index2)/n*gini2\n",
    "        \n",
    "        return gini\n",
    "    else:\n",
    "        index1 = data[data[split_variable]<=split_value].index\n",
    "        index2 = data[data[split_variable]>split_value].index\n",
    "        \n",
    "        gini1 = Gini(data=data, labels=labels, index=index1, target=target)\n",
    "        gini2 = Gini(data=data, labels=labels, index=index2, target=target)\n",
    "        \n",
    "        gini = len(index1)/n*gini1 + len(index2)/n*gini2\n",
    "\n",
    "        return gini\n",
    "\n",
    "print(conditional_gini(data=test_data, labels=[0,1], split_variable='B', split_value=3))\n",
    "print(32/75)\n",
    "print(conditional_gini(data=test_data, labels=[0,1], split_variable='A', split_value=2, discrete=False))\n",
    "print(16/135)"
   ]
  },
  {
   "cell_type": "code",
   "execution_count": 5,
   "metadata": {
    "ExecuteTime": {
     "end_time": "2019-03-09T10:51:26.617283Z",
     "start_time": "2019-03-09T10:51:26.306325Z"
    },
    "code_folding": [
     0
    ]
   },
   "outputs": [
    {
     "name": "stderr",
     "output_type": "stream",
     "text": [
      "c:\\users\\37922\\appdata\\local\\programs\\python\\python36\\lib\\site-packages\\ipykernel_launcher.py:8: RuntimeWarning: invalid value encountered in longlong_scalars\n",
      "  \n"
     ]
    },
    {
     "name": "stdout",
     "output_type": "stream",
     "text": [
      "(0.11851851851851854, 2.0)\n",
      "(0.4266666666666665, 3)\n"
     ]
    },
    {
     "data": {
      "text/plain": [
       "(0.11851851851851854, 2.0)"
      ]
     },
     "execution_count": 5,
     "metadata": {},
     "output_type": "execute_result"
    }
   ],
   "source": [
    "def split_value(data, variable, target, discrete=True):\n",
    "    labels = np.unique(data[target])\n",
    "    #data = data.loc[index]\n",
    "    gini = 1\n",
    "    \n",
    "    if discrete:\n",
    "        values = np.unique(data[variable])\n",
    "    else:\n",
    "        values = data[variable].copy()\n",
    "    split_value = values[0]\n",
    "    for value in values:\n",
    "        tmp = conditional_gini(data=data, labels=labels, split_variable=variable, split_value=value, target=target, discrete=discrete)\n",
    "        if tmp < gini:\n",
    "            gini = tmp\n",
    "            split_value = value\n",
    "        else:\n",
    "            continue\n",
    "    \n",
    "    return gini, split_value\n",
    "\n",
    "a, b = split_value(data=test_data, variable='A', target='label', discrete=False)\n",
    "print(split_value(data=test_data, variable='A', target='label', discrete=False))\n",
    "print(split_value(data=test_data, variable='B', target='label', discrete=True))\n",
    "a, b"
   ]
  },
  {
   "cell_type": "code",
   "execution_count": 20,
   "metadata": {
    "ExecuteTime": {
     "end_time": "2019-03-09T11:16:42.750721Z",
     "start_time": "2019-03-09T11:16:42.530745Z"
    },
    "code_folding": []
   },
   "outputs": [
    {
     "name": "stderr",
     "output_type": "stream",
     "text": [
      "c:\\users\\37922\\appdata\\local\\programs\\python\\python36\\lib\\site-packages\\ipykernel_launcher.py:8: RuntimeWarning: invalid value encountered in longlong_scalars\n",
      "  \n"
     ]
    },
    {
     "data": {
      "text/plain": [
       "(0.11851851851851854, 'A', 2.0, False)"
      ]
     },
     "execution_count": 20,
     "metadata": {},
     "output_type": "execute_result"
    }
   ],
   "source": [
    "def split_variable(data, index, target, variable_set):\n",
    "    gini = 1\n",
    "    #data = data.loc[index]\n",
    "    to_split_value = None\n",
    "    to_split_variable = None\n",
    "    \n",
    "    tmp_gini = None\n",
    "    tmp_value = None\n",
    "    var_type = None\n",
    "    \n",
    "    for dtype in variable_set:\n",
    "        discrete = dtype=='discrete'\n",
    "        for variable in variable_set[dtype]:\n",
    "            tmp_gini, tmp_value = split_value(data=data, variable=variable, target=target, discrete=discrete)\n",
    "            #print(tmp_gini)\n",
    "            #print(tmp_value)\n",
    "            if gini > tmp_gini:\n",
    "                gini = tmp_gini\n",
    "                to_split_value = tmp_value\n",
    "                to_split_variable = variable\n",
    "                var_type = discrete\n",
    "    \n",
    "    return gini, to_split_variable, to_split_value, var_type\n",
    "\n",
    "variable_set = {\n",
    "    'discrete':['B'],\n",
    "    'continuous':['A']\n",
    "}\n",
    "split_variable(data=test_data, index=np.linspace(0, 14, 15), target='label', variable_set=variable_set)"
   ]
  },
  {
   "cell_type": "markdown",
   "metadata": {},
   "source": [
    "这次选的数据集是汽车数据集：http://archive.ics.uci.edu/ml/datasets/Car+Evaluation \n",
    "\n",
    "一共有六个变量：\n",
    "\n",
    "- buying：购买的价格，有四个取值，vhigh、high、med、low\n",
    "\n",
    "- maint：保养的价格，有四个取值，vhigh、high、med、low\n",
    "\n",
    "- doors：门的数量，有四个取值，2、3、4、5more\n",
    "\n",
    "- persons：载荷人数，有三个取值，2、4、more\n",
    "\n",
    "- lug_boot：后备箱的尺寸，有三个取值，small、med、big\n",
    "\n",
    "- safety：安全性，有三个取值，low、med、high\n",
    "\n",
    "还有一个标签：\n",
    "\n",
    "- acceptability：可接受程度，有四个取值，unacc、acc、good、vgood\n",
    "\n",
    "就直觉而言，门的数量和载荷人数按照连续变量进行处理更为合适，也有助于演示连续变量的划分。"
   ]
  },
  {
   "cell_type": "code",
   "execution_count": 7,
   "metadata": {
    "ExecuteTime": {
     "end_time": "2019-03-09T10:51:31.801336Z",
     "start_time": "2019-03-09T10:51:31.749346Z"
    }
   },
   "outputs": [
    {
     "data": {
      "text/html": [
       "<div>\n",
       "<style scoped>\n",
       "    .dataframe tbody tr th:only-of-type {\n",
       "        vertical-align: middle;\n",
       "    }\n",
       "\n",
       "    .dataframe tbody tr th {\n",
       "        vertical-align: top;\n",
       "    }\n",
       "\n",
       "    .dataframe thead th {\n",
       "        text-align: right;\n",
       "    }\n",
       "</style>\n",
       "<table border=\"1\" class=\"dataframe\">\n",
       "  <thead>\n",
       "    <tr style=\"text-align: right;\">\n",
       "      <th></th>\n",
       "      <th>buying</th>\n",
       "      <th>maint</th>\n",
       "      <th>doors</th>\n",
       "      <th>persons</th>\n",
       "      <th>lug_boot</th>\n",
       "      <th>safety</th>\n",
       "      <th>acc</th>\n",
       "    </tr>\n",
       "  </thead>\n",
       "  <tbody>\n",
       "    <tr>\n",
       "      <th>0</th>\n",
       "      <td>vhigh</td>\n",
       "      <td>vhigh</td>\n",
       "      <td>2</td>\n",
       "      <td>2</td>\n",
       "      <td>small</td>\n",
       "      <td>low</td>\n",
       "      <td>unacc</td>\n",
       "    </tr>\n",
       "    <tr>\n",
       "      <th>1</th>\n",
       "      <td>vhigh</td>\n",
       "      <td>vhigh</td>\n",
       "      <td>2</td>\n",
       "      <td>2</td>\n",
       "      <td>small</td>\n",
       "      <td>med</td>\n",
       "      <td>unacc</td>\n",
       "    </tr>\n",
       "    <tr>\n",
       "      <th>2</th>\n",
       "      <td>vhigh</td>\n",
       "      <td>vhigh</td>\n",
       "      <td>2</td>\n",
       "      <td>2</td>\n",
       "      <td>small</td>\n",
       "      <td>high</td>\n",
       "      <td>unacc</td>\n",
       "    </tr>\n",
       "    <tr>\n",
       "      <th>3</th>\n",
       "      <td>vhigh</td>\n",
       "      <td>vhigh</td>\n",
       "      <td>2</td>\n",
       "      <td>2</td>\n",
       "      <td>med</td>\n",
       "      <td>low</td>\n",
       "      <td>unacc</td>\n",
       "    </tr>\n",
       "    <tr>\n",
       "      <th>4</th>\n",
       "      <td>vhigh</td>\n",
       "      <td>vhigh</td>\n",
       "      <td>2</td>\n",
       "      <td>2</td>\n",
       "      <td>med</td>\n",
       "      <td>med</td>\n",
       "      <td>unacc</td>\n",
       "    </tr>\n",
       "  </tbody>\n",
       "</table>\n",
       "</div>"
      ],
      "text/plain": [
       "  buying  maint doors persons lug_boot safety    acc\n",
       "0  vhigh  vhigh     2       2    small    low  unacc\n",
       "1  vhigh  vhigh     2       2    small    med  unacc\n",
       "2  vhigh  vhigh     2       2    small   high  unacc\n",
       "3  vhigh  vhigh     2       2      med    low  unacc\n",
       "4  vhigh  vhigh     2       2      med    med  unacc"
      ]
     },
     "execution_count": 7,
     "metadata": {},
     "output_type": "execute_result"
    }
   ],
   "source": [
    "car = pd.read_csv('car.data', header=None, names=['buying','maint','doors','persons','lug_boot','safety','acc'])\n",
    "car.head()"
   ]
  },
  {
   "cell_type": "markdown",
   "metadata": {},
   "source": [
    "计算训练集和测试集的基尼系数"
   ]
  },
  {
   "cell_type": "code",
   "execution_count": 8,
   "metadata": {
    "ExecuteTime": {
     "end_time": "2019-03-09T10:51:34.883465Z",
     "start_time": "2019-03-09T10:51:34.854467Z"
    }
   },
   "outputs": [
    {
     "name": "stdout",
     "output_type": "stream",
     "text": [
      "0.46404653272499263\n",
      "0.4407096795749942\n"
     ]
    }
   ],
   "source": [
    "car = car.replace(['more', '5more'], 6)\n",
    "n = car.shape[0]\n",
    "\n",
    "np.random.seed(2099)\n",
    "index = np.random.permutation(n)\n",
    "train_index = index[0: int(0.7*n)]\n",
    "test_index = index[int(0.7*n): n]\n",
    "\n",
    "labels = np.unique(car['acc'])\n",
    "print(Gini(data=car, labels=labels, index=train_index, target='acc'))\n",
    "print(Gini(data=car, labels=labels, index=test_index, target='acc'))"
   ]
  },
  {
   "cell_type": "markdown",
   "metadata": {},
   "source": [
    "计算以buying为划分变量，‘vhigh’为划分值的基尼系数"
   ]
  },
  {
   "cell_type": "code",
   "execution_count": 9,
   "metadata": {
    "ExecuteTime": {
     "end_time": "2019-03-09T10:51:37.849393Z",
     "start_time": "2019-03-09T10:51:37.822392Z"
    }
   },
   "outputs": [
    {
     "name": "stdout",
     "output_type": "stream",
     "text": [
      "0.45587846574195173\n"
     ]
    }
   ],
   "source": [
    "print(conditional_gini(data=car.loc[train_index], labels=labels, split_variable='buying', split_value='vhigh', target='acc'))"
   ]
  },
  {
   "cell_type": "code",
   "execution_count": 10,
   "metadata": {
    "ExecuteTime": {
     "end_time": "2019-03-09T10:51:38.880227Z",
     "start_time": "2019-03-09T10:51:38.816239Z"
    }
   },
   "outputs": [
    {
     "data": {
      "text/plain": [
       "(0.45587846574195173, 'vhigh')"
      ]
     },
     "execution_count": 10,
     "metadata": {},
     "output_type": "execute_result"
    }
   ],
   "source": [
    "split_value(data=car.loc[train_index], variable='buying', target='acc', discrete=True)"
   ]
  },
  {
   "cell_type": "code",
   "execution_count": 28,
   "metadata": {
    "ExecuteTime": {
     "end_time": "2019-03-09T11:44:24.992972Z",
     "start_time": "2019-03-09T11:44:24.987992Z"
    }
   },
   "outputs": [],
   "source": [
    "variable_set={\n",
    "    'discrete':['buying', 'maint', 'lug_boot', 'safety'],\n",
    "    'continuous':['doors', 'persons']\n",
    "}"
   ]
  },
  {
   "cell_type": "code",
   "execution_count": 12,
   "metadata": {
    "ExecuteTime": {
     "end_time": "2019-03-09T10:52:19.933435Z",
     "start_time": "2019-03-09T10:51:42.921216Z"
    },
    "scrolled": true
   },
   "outputs": [
    {
     "name": "stdout",
     "output_type": "stream",
     "text": [
      "0.44934645776177395\n",
      "vhigh\n",
      "0.44934645776177395\n",
      "vhigh\n",
      "0.45249103813014396\n",
      "small\n",
      "0.386157126093107\n",
      "low\n"
     ]
    },
    {
     "name": "stderr",
     "output_type": "stream",
     "text": [
      "c:\\users\\37922\\appdata\\local\\programs\\python\\python36\\lib\\site-packages\\ipykernel_launcher.py:8: RuntimeWarning: invalid value encountered in longlong_scalars\n",
      "  \n"
     ]
    },
    {
     "name": "stdout",
     "output_type": "stream",
     "text": [
      "0.4558166866712391\n",
      "2\n",
      "0.386157126093107\n",
      "2\n"
     ]
    },
    {
     "data": {
      "text/plain": [
       "(0.386157126093107, 'safety', 'low', True)"
      ]
     },
     "execution_count": 12,
     "metadata": {},
     "output_type": "execute_result"
    }
   ],
   "source": [
    "car['doors'] = car['doors'].astype('int')\n",
    "car['persons'] = car['persons'].astype('int')\n",
    "\n",
    "split_variable(data=car, index=train_index, target='acc', variable_set=variable_set)"
   ]
  },
  {
   "cell_type": "code",
   "execution_count": 46,
   "metadata": {
    "ExecuteTime": {
     "end_time": "2019-03-09T12:22:41.096040Z",
     "start_time": "2019-03-09T12:20:15.679042Z"
    }
   },
   "outputs": [
    {
     "name": "stdout",
     "output_type": "stream",
     "text": [
      "1\n",
      "False\n"
     ]
    },
    {
     "name": "stderr",
     "output_type": "stream",
     "text": [
      "c:\\users\\37922\\appdata\\local\\programs\\python\\python36\\lib\\site-packages\\ipykernel_launcher.py:8: RuntimeWarning: invalid value encountered in longlong_scalars\n",
      "  \n"
     ]
    },
    {
     "name": "stdout",
     "output_type": "stream",
     "text": [
      "safety\n",
      "{'discrete': ['buying', 'maint', 'lug_boot'], 'continuous': ['doors', 'persons']}\n",
      "2\n",
      "True\n",
      "3\n",
      "False\n",
      "persons\n",
      "{'discrete': ['buying', 'maint', 'lug_boot'], 'continuous': ['doors']}\n",
      "6\n",
      "True\n",
      "7\n",
      "False\n",
      "buying\n",
      "{'discrete': ['maint', 'lug_boot'], 'continuous': ['doors']}\n",
      "14\n",
      "False\n",
      "maint\n",
      "{'discrete': ['lug_boot'], 'continuous': ['doors']}\n",
      "28\n",
      "True\n",
      "29\n",
      "False\n",
      "lug_boot\n",
      "{'discrete': [], 'continuous': ['doors']}\n",
      "58\n",
      "False\n",
      "doors\n",
      "{'discrete': [], 'continuous': []}\n",
      "116\n",
      "True\n",
      "117\n",
      "True\n",
      "59\n",
      "True\n",
      "15\n",
      "True\n"
     ]
    }
   ],
   "source": [
    "def build_tree(data, index, variable_set, tree, target, node=1):\n",
    "    \"\"\"\n",
    "    data: all the data\n",
    "    index: the data on which shall be splited, data won't change in recursion but index\n",
    "    variable_set: variables to be split\n",
    "    tree: a dataframe with node, split_variable, split_value, discrete, leaf, prediction\n",
    "    target: the label variable\n",
    "    node: the node of the tree\n",
    "    \"\"\"\n",
    "    tmp = data.iloc[index]\n",
    "    leaf = (len(np.unique(tmp[target]))==1) or ((len(variable_set['discrete'])==0) and (len(variable_set['continuous'])==0))\n",
    "\n",
    "    print(node)\n",
    "    print(leaf)\n",
    "    \n",
    "    if not leaf:\n",
    "        gini, variable, value, discrete = split_variable(data=data, index=index, target=target, variable_set=variable_set)\n",
    "        prediction = stats.mode(tmp[target])[0][0]\n",
    "        if discrete:\n",
    "            variable_set['discrete'].remove(variable)\n",
    "            new_set = variable_set.copy()\n",
    "            index1 = tmp[tmp[variable] == value].index\n",
    "            index2 = tmp[tmp[variable] != value].index\n",
    "        else:\n",
    "            variable_set['continuous'].remove(variable)\n",
    "            new_set = variable_set.copy()\n",
    "            index1 = tmp[tmp[variable] <= value].index\n",
    "            index2 = tmp[tmp[variable] > value].index\n",
    "            \n",
    "        leaf = (len(np.unique(tmp[target]))==1) and (len(variable_set['discrete'])==0) and (len(variable_set['continuous'])==0)\n",
    "        print(variable)\n",
    "        print(new_set)\n",
    "        tree.loc[node] = [variable, value, discrete, leaf, prediction]\n",
    "        build_tree(data=data, index=index1, variable_set=new_set, tree=tree, target='acc', node=node*2)\n",
    "        build_tree(data=data, index=index2, variable_set=new_set, tree=tree, target='acc', node=node*2+1)\n",
    "\n",
    "\n",
    "tree = {\n",
    "    'split_variable':[None],\n",
    "    'split_value':[None],\n",
    "    'discrete':[None],\n",
    "    'leaf':[None],\n",
    "    'prediction': [None]\n",
    "}\n",
    "tree = pd.DataFrame(tree)\n",
    "variable_set={\n",
    "    'discrete':['buying', 'maint', 'lug_boot', 'safety'],\n",
    "    'continuous':['doors', 'persons']\n",
    "}\n",
    "build_tree(data=car, index=train_index, variable_set=variable_set, tree=tree, target='acc')"
   ]
  },
  {
   "cell_type": "code",
   "execution_count": 47,
   "metadata": {
    "ExecuteTime": {
     "end_time": "2019-03-09T12:23:31.383136Z",
     "start_time": "2019-03-09T12:23:31.348144Z"
    }
   },
   "outputs": [
    {
     "data": {
      "text/html": [
       "<div>\n",
       "<style scoped>\n",
       "    .dataframe tbody tr th:only-of-type {\n",
       "        vertical-align: middle;\n",
       "    }\n",
       "\n",
       "    .dataframe tbody tr th {\n",
       "        vertical-align: top;\n",
       "    }\n",
       "\n",
       "    .dataframe thead th {\n",
       "        text-align: right;\n",
       "    }\n",
       "</style>\n",
       "<table border=\"1\" class=\"dataframe\">\n",
       "  <thead>\n",
       "    <tr style=\"text-align: right;\">\n",
       "      <th></th>\n",
       "      <th>split_variable</th>\n",
       "      <th>split_value</th>\n",
       "      <th>discrete</th>\n",
       "      <th>leaf</th>\n",
       "      <th>prediction</th>\n",
       "    </tr>\n",
       "  </thead>\n",
       "  <tbody>\n",
       "    <tr>\n",
       "      <th>0</th>\n",
       "      <td>None</td>\n",
       "      <td>None</td>\n",
       "      <td>None</td>\n",
       "      <td>None</td>\n",
       "      <td>None</td>\n",
       "    </tr>\n",
       "    <tr>\n",
       "      <th>1</th>\n",
       "      <td>safety</td>\n",
       "      <td>low</td>\n",
       "      <td>True</td>\n",
       "      <td>False</td>\n",
       "      <td>unacc</td>\n",
       "    </tr>\n",
       "    <tr>\n",
       "      <th>3</th>\n",
       "      <td>persons</td>\n",
       "      <td>2</td>\n",
       "      <td>False</td>\n",
       "      <td>False</td>\n",
       "      <td>unacc</td>\n",
       "    </tr>\n",
       "    <tr>\n",
       "      <th>7</th>\n",
       "      <td>buying</td>\n",
       "      <td>vhigh</td>\n",
       "      <td>True</td>\n",
       "      <td>False</td>\n",
       "      <td>acc</td>\n",
       "    </tr>\n",
       "    <tr>\n",
       "      <th>14</th>\n",
       "      <td>maint</td>\n",
       "      <td>vhigh</td>\n",
       "      <td>True</td>\n",
       "      <td>False</td>\n",
       "      <td>unacc</td>\n",
       "    </tr>\n",
       "    <tr>\n",
       "      <th>29</th>\n",
       "      <td>lug_boot</td>\n",
       "      <td>small</td>\n",
       "      <td>True</td>\n",
       "      <td>False</td>\n",
       "      <td>acc</td>\n",
       "    </tr>\n",
       "    <tr>\n",
       "      <th>58</th>\n",
       "      <td>doors</td>\n",
       "      <td>2</td>\n",
       "      <td>False</td>\n",
       "      <td>False</td>\n",
       "      <td>unacc</td>\n",
       "    </tr>\n",
       "  </tbody>\n",
       "</table>\n",
       "</div>"
      ],
      "text/plain": [
       "   split_variable split_value discrete   leaf prediction\n",
       "0            None        None     None   None       None\n",
       "1          safety         low     True  False      unacc\n",
       "3         persons           2    False  False      unacc\n",
       "7          buying       vhigh     True  False        acc\n",
       "14          maint       vhigh     True  False      unacc\n",
       "29       lug_boot       small     True  False        acc\n",
       "58          doors           2    False  False      unacc"
      ]
     },
     "execution_count": 47,
     "metadata": {},
     "output_type": "execute_result"
    }
   ],
   "source": [
    "tree"
   ]
  },
  {
   "cell_type": "code",
   "execution_count": 17,
   "metadata": {
    "ExecuteTime": {
     "end_time": "2019-03-09T11:13:44.881487Z",
     "start_time": "2019-03-09T11:13:44.859493Z"
    }
   },
   "outputs": [
    {
     "name": "stdout",
     "output_type": "stream",
     "text": [
      "  split_variable split_value discrete  leaf prediction\n",
      "0           None        None     None  None       None\n"
     ]
    }
   ],
   "source": [
    "tree = {\n",
    "    'split_variable':[None],\n",
    "    'split_value':[None],\n",
    "    'discrete':[None],\n",
    "    'leaf':[None],\n",
    "    'prediction': [None]\n",
    "}\n",
    "tree = pd.DataFrame(tree)\n",
    "print(tree)"
   ]
  },
  {
   "cell_type": "code",
   "execution_count": null,
   "metadata": {},
   "outputs": [],
   "source": []
  }
 ],
 "metadata": {
  "kernelspec": {
   "display_name": "Python 3",
   "language": "python",
   "name": "python3"
  },
  "language_info": {
   "codemirror_mode": {
    "name": "ipython",
    "version": 3
   },
   "file_extension": ".py",
   "mimetype": "text/x-python",
   "name": "python",
   "nbconvert_exporter": "python",
   "pygments_lexer": "ipython3",
   "version": "3.6.4"
  },
  "latex_envs": {
   "LaTeX_envs_menu_present": true,
   "autoclose": false,
   "autocomplete": true,
   "bibliofile": "biblio.bib",
   "cite_by": "apalike",
   "current_citInitial": 1,
   "eqLabelWithNumbers": true,
   "eqNumInitial": 1,
   "hotkeys": {
    "equation": "Ctrl-E",
    "itemize": "Ctrl-I"
   },
   "labels_anchors": false,
   "latex_user_defs": false,
   "report_style_numbering": true,
   "user_envs_cfg": false
  },
  "varInspector": {
   "cols": {
    "lenName": 16,
    "lenType": 16,
    "lenVar": 40
   },
   "kernels_config": {
    "python": {
     "delete_cmd_postfix": "",
     "delete_cmd_prefix": "del ",
     "library": "var_list.py",
     "varRefreshCmd": "print(var_dic_list())"
    },
    "r": {
     "delete_cmd_postfix": ") ",
     "delete_cmd_prefix": "rm(",
     "library": "var_list.r",
     "varRefreshCmd": "cat(var_dic_list()) "
    }
   },
   "types_to_exclude": [
    "module",
    "function",
    "builtin_function_or_method",
    "instance",
    "_Feature"
   ],
   "window_display": false
  }
 },
 "nbformat": 4,
 "nbformat_minor": 2
}
