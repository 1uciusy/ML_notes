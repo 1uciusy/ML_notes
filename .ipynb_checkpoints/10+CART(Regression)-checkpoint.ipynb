{
 "cells": [
  {
   "cell_type": "markdown",
   "metadata": {},
   "source": [
    "## CART(Regression)\n",
    "\n",
    "## 一、概念\n",
    "\n",
    "回归树和分类树相似，区别在于划分变量的方法和叶节点预测结果的产生方式。\n",
    "\n",
    "1. 划分方法：\n",
    "\n",
    "\n",
    "- 分类树：**基尼系数**\n",
    "\n",
    "\n",
    "- 回归树：**均方误差**\n",
    "\n",
    "\n",
    "2. 预测方式\n",
    "\n",
    "\n",
    "- 分类树：划分后的样本集的**目标变量的众数**\n",
    "\n",
    "\n",
    "- 回归树：划分后的样本集的**目标变量的平均数**\n",
    "\n",
    "\n",
    "假设输入空间有$R_1,R_2,...,R_M$个划分单元，回归树模型可以看作是针对每个划分单元上的固定输出值$c_1,c_2,...,c_M$\n",
    "\n",
    "$$\n",
    "f(x) = \\sum_{m=1}^Mc_mI(x\\in R_m)\n",
    "$$\n",
    "\n",
    "每个划分上的预测结果为：\n",
    "\n",
    "$$\n",
    "\\hat c_m = mean(y_i|x_i\\in R_m)\n",
    "$$\n",
    "\n",
    "选用第j个变量x^{(j)}和它取的值s，作为切分变量和切分点，划定两个区域：\n",
    "\n",
    "$$\n",
    "R_1(j,s)=\\{x|x^{(j)} \\le s\\}\\\\\n",
    "R_2(j,s)=\\{x|x^{(j)} > s\\}\n",
    "$$\n",
    "\n",
    "寻找最优切分变量和切分点就是求解：\n",
    "\n",
    "$$\n",
    "\\underset{j,s}{min}\\left[\\underset{c_1}{min}\\sum_{x_i\\in R_1(j,s)}(y_i-c_1)^2 \\underset{c_2}{min}\\sum_{x_i\\in R_2(j,s)}(y_i-c_2)^2\\right]\n",
    "$$\n",
    "\n",
    "对固定的输入变量j可以找到最优切分点s：\n",
    "\n",
    "$$\n",
    "\\hat c_1 = mean(y_i|x_i\\in R_1)\\\\\n",
    "\\hat c_2 = mean(y_i|x_i\\in R_2)\n",
    "$$\n",
    "\n",
    "遍历所有输入变量，找到最优分割变量的最优分割点分成两个区域，并对每个区域重复上述操作，直到满足停止条件为止。"
   ]
  },
  {
   "cell_type": "markdown",
   "metadata": {},
   "source": [
    "## 二、划分方法：均方误差vs方差\n",
    "\n",
    "均方误差和方差的区别在于常系数的不同，均方误差除以样本数（减一）就是方差。\n",
    "\n",
    "以下给出几个例子对方差和均方误差进行比较：\n",
    "\n",
    "1. 等差数列：\n",
    "\n",
    "以数据的索引作为划分变量，假设数据是等差数列，也即数据是y=0.1\\*x直线上均匀的点。"
   ]
  },
  {
   "cell_type": "code",
   "execution_count": 2,
   "metadata": {
    "ExecuteTime": {
     "end_time": "2019-03-12T03:53:28.047899Z",
     "start_time": "2019-03-12T03:53:27.982908Z"
    },
    "scrolled": true
   },
   "outputs": [
    {
     "data": {
      "text/plain": [
       "array([ 0.1,  0.2,  0.3,  0.4,  0.5,  0.6,  0.7,  0.8,  0.9,  1. ,  1.1,\n",
       "        1.2,  1.3,  1.4,  1.5,  1.6,  1.7,  1.8,  1.9,  2. ,  2.1,  2.2,\n",
       "        2.3,  2.4,  2.5,  2.6,  2.7,  2.8,  2.9,  3. ,  3.1,  3.2,  3.3,\n",
       "        3.4,  3.5,  3.6,  3.7,  3.8,  3.9,  4. ,  4.1,  4.2,  4.3,  4.4,\n",
       "        4.5,  4.6,  4.7,  4.8,  4.9,  5. ,  5.1,  5.2,  5.3,  5.4,  5.5,\n",
       "        5.6,  5.7,  5.8,  5.9,  6. ,  6.1,  6.2,  6.3,  6.4,  6.5,  6.6,\n",
       "        6.7,  6.8,  6.9,  7. ,  7.1,  7.2,  7.3,  7.4,  7.5,  7.6,  7.7,\n",
       "        7.8,  7.9,  8. ,  8.1,  8.2,  8.3,  8.4,  8.5,  8.6,  8.7,  8.8,\n",
       "        8.9,  9. ,  9.1,  9.2,  9.3,  9.4,  9.5,  9.6,  9.7,  9.8,  9.9,\n",
       "       10. ])"
      ]
     },
     "execution_count": 2,
     "metadata": {},
     "output_type": "execute_result"
    }
   ],
   "source": [
    "import numpy as np\n",
    "\n",
    "data = np.linspace(0.1,10, 100)\n",
    "data"
   ]
  },
  {
   "cell_type": "markdown",
   "metadata": {},
   "source": [
    "显然numpy的方差是近似方差，不是方差的无偏估计"
   ]
  },
  {
   "cell_type": "code",
   "execution_count": 13,
   "metadata": {
    "ExecuteTime": {
     "end_time": "2019-03-11T15:04:01.870154Z",
     "start_time": "2019-03-11T15:04:01.859161Z"
    }
   },
   "outputs": [
    {
     "data": {
      "text/plain": [
       "1.0"
      ]
     },
     "execution_count": 13,
     "metadata": {},
     "output_type": "execute_result"
    }
   ],
   "source": [
    "np.var([0,2])"
   ]
  },
  {
   "cell_type": "code",
   "execution_count": 39,
   "metadata": {
    "ExecuteTime": {
     "end_time": "2019-03-11T15:31:08.553162Z",
     "start_time": "2019-03-11T15:31:08.528167Z"
    }
   },
   "outputs": [
    {
     "name": "stdout",
     "output_type": "stream",
     "text": [
      "(50, 4.165)\n",
      "(50, 208.25)\n"
     ]
    }
   ],
   "source": [
    "def find(data, var=True):\n",
    "    n = len(data)\n",
    "    loss = float('inf')\n",
    "    split = -1\n",
    "    for i in range(1, n-1):\n",
    "        a = data[0:i]\n",
    "        b = data[i:n]\n",
    "        if var:\n",
    "            tmp = np.var(a) + np.var(b)\n",
    "        else:\n",
    "            tmp = len(a)*np.var(a) + len(b)*np.var(b)\n",
    "        if tmp < loss:\n",
    "            split = i\n",
    "            loss = tmp\n",
    "    return split, loss\n",
    "\n",
    "print(find(data, var=True))\n",
    "print(find(data, var=False))"
   ]
  },
  {
   "cell_type": "markdown",
   "metadata": {},
   "source": [
    "显然，如果数据是严格的等差数列，则无论是方差还是均方误差，则划分点都是中位数\n",
    "\n",
    "2. 数据是不对称的，增减性在转折点前后相反的折线"
   ]
  },
  {
   "cell_type": "code",
   "execution_count": 25,
   "metadata": {
    "ExecuteTime": {
     "end_time": "2019-03-11T15:12:26.814366Z",
     "start_time": "2019-03-11T15:12:26.800363Z"
    }
   },
   "outputs": [
    {
     "name": "stdout",
     "output_type": "stream",
     "text": [
      "[ 0.1  0.2  0.3  0.4  0.5  0.6  0.7  0.8  0.9  1.   1.1  1.2  1.3  1.4\n",
      "  1.5  1.6  1.7  1.8  1.9  2.   2.1  2.2  2.3  2.4  2.5  2.6  2.7  2.8\n",
      "  2.9  3.   3.1  3.2  3.3  3.4  3.5  3.6  3.7  3.8  3.9  4.   4.1  4.2\n",
      "  4.3  4.4  4.5  4.6  4.7  4.8  4.9  5.   5.1  5.2  5.3  5.4  5.5  5.6\n",
      "  5.7  5.8  5.9  6.   6.1  6.2  6.3  6.4  6.5  6.6  6.7  6.8  6.9  7.\n",
      "  7.1  7.2  7.3  7.4  7.5  7.6  7.7  7.8  7.9  8.   8.1  8.2  8.3  8.4\n",
      "  8.5  8.6  8.7  8.8  8.9  9.   9.1  9.2  9.3  9.4  9.5  9.6  9.7  9.8\n",
      "  9.9 10.  10.   9.   8.   7.   6.   5.   4.   3.   2.   1. ]\n"
     ]
    }
   ],
   "source": [
    "data = np.append(data, np.linspace(10, 1, 10))\n",
    "print(data)"
   ]
  },
  {
   "cell_type": "code",
   "execution_count": 26,
   "metadata": {
    "ExecuteTime": {
     "end_time": "2019-03-11T15:12:36.411310Z",
     "start_time": "2019-03-11T15:12:36.388319Z"
    }
   },
   "outputs": [
    {
     "name": "stdout",
     "output_type": "stream",
     "text": [
      "(37, 5.355548883467819)\n",
      "(47, 323.36984126984123)\n"
     ]
    }
   ],
   "source": [
    "print(find(data, var=True))\n",
    "print(find(data, var=False))"
   ]
  },
  {
   "cell_type": "code",
   "execution_count": 30,
   "metadata": {
    "ExecuteTime": {
     "end_time": "2019-03-11T15:14:18.697251Z",
     "start_time": "2019-03-11T15:14:18.690251Z"
    }
   },
   "outputs": [
    {
     "name": "stdout",
     "output_type": "stream",
     "text": [
      "3.8000000000000003\n",
      "1.9\n",
      "6.708219178082191\n"
     ]
    }
   ],
   "source": [
    "print(data[37])\n",
    "print(np.mean(data[0: 37]))\n",
    "print(np.mean(data[37: 110]))"
   ]
  },
  {
   "cell_type": "code",
   "execution_count": 31,
   "metadata": {
    "ExecuteTime": {
     "end_time": "2019-03-11T15:14:33.233902Z",
     "start_time": "2019-03-11T15:14:33.224902Z"
    }
   },
   "outputs": [
    {
     "name": "stdout",
     "output_type": "stream",
     "text": [
      "2.4\n",
      "7.098412698412699\n"
     ]
    }
   ],
   "source": [
    "pritn(data[47])\n",
    "print(np.mean(data[0: 47]))\n",
    "print(np.mean(data[47: 110]))"
   ]
  },
  {
   "cell_type": "markdown",
   "metadata": {},
   "source": [
    "可见，是方差的情况下，分离点更倾向于偏离转折点，是均方误差的情况下分离点更接近转折点\n",
    "\n",
    "3. 数据是对称的，增减性在转折点前后相反的折线"
   ]
  },
  {
   "cell_type": "code",
   "execution_count": 32,
   "metadata": {
    "ExecuteTime": {
     "end_time": "2019-03-11T15:16:31.532226Z",
     "start_time": "2019-03-11T15:16:31.522226Z"
    }
   },
   "outputs": [
    {
     "name": "stdout",
     "output_type": "stream",
     "text": [
      "[ 0.1  0.2  0.3  0.4  0.5  0.6  0.7  0.8  0.9  1.   1.1  1.2  1.3  1.4\n",
      "  1.5  1.6  1.7  1.8  1.9  2.   2.1  2.2  2.3  2.4  2.5  2.6  2.7  2.8\n",
      "  2.9  3.   3.1  3.2  3.3  3.4  3.5  3.6  3.7  3.8  3.9  4.   4.1  4.2\n",
      "  4.3  4.4  4.5  4.6  4.7  4.8  4.9  5.   5.1  5.2  5.3  5.4  5.5  5.6\n",
      "  5.7  5.8  5.9  6.   6.1  6.2  6.3  6.4  6.5  6.6  6.7  6.8  6.9  7.\n",
      "  7.1  7.2  7.3  7.4  7.5  7.6  7.7  7.8  7.9  8.   8.1  8.2  8.3  8.4\n",
      "  8.5  8.6  8.7  8.8  8.9  9.   9.1  9.2  9.3  9.4  9.5  9.6  9.7  9.8\n",
      "  9.9 10.  10.   9.9  9.8  9.7  9.6  9.5  9.4  9.3  9.2  9.1  9.   8.9\n",
      "  8.8  8.7  8.6  8.5  8.4  8.3  8.2  8.1  8.   7.9  7.8  7.7  7.6  7.5\n",
      "  7.4  7.3  7.2  7.1  7.   6.9  6.8  6.7  6.6  6.5  6.4  6.3  6.2  6.1\n",
      "  6.   5.9  5.8  5.7  5.6  5.5  5.4  5.3  5.2  5.1  5.   4.9  4.8  4.7\n",
      "  4.6  4.5  4.4  4.3  4.2  4.1  4.   3.9  3.8  3.7  3.6  3.5  3.4  3.3\n",
      "  3.2  3.1  3.   2.9  2.8  2.7  2.6  2.5  2.4  2.3  2.2  2.1  2.   1.9\n",
      "  1.8  1.7  1.6  1.5  1.4  1.3  1.2  1.1  1.   0.9  0.8  0.7  0.6  0.5\n",
      "  0.4  0.3  0.2  0.1]\n"
     ]
    }
   ],
   "source": [
    "data = np.linspace(0.1,10, 100)\n",
    "data = np.append(data, np.linspace(10,0.1, 100))\n",
    "print(data)"
   ]
  },
  {
   "cell_type": "code",
   "execution_count": 33,
   "metadata": {
    "ExecuteTime": {
     "end_time": "2019-03-11T15:16:52.303527Z",
     "start_time": "2019-03-11T15:16:52.259534Z"
    }
   },
   "outputs": [
    {
     "name": "stdout",
     "output_type": "stream",
     "text": [
      "(182, 7.572185927625489)\n",
      "(38, 1215.6604938271605)\n"
     ]
    }
   ],
   "source": [
    "print(find(data, var=True))\n",
    "print(find(data, var=False))"
   ]
  },
  {
   "cell_type": "code",
   "execution_count": 34,
   "metadata": {
    "ExecuteTime": {
     "end_time": "2019-03-11T15:17:29.060572Z",
     "start_time": "2019-03-11T15:17:29.052578Z"
    }
   },
   "outputs": [
    {
     "name": "stdout",
     "output_type": "stream",
     "text": [
      "1.799999999999999\n",
      "3.9000000000000004\n"
     ]
    }
   ],
   "source": [
    "print(data[182])\n",
    "print(data[38])"
   ]
  },
  {
   "cell_type": "markdown",
   "metadata": {},
   "source": [
    "数据是对称的情况下分割点应该也是对称等价的，所以方差分割点182应该和18是等价的，只是因为计算机精度的问题造成结果是182。\n",
    "\n",
    "可以发现在方差的条件下分割点对比均方误差条件仍然是远离转折点。\n",
    "\n",
    "4. 数据是单调前后斜率不同的折线"
   ]
  },
  {
   "cell_type": "code",
   "execution_count": 44,
   "metadata": {
    "ExecuteTime": {
     "end_time": "2019-03-11T15:46:54.252192Z",
     "start_time": "2019-03-11T15:46:54.243188Z"
    }
   },
   "outputs": [
    {
     "name": "stdout",
     "output_type": "stream",
     "text": [
      "[  1.    2.    3.    4.    5.    6.    7.    8.    9.   10.   11.   12.\n",
      "  13.   14.   15.   16.   17.   18.   19.   20.   21.   22.   23.   24.\n",
      "  25.   26.   27.   28.   29.   30.   31.   32.   33.   34.   35.   36.\n",
      "  37.   38.   39.   40.   41.   42.   43.   44.   45.   46.   47.   48.\n",
      "  49.   50.   51.   52.   53.   54.   55.   56.   57.   58.   59.   60.\n",
      "  61.   62.   63.   64.   65.   66.   67.   68.   69.   70.   71.   72.\n",
      "  73.   74.   75.   76.   77.   78.   79.   80.   81.   82.   83.   84.\n",
      "  85.   86.   87.   88.   89.   90.   91.   92.   93.   94.   95.   96.\n",
      "  97.   98.   99.  100.  100.1 100.2 100.3 100.4 100.5 100.6 100.7 100.8\n",
      " 100.9 101.  101.1 101.2 101.3 101.4 101.5 101.6 101.7 101.8 101.9 102.\n",
      " 102.1 102.2 102.3 102.4 102.5 102.6 102.7 102.8 102.9 103.  103.1 103.2\n",
      " 103.3 103.4 103.5 103.6 103.7 103.8 103.9 104.  104.1 104.2 104.3 104.4\n",
      " 104.5 104.6 104.7 104.8 104.9 105.  105.1 105.2 105.3 105.4 105.5 105.6\n",
      " 105.7 105.8 105.9 106.  106.1 106.2 106.3 106.4 106.5 106.6 106.7 106.8\n",
      " 106.9 107.  107.1 107.2 107.3 107.4 107.5 107.6 107.7 107.8 107.9 108.\n",
      " 108.1 108.2 108.3 108.4 108.5 108.6 108.7 108.8 108.9 109.  109.1 109.2\n",
      " 109.3 109.4 109.5 109.6 109.7 109.8 109.9 110. ]\n"
     ]
    }
   ],
   "source": [
    "data = np.linspace(1,100, 100)\n",
    "data = np.append(data, np.linspace(100.1,110, 100))\n",
    "print(data)"
   ]
  },
  {
   "cell_type": "code",
   "execution_count": 41,
   "metadata": {
    "ExecuteTime": {
     "end_time": "2019-03-11T15:44:40.557341Z",
     "start_time": "2019-03-11T15:44:40.526344Z"
    }
   },
   "outputs": [
    {
     "name": "stdout",
     "output_type": "stream",
     "text": [
      "(57, 465.49729408121016)\n",
      "(66, 39841.59701492537)\n"
     ]
    }
   ],
   "source": [
    "print(find(data, var=True))\n",
    "print(find(data, var=False))"
   ]
  },
  {
   "cell_type": "markdown",
   "metadata": {},
   "source": [
    "可以发现，方差条件下的分割点仍然相较均方误差条件是远离转折点的。\n",
    "\n",
    "以上几种不同的模拟数据均出现了类似的情况，那我们如果分折线两端对数据进行打乱呢？\n",
    "\n",
    "5. 打乱的等差数列："
   ]
  },
  {
   "cell_type": "code",
   "execution_count": 50,
   "metadata": {
    "ExecuteTime": {
     "end_time": "2019-03-11T15:52:33.954662Z",
     "start_time": "2019-03-11T15:52:33.928669Z"
    }
   },
   "outputs": [
    {
     "name": "stdout",
     "output_type": "stream",
     "text": [
      "[ 5.9  3.3  4.1  2.8  9.   9.2  1.6  2.   6.7  9.5  6.3  4.4  4.5  7.6\n",
      "  1.3  1.5  8.4  0.1  8.7  8.9  9.8  0.8  5.7  7.   2.5  7.2  2.6  6.5\n",
      "  3.9  5.4  3.5  3.   4.8  3.4  0.6  6.   6.6  0.4  8.   1.4  5.5  6.1\n",
      "  1.8  8.8  1.1  8.2  3.1  1.9  6.9  7.9  4.9  5.8  4.   9.6  2.2  0.2\n",
      "  8.5  5.3  9.7 10.   0.3  4.6  3.2  0.7  1.2  6.8  4.7  7.1  7.5  2.7\n",
      "  5.6  8.3  2.9  9.9  1.   2.1  7.8  3.7  5.2  8.6  6.4  3.8  2.4  5.1\n",
      "  2.3  9.1  7.7  8.1  9.4  4.2  5.   6.2  7.4  0.9  7.3  9.3  0.5  3.6\n",
      "  1.7  4.3]\n",
      "(1, 8.409294969901032)\n",
      "(96, 806.6848958333334)\n"
     ]
    }
   ],
   "source": [
    "data = np.linspace(0.1,10, 100)\n",
    "np.random.seed(2099)\n",
    "np.random.shuffle(data)\n",
    "\n",
    "print(data)\n",
    "\n",
    "print(find(data, var=True))\n",
    "print(find(data, var=False))"
   ]
  },
  {
   "cell_type": "markdown",
   "metadata": {},
   "source": [
    "可以看出来此时方差的分割更极端，其实无论是哪个随机种子，影响的只有均方误差情况，方差情况永远是第二个作为分割点。\n",
    "\n",
    "6. 数据是不对称的，增减性在转折点前后相反的折线，不同增减性的部分分别打乱"
   ]
  },
  {
   "cell_type": "code",
   "execution_count": 51,
   "metadata": {
    "ExecuteTime": {
     "end_time": "2019-03-11T15:53:04.980822Z",
     "start_time": "2019-03-11T15:53:04.938821Z"
    }
   },
   "outputs": [
    {
     "name": "stdout",
     "output_type": "stream",
     "text": [
      "[ 5.9  3.3  4.1  2.8  9.   9.2  1.6  2.   6.7  9.5  6.3  4.4  4.5  7.6\n",
      "  1.3  1.5  8.4  0.1  8.7  8.9  9.8  0.8  5.7  7.   2.5  7.2  2.6  6.5\n",
      "  3.9  5.4  3.5  3.   4.8  3.4  0.6  6.   6.6  0.4  8.   1.4  5.5  6.1\n",
      "  1.8  8.8  1.1  8.2  3.1  1.9  6.9  7.9  4.9  5.8  4.   9.6  2.2  0.2\n",
      "  8.5  5.3  9.7 10.   0.3  4.6  3.2  0.7  1.2  6.8  4.7  7.1  7.5  2.7\n",
      "  5.6  8.3  2.9  9.9  1.   2.1  7.8  3.7  5.2  8.6  6.4  3.8  2.4  5.1\n",
      "  2.3  9.1  7.7  8.1  9.4  4.2  5.   6.2  7.4  0.9  7.3  9.3  0.5  3.6\n",
      "  1.7  4.3  3.   2.   1.   9.   5.   6.   7.  10.   4.   8. ]\n",
      "(1, 8.412204359902365)\n",
      "(103, 890.3446601941747)\n"
     ]
    }
   ],
   "source": [
    "data = np.append(data, np.linspace(10, 1, 10))\n",
    "np.random.shuffle(data[100:110])\n",
    "\n",
    "print(data)\n",
    "\n",
    "print(find(data, var=True))\n",
    "print(find(data, var=False))"
   ]
  },
  {
   "cell_type": "markdown",
   "metadata": {},
   "source": [
    "7. 数据是对称的，增减性在转折点前后相反的折线，不同增减性的部分分别打乱"
   ]
  },
  {
   "cell_type": "code",
   "execution_count": 52,
   "metadata": {
    "ExecuteTime": {
     "end_time": "2019-03-11T15:57:14.227735Z",
     "start_time": "2019-03-11T15:57:14.137750Z"
    }
   },
   "outputs": [
    {
     "name": "stdout",
     "output_type": "stream",
     "text": [
      "[ 6.2  4.4  0.9  4.1  0.2  8.2  6.7  9.6  1.6  7.5  3.4  0.6  1.3  5.2\n",
      "  6.   4.2  3.9  7.4  4.5  3.6  3.7  0.3  8.5  5.9  2.4  0.4  3.5  0.7\n",
      "  9.   6.8  8.4  3.2  4.8  8.9  3.1  3.3  9.3  2.1  5.3  0.1  8.3  5.\n",
      "  1.7  9.2  6.3  7.7  2.8  2.5  3.   2.   9.9  6.9  9.8  9.1  7.3  3.8\n",
      "  2.2  4.3  1.9  6.6  5.5  6.5  1.5  0.5 10.   5.8  1.8  6.4  1.1  8.8\n",
      "  7.2  2.9  4.6  7.   2.6  8.7  9.5  5.4  5.6  8.6  7.6  8.   8.1  9.7\n",
      "  1.4  1.2  4.7  5.7  4.9  7.1  4.   2.7  6.1  7.8  5.1  7.9  2.3  9.4\n",
      "  0.8  1.   5.4  3.   5.6  8.6  3.1  4.9  3.7  5.1  8.8  4.3  9.8  2.9\n",
      "  7.1  6.4  2.2  9.6  8.5  8.4  3.3  1.1  7.8  2.8  2.4  5.2  8.3  8.7\n",
      "  4.8  5.5  6.   7.3  7.2  5.3  1.6  1.3  2.6  9.   9.4  8.   9.9  0.2\n",
      "  0.7  6.3  2.   8.1  9.5  5.7  4.2  6.1  1.9  0.1  4.5  5.   6.9  7.6\n",
      "  1.5  9.7  3.4  3.8  7.5  8.9  4.4  1.8  3.5  6.2  0.3  4.7  7.4 10.\n",
      "  8.2  5.9  5.8  1.7  1.2  6.8  2.1  9.2  0.6  2.5  7.9  1.   2.7  6.6\n",
      "  0.8  0.4  4.6  9.1  3.9  2.3  3.2  7.   4.   7.7  6.7  0.5  3.6  6.5\n",
      "  0.9  4.1  9.3  1.4]\n",
      "(1, 8.367692735031945)\n",
      "(171, 1634.541036499294)\n"
     ]
    }
   ],
   "source": [
    "data = np.linspace(0.1,10, 100)\n",
    "data = np.append(data, np.linspace(10,0.1, 100))\n",
    "\n",
    "np.random.shuffle(data[0: 100])\n",
    "np.random.shuffle(data[100: 200])\n",
    "\n",
    "print(data)\n",
    "\n",
    "print(find(data, var=True))\n",
    "print(find(data, var=False))"
   ]
  },
  {
   "cell_type": "markdown",
   "metadata": {
    "ExecuteTime": {
     "end_time": "2019-03-11T15:47:04.005672Z",
     "start_time": "2019-03-11T15:47:03.993674Z"
    }
   },
   "source": [
    "8. 数据是单调前后斜率不同的折线，不同斜率分别打乱"
   ]
  },
  {
   "cell_type": "code",
   "execution_count": 53,
   "metadata": {
    "ExecuteTime": {
     "end_time": "2019-03-11T15:58:58.786219Z",
     "start_time": "2019-03-11T15:58:58.744228Z"
    }
   },
   "outputs": [
    {
     "name": "stdout",
     "output_type": "stream",
     "text": [
      "[ 32.   84.   61.   89.   13.   35.   44.   19.   10.    6.   41.   43.\n",
      "  95.   28.   72.   18.    5.   12.   30.   64.   93.   69.   51.   81.\n",
      "  96.   66.   71.   58.    3.   38.   23.   15.   37.   52.   76.   60.\n",
      "   2.   21.   75.   74.   80.   73.   57.   45.   46.   86.   87.   50.\n",
      "  62.   68.    4.   79.    1.   98.   77.   70.    9.   59.   47.   27.\n",
      "  48.   97.   31.   20.   85.   40.   33.   39.   56.   65.   82.   90.\n",
      "  34.   42.   16.   99.   26.   29.  100.   55.    7.   14.   91.   49.\n",
      "  94.   67.   25.   36.   54.   11.   24.   78.   92.    8.   83.   88.\n",
      "  63.   17.   53.   22.  107.4 104.4 109.8 105.5 103.3 109.  106.  101.8\n",
      " 107.  105.8 100.8 102.3 108.2 107.9 101.4 102.4 105.  103.1 108.6 104.6\n",
      " 108.9 108.3 104.8 104.5 109.2 103.2 104.7 108.  107.2 106.8 106.6 108.4\n",
      " 109.5 109.4 102.8 105.9 108.8 106.4 102.7 103.6 105.4 101.2 104.9 106.3\n",
      " 102.1 100.5 104.1 107.5 106.5 100.3 103.9 100.9 105.6 105.3 101.7 101.3\n",
      " 101.6 102.5 109.1 108.1 107.8 107.3 106.9 105.7 100.6 109.9 102.  100.2\n",
      " 101.5 101.  102.6 103.8 105.2 103.5 102.9 108.5 105.1 107.6 103.4 108.7\n",
      " 107.7 107.1 109.3 104.  102.2 103.  106.1 100.7 100.1 109.7 106.2 101.9\n",
      " 110.  103.7 106.7 104.2 104.3 109.6 100.4 101.1]\n",
      "(100, 841.5825)\n",
      "(100, 84158.25)\n"
     ]
    }
   ],
   "source": [
    "data = np.linspace(1,100, 100)\n",
    "data = np.append(data, np.linspace(100.1,110, 100))\n",
    "\n",
    "np.random.shuffle(data[0: 100])\n",
    "np.random.shuffle(data[100: 200])\n",
    "\n",
    "print(data)\n",
    "\n",
    "print(find(data, var=True))\n",
    "print(find(data, var=False))"
   ]
  },
  {
   "cell_type": "markdown",
   "metadata": {},
   "source": [
    "## 三、应用\n",
    "\n",
    "好的现在我们坚定了用均方误差而非方差的选择，这次选用的数据集是经典的波士顿房价数据集，共有506个样本，每个样本都有13个自变量变量和1个因变量：\n",
    "\n",
    "自变量：\n",
    "\n",
    "- 城镇人均犯罪率。\n",
    "\n",
    "- 住宅用地超过25000平方英尺的比例。\n",
    "\n",
    "- 城镇非零售商用土地的比例。\n",
    "\n",
    "- 是否临近查理斯河。\n",
    "\n",
    "- 一氧化氮浓度。\n",
    "\n",
    "- 住宅平均房间数。\n",
    "\n",
    "- 1940 年之前建成的自用房屋比例。\n",
    "\n",
    "- 到波士顿五个中心区域的加权距离。\n",
    "\n",
    "- 接近高速公路的程度。\n",
    "\n",
    "- 每 10000 美元的不动产税率。\n",
    "\n",
    "- 城镇师生比例。\n",
    "\n",
    "- 城镇黑人比例。（相当不政治正确）\n",
    "\n",
    "- 低收入人口比例\n",
    "\n",
    "因变量：\n",
    "\n",
    "- 房屋价格"
   ]
  },
  {
   "cell_type": "code",
   "execution_count": 105,
   "metadata": {
    "ExecuteTime": {
     "end_time": "2019-03-12T08:37:59.143496Z",
     "start_time": "2019-03-12T08:37:59.119517Z"
    }
   },
   "outputs": [
    {
     "name": "stdout",
     "output_type": "stream",
     "text": [
      "(506, 14)\n",
      "(506, 1)\n"
     ]
    }
   ],
   "source": [
    "from sklearn.datasets import load_boston\n",
    "import pandas as pd\n",
    "import copy\n",
    "\n",
    "boston, target = load_boston(return_X_y=True)\n",
    "x = np.array(boston)\n",
    "x = np.hstack([x, np.ones((x.shape[0], 1))]) # bias\n",
    "y = np.array(target).reshape(len(target), 1)\n",
    "print(x.shape)\n",
    "print(y.shape)"
   ]
  },
  {
   "cell_type": "markdown",
   "metadata": {},
   "source": [
    "先用正规方程求解线性回归的参数"
   ]
  },
  {
   "cell_type": "code",
   "execution_count": 106,
   "metadata": {
    "ExecuteTime": {
     "end_time": "2019-03-12T08:38:00.952652Z",
     "start_time": "2019-03-12T08:38:00.940656Z"
    }
   },
   "outputs": [],
   "source": [
    "np.random.seed(2099)\n",
    "\n",
    "index = np.random.permutation(506)\n",
    "train_index = index[0: int(0.7*506)]\n",
    "test_index = index[int(0.7*506): 506]\n",
    "\n",
    "train_x = x[train_index, :]\n",
    "train_y = y[train_index, :]\n",
    "test_x = x[test_index, :]\n",
    "test_y = y[test_index, :]"
   ]
  },
  {
   "cell_type": "code",
   "execution_count": 107,
   "metadata": {
    "ExecuteTime": {
     "end_time": "2019-03-12T08:38:04.161762Z",
     "start_time": "2019-03-12T08:38:04.152760Z"
    }
   },
   "outputs": [
    {
     "name": "stdout",
     "output_type": "stream",
     "text": [
      "[[-1.38207153e-01]\n",
      " [ 6.02124371e-02]\n",
      " [-2.41967408e-03]\n",
      " [ 1.38906414e+00]\n",
      " [-1.57956187e+01]\n",
      " [ 3.26425169e+00]\n",
      " [-2.01230038e-03]\n",
      " [-1.68034194e+00]\n",
      " [ 2.89084987e-01]\n",
      " [-9.48385187e-03]\n",
      " [-1.03060887e+00]\n",
      " [ 8.00698188e-03]\n",
      " [-5.77222645e-01]\n",
      " [ 4.15481705e+01]]\n"
     ]
    }
   ],
   "source": [
    "beta = np.dot(train_x.T, train_x)\n",
    "beta = np.linalg.inv(beta)\n",
    "beta = np.dot(beta, train_x.T)\n",
    "beta = np.dot(beta, train_y)\n",
    "print(beta)"
   ]
  },
  {
   "cell_type": "code",
   "execution_count": 108,
   "metadata": {
    "ExecuteTime": {
     "end_time": "2019-03-12T08:38:06.403576Z",
     "start_time": "2019-03-12T08:38:06.393580Z"
    }
   },
   "outputs": [],
   "source": [
    "y_hat = np.dot(test_x, beta)"
   ]
  },
  {
   "cell_type": "code",
   "execution_count": 109,
   "metadata": {
    "ExecuteTime": {
     "end_time": "2019-03-12T08:38:07.001745Z",
     "start_time": "2019-03-12T08:38:06.988750Z"
    }
   },
   "outputs": [
    {
     "data": {
      "text/plain": [
       "3906.4556806536502"
      ]
     },
     "execution_count": 109,
     "metadata": {},
     "output_type": "execute_result"
    }
   ],
   "source": [
    "def mse(y, y_hat):\n",
    "    tmp = np.power(y-y_hat, 2)\n",
    "    tmp = np.sum(tmp)\n",
    "    return tmp\n",
    "\n",
    "mse(test_y, y_hat)"
   ]
  },
  {
   "cell_type": "code",
   "execution_count": 110,
   "metadata": {
    "ExecuteTime": {
     "end_time": "2019-03-12T08:38:07.821863Z",
     "start_time": "2019-03-12T08:38:07.810866Z"
    }
   },
   "outputs": [],
   "source": [
    "names = ['CRIM','ZN','INDUS','CHAS','NOX','RM',\n",
    "         'AGE','DIS','RAD','TAX','PTRATIO','B','LSTAT']\n",
    "boston = pd.DataFrame(boston)\n",
    "boston.columns = names\n",
    "boston['target'] = target"
   ]
  },
  {
   "cell_type": "code",
   "execution_count": 111,
   "metadata": {
    "ExecuteTime": {
     "end_time": "2019-03-12T08:38:11.832275Z",
     "start_time": "2019-03-12T08:38:10.262486Z"
    }
   },
   "outputs": [
    {
     "data": {
      "text/plain": [
       "(22817.2744320397, 6.65492)"
      ]
     },
     "execution_count": 111,
     "metadata": {},
     "output_type": "execute_result"
    }
   ],
   "source": [
    "def split_value(data, index, variable, discrete, target='target'):\n",
    "    tmp = data.loc[index]\n",
    "    n = tmp.shape[0]\n",
    "    \n",
    "    mse = float('inf')\n",
    "    split = None\n",
    "    split_value = data[variable][0]\n",
    "    \n",
    "    if discrete:\n",
    "        values = np.unique(data[variable])\n",
    "        for value in values:\n",
    "            index1 = tmp[tmp[variable]==value].index\n",
    "            index2 = tmp[tmp[variable]!=value].index\n",
    "            \n",
    "            tmp_mse = len(index1)*np.var(tmp.loc[index1][target])\n",
    "            tmp_mse += len(index2)*np.var(tmp.loc[index2][target])\n",
    "\n",
    "            if tmp_mse < mse:\n",
    "                split_value = value\n",
    "                mse = tmp_mse\n",
    "    else:\n",
    "        for value in tmp[variable]:\n",
    "            index1 = tmp[tmp[variable]<=value].index\n",
    "            index2 = tmp[tmp[variable]>value].index\n",
    "            \n",
    "            tmp_mse = len(index1)*np.var(tmp.loc[index1][target])\n",
    "            tmp_mse += len(index2)*np.var(tmp.loc[index2][target])\n",
    "            \n",
    "            if tmp_mse < mse:\n",
    "                split_value = value\n",
    "                mse = tmp_mse\n",
    "                \n",
    "    return mse, split_value\n",
    "\n",
    "split_value(boston, index=train_index, variable='CRIM', discrete=False)"
   ]
  },
  {
   "cell_type": "code",
   "execution_count": 112,
   "metadata": {
    "ExecuteTime": {
     "end_time": "2019-03-12T08:38:29.740782Z",
     "start_time": "2019-03-12T08:38:12.983061Z"
    }
   },
   "outputs": [
    {
     "data": {
      "text/plain": [
       "(15224.583135593219, 'LSTAT', 7.85, False)"
      ]
     },
     "execution_count": 112,
     "metadata": {},
     "output_type": "execute_result"
    }
   ],
   "source": [
    "def split_variable(data, index, variable_set, target='target'):\n",
    "    mse = float('inf')\n",
    "    \n",
    "    to_split_value = None\n",
    "    to_split_variable = None\n",
    "    \n",
    "    tmp_mse = None\n",
    "    tmp_value = None\n",
    "    var_type = None\n",
    "    \n",
    "    for dtype in variable_set:\n",
    "        discrete = dtype=='discrete'\n",
    "        for variable in variable_set[dtype]:\n",
    "            tmp_mse, tmp_value = split_value(data, index, variable, \n",
    "                                             discrete, target)\n",
    "            #print(str(variable)+': '+str(tmp_value)+': '+str(tmp_mse))\n",
    "            \n",
    "            if tmp_mse < mse:\n",
    "                mse = tmp_mse\n",
    "                to_split_value = tmp_value\n",
    "                to_split_variable = variable\n",
    "                var_type = discrete\n",
    "    \n",
    "    return mse, to_split_variable, to_split_value, var_type\n",
    "\n",
    "variable_set = {\n",
    "    'discrete':['CHAS'],\n",
    "    'continuous':['CRIM','ZN','INDUS','NOX','RM','AGE',\n",
    "                  'DIS','RAD','TAX','PTRATIO','B','LSTAT']\n",
    "}\n",
    "split_variable(boston, index=train_index, variable_set=variable_set)"
   ]
  },
  {
   "cell_type": "code",
   "execution_count": 113,
   "metadata": {
    "ExecuteTime": {
     "end_time": "2019-03-12T08:40:30.380605Z",
     "start_time": "2019-03-12T08:38:55.010801Z"
    },
    "scrolled": false
   },
   "outputs": [
    {
     "name": "stdout",
     "output_type": "stream",
     "text": [
      "1:False\n",
      "2:False\n",
      "4:False\n",
      "8:True\n",
      "9:False\n",
      "18:False\n",
      "36:False\n",
      "72:True\n",
      "73:False\n",
      "146:True\n",
      "147:False\n",
      "294:True\n",
      "295:True\n",
      "37:False\n",
      "74:False\n",
      "148:True\n",
      "149:False\n",
      "298:False\n",
      "596:False\n",
      "1192:True\n",
      "1193:True\n",
      "597:True\n",
      "299:True\n",
      "75:False\n",
      "150:True\n",
      "151:False\n",
      "302:True\n",
      "303:False\n",
      "606:True\n",
      "607:True\n",
      "19:False\n",
      "38:True\n",
      "39:False\n",
      "78:True\n",
      "79:False\n",
      "158:False\n",
      "316:True\n",
      "317:False\n",
      "634:True\n",
      "635:False\n",
      "1270:False\n",
      "2540:True\n",
      "2541:True\n",
      "1271:True\n",
      "159:True\n",
      "5:False\n",
      "10:True\n",
      "11:True\n",
      "3:False\n",
      "6:False\n",
      "12:True\n",
      "13:False\n",
      "26:False\n",
      "52:False\n",
      "104:True\n",
      "105:False\n",
      "210:False\n",
      "420:False\n",
      "840:False\n",
      "1680:True\n",
      "1681:False\n",
      "3362:False\n",
      "6724:False\n",
      "13448:True\n",
      "13449:True\n",
      "6725:True\n",
      "3363:True\n",
      "841:False\n",
      "1682:True\n",
      "1683:True\n",
      "421:True\n",
      "211:False\n",
      "422:False\n",
      "844:False\n",
      "1688:False\n",
      "3376:True\n",
      "3377:True\n",
      "1689:True\n",
      "845:True\n",
      "423:False\n",
      "846:True\n",
      "847:False\n",
      "1694:True\n",
      "1695:False\n",
      "3390:True\n",
      "3391:True\n",
      "53:True\n",
      "27:False\n",
      "54:False\n",
      "108:True\n",
      "109:False\n",
      "218:True\n",
      "219:False\n",
      "438:True\n",
      "439:False\n",
      "878:True\n",
      "879:False\n",
      "1758:True\n",
      "1759:False\n",
      "3518:True\n",
      "3519:False\n",
      "55:False\n",
      "110:False\n",
      "220:False\n",
      "440:False\n",
      "880:False\n",
      "1760:True\n",
      "1761:True\n",
      "881:True\n",
      "441:True\n",
      "221:False\n",
      "442:False\n",
      "884:True\n",
      "885:False\n",
      "1770:True\n",
      "1771:True\n",
      "443:True\n",
      "111:False\n",
      "222:False\n",
      "444:True\n",
      "445:True\n",
      "223:True\n",
      "7:False\n",
      "14:False\n",
      "28:False\n",
      "56:True\n",
      "57:False\n",
      "114:True\n",
      "115:True\n",
      "29:False\n",
      "58:False\n",
      "116:True\n",
      "117:True\n",
      "59:True\n",
      "15:False\n",
      "30:False\n",
      "60:True\n",
      "61:True\n",
      "31:True\n"
     ]
    }
   ],
   "source": [
    "def build_tree(data, index, variable_set, tree, target, node=1):\n",
    "    \"\"\"\n",
    "    data: all the data\n",
    "    index: the data on which shall be splited, data won't change in recursion but index\n",
    "    variable_set: variables to be split\n",
    "    tree: a dataframe with node,split_variable,split_value,discrete,leaf,left and right prediction\n",
    "    target: the label variable\n",
    "    node: the node of the tree\n",
    "    \"\"\"\n",
    "    tmp = data.iloc[index]\n",
    "    leaf = len(variable_set[str(node)]['discrete'])==0\n",
    "    leaf = leaf and (len(variable_set[str(node)]['continuous'])==0)\n",
    "    leaf = leaf or (len(index)<=10)\n",
    "    \n",
    "    print(str(node)+\":\"+str(leaf))\n",
    "    #print(variable_set[str(node)])\n",
    "    \n",
    "    if not leaf:\n",
    "        mse,variable,value,discrete = split_variable(data, index, \n",
    "                                            variable_set[str(node)], target)\n",
    "        #print(variable)\n",
    "        \n",
    "        if variable is not None:\n",
    "            if discrete:\n",
    "                variable_set[str(node)]['discrete'].remove(variable)\n",
    "                variable_set[str(node*2)] = copy.deepcopy(variable_set[str(node)])\n",
    "                variable_set[str(node*2+1)] = copy.deepcopy(variable_set[str(node)])\n",
    "            \n",
    "                index1 = tmp[tmp[variable] == value].index\n",
    "                left_prediction = np.mean(data.iloc[index1][target])\n",
    "                index2 = tmp[tmp[variable] != value].index\n",
    "                right_prediction = np.mean(data.iloc[index2][target])\n",
    "            else:\n",
    "                variable_set[str(node)]['continuous'].remove(variable)\n",
    "                variable_set[str(node*2)] = copy.deepcopy(variable_set[str(node)])\n",
    "                variable_set[str(node*2+1)] = copy.deepcopy(variable_set[str(node)]) \n",
    "            \n",
    "                index1 = tmp[tmp[variable] <= value].index\n",
    "                left_prediction = np.mean(data.iloc[index1][target])\n",
    "                index2 = tmp[tmp[variable] > value].index\n",
    "                right_prediction = np.mean(data.iloc[index2][target])\n",
    "\n",
    "            tree.loc[node] = [variable, value, discrete, \n",
    "                              left_prediction, right_prediction]\n",
    "        \n",
    "            build_tree(data=data, index=index1, variable_set=variable_set, \n",
    "                   tree=tree, target='target', node=node*2)\n",
    "            build_tree(data=data, index=index2, variable_set=variable_set, \n",
    "                   tree=tree, target='target', node=node*2+1)\n",
    "\n",
    "\n",
    "tree = {\n",
    "    'split_variable':[None],\n",
    "    'split_value':[None],\n",
    "    'discrete':[None],\n",
    "    'left_prediction': [None],\n",
    "    'right_prediction':[None]\n",
    "}\n",
    "tree = pd.DataFrame(tree)\n",
    "variables = {\n",
    "    'discrete':['CHAS'],\n",
    "    'continuous':['CRIM','ZN','INDUS','NOX','RM','AGE',\n",
    "                  'DIS','RAD','TAX','PTRATIO','B','LSTAT']\n",
    "}\n",
    "variable_set={\n",
    "    '1':variables\n",
    "}\n",
    "build_tree(boston, train_index, variable_set, tree, target='target')"
   ]
  },
  {
   "cell_type": "code",
   "execution_count": 114,
   "metadata": {
    "ExecuteTime": {
     "end_time": "2019-03-12T08:40:45.261534Z",
     "start_time": "2019-03-12T08:40:45.179547Z"
    }
   },
   "outputs": [
    {
     "data": {
      "text/html": [
       "<div>\n",
       "<style scoped>\n",
       "    .dataframe tbody tr th:only-of-type {\n",
       "        vertical-align: middle;\n",
       "    }\n",
       "\n",
       "    .dataframe tbody tr th {\n",
       "        vertical-align: top;\n",
       "    }\n",
       "\n",
       "    .dataframe thead th {\n",
       "        text-align: right;\n",
       "    }\n",
       "</style>\n",
       "<table border=\"1\" class=\"dataframe\">\n",
       "  <thead>\n",
       "    <tr style=\"text-align: right;\">\n",
       "      <th></th>\n",
       "      <th>split_variable</th>\n",
       "      <th>split_value</th>\n",
       "      <th>discrete</th>\n",
       "      <th>left_prediction</th>\n",
       "      <th>right_prediction</th>\n",
       "    </tr>\n",
       "  </thead>\n",
       "  <tbody>\n",
       "    <tr>\n",
       "      <th>0</th>\n",
       "      <td>None</td>\n",
       "      <td>NaN</td>\n",
       "      <td>None</td>\n",
       "      <td>NaN</td>\n",
       "      <td>NaN</td>\n",
       "    </tr>\n",
       "    <tr>\n",
       "      <th>1</th>\n",
       "      <td>LSTAT</td>\n",
       "      <td>7.85000</td>\n",
       "      <td>False</td>\n",
       "      <td>31.495763</td>\n",
       "      <td>18.367797</td>\n",
       "    </tr>\n",
       "    <tr>\n",
       "      <th>2</th>\n",
       "      <td>RM</td>\n",
       "      <td>7.42000</td>\n",
       "      <td>False</td>\n",
       "      <td>28.742857</td>\n",
       "      <td>44.985000</td>\n",
       "    </tr>\n",
       "    <tr>\n",
       "      <th>4</th>\n",
       "      <td>DIS</td>\n",
       "      <td>1.35670</td>\n",
       "      <td>False</td>\n",
       "      <td>50.000000</td>\n",
       "      <td>28.071579</td>\n",
       "    </tr>\n",
       "    <tr>\n",
       "      <th>9</th>\n",
       "      <td>PTRATIO</td>\n",
       "      <td>18.40000</td>\n",
       "      <td>False</td>\n",
       "      <td>29.756452</td>\n",
       "      <td>24.906061</td>\n",
       "    </tr>\n",
       "    <tr>\n",
       "      <th>18</th>\n",
       "      <td>TAX</td>\n",
       "      <td>264.00000</td>\n",
       "      <td>False</td>\n",
       "      <td>32.385000</td>\n",
       "      <td>28.504762</td>\n",
       "    </tr>\n",
       "    <tr>\n",
       "      <th>36</th>\n",
       "      <td>AGE</td>\n",
       "      <td>21.10000</td>\n",
       "      <td>False</td>\n",
       "      <td>27.800000</td>\n",
       "      <td>33.531250</td>\n",
       "    </tr>\n",
       "    <tr>\n",
       "      <th>73</th>\n",
       "      <td>ZN</td>\n",
       "      <td>0.00000</td>\n",
       "      <td>False</td>\n",
       "      <td>36.600000</td>\n",
       "      <td>32.823077</td>\n",
       "    </tr>\n",
       "    <tr>\n",
       "      <th>147</th>\n",
       "      <td>CRIM</td>\n",
       "      <td>0.04932</td>\n",
       "      <td>False</td>\n",
       "      <td>31.325000</td>\n",
       "      <td>33.488889</td>\n",
       "    </tr>\n",
       "    <tr>\n",
       "      <th>37</th>\n",
       "      <td>CRIM</td>\n",
       "      <td>0.06724</td>\n",
       "      <td>False</td>\n",
       "      <td>27.121739</td>\n",
       "      <td>30.178947</td>\n",
       "    </tr>\n",
       "    <tr>\n",
       "      <th>74</th>\n",
       "      <td>INDUS</td>\n",
       "      <td>1.52000</td>\n",
       "      <td>False</td>\n",
       "      <td>31.700000</td>\n",
       "      <td>25.850000</td>\n",
       "    </tr>\n",
       "    <tr>\n",
       "      <th>149</th>\n",
       "      <td>B</td>\n",
       "      <td>396.06000</td>\n",
       "      <td>False</td>\n",
       "      <td>26.975000</td>\n",
       "      <td>23.600000</td>\n",
       "    </tr>\n",
       "    <tr>\n",
       "      <th>298</th>\n",
       "      <td>ZN</td>\n",
       "      <td>85.00000</td>\n",
       "      <td>False</td>\n",
       "      <td>26.500000</td>\n",
       "      <td>32.200000</td>\n",
       "    </tr>\n",
       "    <tr>\n",
       "      <th>596</th>\n",
       "      <td>NOX</td>\n",
       "      <td>0.46000</td>\n",
       "      <td>False</td>\n",
       "      <td>25.371429</td>\n",
       "      <td>28.475000</td>\n",
       "    </tr>\n",
       "    <tr>\n",
       "      <th>75</th>\n",
       "      <td>RAD</td>\n",
       "      <td>4.00000</td>\n",
       "      <td>False</td>\n",
       "      <td>26.533333</td>\n",
       "      <td>31.861538</td>\n",
       "    </tr>\n",
       "    <tr>\n",
       "      <th>151</th>\n",
       "      <td>B</td>\n",
       "      <td>353.89000</td>\n",
       "      <td>False</td>\n",
       "      <td>25.650000</td>\n",
       "      <td>32.990909</td>\n",
       "    </tr>\n",
       "    <tr>\n",
       "      <th>303</th>\n",
       "      <td>NOX</td>\n",
       "      <td>0.42800</td>\n",
       "      <td>False</td>\n",
       "      <td>23.300000</td>\n",
       "      <td>33.960000</td>\n",
       "    </tr>\n",
       "    <tr>\n",
       "      <th>19</th>\n",
       "      <td>CRIM</td>\n",
       "      <td>0.03615</td>\n",
       "      <td>False</td>\n",
       "      <td>29.020000</td>\n",
       "      <td>24.171429</td>\n",
       "    </tr>\n",
       "    <tr>\n",
       "      <th>39</th>\n",
       "      <td>B</td>\n",
       "      <td>354.70000</td>\n",
       "      <td>False</td>\n",
       "      <td>27.500000</td>\n",
       "      <td>24.048148</td>\n",
       "    </tr>\n",
       "    <tr>\n",
       "      <th>79</th>\n",
       "      <td>TAX</td>\n",
       "      <td>305.00000</td>\n",
       "      <td>False</td>\n",
       "      <td>23.705556</td>\n",
       "      <td>24.733333</td>\n",
       "    </tr>\n",
       "    <tr>\n",
       "      <th>158</th>\n",
       "      <td>INDUS</td>\n",
       "      <td>4.86000</td>\n",
       "      <td>False</td>\n",
       "      <td>25.566667</td>\n",
       "      <td>23.333333</td>\n",
       "    </tr>\n",
       "    <tr>\n",
       "      <th>317</th>\n",
       "      <td>RAD</td>\n",
       "      <td>3.00000</td>\n",
       "      <td>False</td>\n",
       "      <td>24.500000</td>\n",
       "      <td>23.041667</td>\n",
       "    </tr>\n",
       "    <tr>\n",
       "      <th>635</th>\n",
       "      <td>NOX</td>\n",
       "      <td>0.49300</td>\n",
       "      <td>False</td>\n",
       "      <td>23.254545</td>\n",
       "      <td>20.700000</td>\n",
       "    </tr>\n",
       "    <tr>\n",
       "      <th>1270</th>\n",
       "      <td>AGE</td>\n",
       "      <td>40.10000</td>\n",
       "      <td>False</td>\n",
       "      <td>23.757143</td>\n",
       "      <td>22.375000</td>\n",
       "    </tr>\n",
       "    <tr>\n",
       "      <th>5</th>\n",
       "      <td>PTRATIO</td>\n",
       "      <td>14.70000</td>\n",
       "      <td>False</td>\n",
       "      <td>47.740000</td>\n",
       "      <td>42.230000</td>\n",
       "    </tr>\n",
       "    <tr>\n",
       "      <th>3</th>\n",
       "      <td>NOX</td>\n",
       "      <td>0.65500</td>\n",
       "      <td>False</td>\n",
       "      <td>20.219643</td>\n",
       "      <td>13.792647</td>\n",
       "    </tr>\n",
       "    <tr>\n",
       "      <th>6</th>\n",
       "      <td>DIS</td>\n",
       "      <td>1.16910</td>\n",
       "      <td>False</td>\n",
       "      <td>50.000000</td>\n",
       "      <td>20.041317</td>\n",
       "    </tr>\n",
       "    <tr>\n",
       "      <th>13</th>\n",
       "      <td>PTRATIO</td>\n",
       "      <td>19.60000</td>\n",
       "      <td>False</td>\n",
       "      <td>21.708247</td>\n",
       "      <td>17.731429</td>\n",
       "    </tr>\n",
       "    <tr>\n",
       "      <th>26</th>\n",
       "      <td>RM</td>\n",
       "      <td>6.59000</td>\n",
       "      <td>False</td>\n",
       "      <td>21.196629</td>\n",
       "      <td>27.400000</td>\n",
       "    </tr>\n",
       "    <tr>\n",
       "      <th>52</th>\n",
       "      <td>INDUS</td>\n",
       "      <td>2.46000</td>\n",
       "      <td>False</td>\n",
       "      <td>26.075000</td>\n",
       "      <td>20.967059</td>\n",
       "    </tr>\n",
       "    <tr>\n",
       "      <th>...</th>\n",
       "      <td>...</td>\n",
       "      <td>...</td>\n",
       "      <td>...</td>\n",
       "      <td>...</td>\n",
       "      <td>...</td>\n",
       "    </tr>\n",
       "    <tr>\n",
       "      <th>844</th>\n",
       "      <td>CHAS</td>\n",
       "      <td>0.00000</td>\n",
       "      <td>True</td>\n",
       "      <td>20.100000</td>\n",
       "      <td>23.000000</td>\n",
       "    </tr>\n",
       "    <tr>\n",
       "      <th>1688</th>\n",
       "      <td>RAD</td>\n",
       "      <td>2.00000</td>\n",
       "      <td>False</td>\n",
       "      <td>20.600000</td>\n",
       "      <td>19.683333</td>\n",
       "    </tr>\n",
       "    <tr>\n",
       "      <th>423</th>\n",
       "      <td>B</td>\n",
       "      <td>297.09000</td>\n",
       "      <td>False</td>\n",
       "      <td>23.800000</td>\n",
       "      <td>18.652941</td>\n",
       "    </tr>\n",
       "    <tr>\n",
       "      <th>847</th>\n",
       "      <td>RAD</td>\n",
       "      <td>3.00000</td>\n",
       "      <td>False</td>\n",
       "      <td>16.150000</td>\n",
       "      <td>18.986667</td>\n",
       "    </tr>\n",
       "    <tr>\n",
       "      <th>1695</th>\n",
       "      <td>TAX</td>\n",
       "      <td>304.00000</td>\n",
       "      <td>False</td>\n",
       "      <td>20.257143</td>\n",
       "      <td>17.875000</td>\n",
       "    </tr>\n",
       "    <tr>\n",
       "      <th>27</th>\n",
       "      <td>B</td>\n",
       "      <td>352.58000</td>\n",
       "      <td>False</td>\n",
       "      <td>15.600000</td>\n",
       "      <td>18.644898</td>\n",
       "    </tr>\n",
       "    <tr>\n",
       "      <th>54</th>\n",
       "      <td>CRIM</td>\n",
       "      <td>0.20746</td>\n",
       "      <td>False</td>\n",
       "      <td>8.100000</td>\n",
       "      <td>15.975000</td>\n",
       "    </tr>\n",
       "    <tr>\n",
       "      <th>109</th>\n",
       "      <td>RM</td>\n",
       "      <td>3.86300</td>\n",
       "      <td>False</td>\n",
       "      <td>23.100000</td>\n",
       "      <td>15.600000</td>\n",
       "    </tr>\n",
       "    <tr>\n",
       "      <th>219</th>\n",
       "      <td>AGE</td>\n",
       "      <td>48.20000</td>\n",
       "      <td>False</td>\n",
       "      <td>19.900000</td>\n",
       "      <td>15.361111</td>\n",
       "    </tr>\n",
       "    <tr>\n",
       "      <th>439</th>\n",
       "      <td>INDUS</td>\n",
       "      <td>8.14000</td>\n",
       "      <td>False</td>\n",
       "      <td>13.533333</td>\n",
       "      <td>15.726667</td>\n",
       "    </tr>\n",
       "    <tr>\n",
       "      <th>879</th>\n",
       "      <td>TAX</td>\n",
       "      <td>384.00000</td>\n",
       "      <td>False</td>\n",
       "      <td>18.600000</td>\n",
       "      <td>15.521429</td>\n",
       "    </tr>\n",
       "    <tr>\n",
       "      <th>1759</th>\n",
       "      <td>RAD</td>\n",
       "      <td>4.00000</td>\n",
       "      <td>False</td>\n",
       "      <td>15.600000</td>\n",
       "      <td>15.515385</td>\n",
       "    </tr>\n",
       "    <tr>\n",
       "      <th>55</th>\n",
       "      <td>AGE</td>\n",
       "      <td>91.90000</td>\n",
       "      <td>False</td>\n",
       "      <td>19.512500</td>\n",
       "      <td>17.011765</td>\n",
       "    </tr>\n",
       "    <tr>\n",
       "      <th>110</th>\n",
       "      <td>TAX</td>\n",
       "      <td>334.00000</td>\n",
       "      <td>False</td>\n",
       "      <td>18.481250</td>\n",
       "      <td>20.543750</td>\n",
       "    </tr>\n",
       "    <tr>\n",
       "      <th>220</th>\n",
       "      <td>RM</td>\n",
       "      <td>6.09600</td>\n",
       "      <td>False</td>\n",
       "      <td>18.150000</td>\n",
       "      <td>20.800000</td>\n",
       "    </tr>\n",
       "    <tr>\n",
       "      <th>440</th>\n",
       "      <td>INDUS</td>\n",
       "      <td>8.14000</td>\n",
       "      <td>False</td>\n",
       "      <td>18.630769</td>\n",
       "      <td>11.900000</td>\n",
       "    </tr>\n",
       "    <tr>\n",
       "      <th>880</th>\n",
       "      <td>CRIM</td>\n",
       "      <td>0.62739</td>\n",
       "      <td>False</td>\n",
       "      <td>19.012500</td>\n",
       "      <td>18.020000</td>\n",
       "    </tr>\n",
       "    <tr>\n",
       "      <th>221</th>\n",
       "      <td>RM</td>\n",
       "      <td>6.22900</td>\n",
       "      <td>False</td>\n",
       "      <td>20.178571</td>\n",
       "      <td>23.100000</td>\n",
       "    </tr>\n",
       "    <tr>\n",
       "      <th>442</th>\n",
       "      <td>CRIM</td>\n",
       "      <td>0.01360</td>\n",
       "      <td>False</td>\n",
       "      <td>18.900000</td>\n",
       "      <td>20.276923</td>\n",
       "    </tr>\n",
       "    <tr>\n",
       "      <th>885</th>\n",
       "      <td>RAD</td>\n",
       "      <td>5.00000</td>\n",
       "      <td>False</td>\n",
       "      <td>20.071429</td>\n",
       "      <td>20.516667</td>\n",
       "    </tr>\n",
       "    <tr>\n",
       "      <th>111</th>\n",
       "      <td>RM</td>\n",
       "      <td>6.18500</td>\n",
       "      <td>False</td>\n",
       "      <td>15.836364</td>\n",
       "      <td>19.166667</td>\n",
       "    </tr>\n",
       "    <tr>\n",
       "      <th>222</th>\n",
       "      <td>CRIM</td>\n",
       "      <td>0.13262</td>\n",
       "      <td>False</td>\n",
       "      <td>19.500000</td>\n",
       "      <td>15.470000</td>\n",
       "    </tr>\n",
       "    <tr>\n",
       "      <th>7</th>\n",
       "      <td>CRIM</td>\n",
       "      <td>9.82349</td>\n",
       "      <td>False</td>\n",
       "      <td>16.247619</td>\n",
       "      <td>9.826923</td>\n",
       "    </tr>\n",
       "    <tr>\n",
       "      <th>14</th>\n",
       "      <td>AGE</td>\n",
       "      <td>91.40000</td>\n",
       "      <td>False</td>\n",
       "      <td>18.081250</td>\n",
       "      <td>15.119231</td>\n",
       "    </tr>\n",
       "    <tr>\n",
       "      <th>28</th>\n",
       "      <td>B</td>\n",
       "      <td>272.21000</td>\n",
       "      <td>False</td>\n",
       "      <td>13.540000</td>\n",
       "      <td>20.145455</td>\n",
       "    </tr>\n",
       "    <tr>\n",
       "      <th>57</th>\n",
       "      <td>INDUS</td>\n",
       "      <td>18.10000</td>\n",
       "      <td>False</td>\n",
       "      <td>20.630000</td>\n",
       "      <td>15.300000</td>\n",
       "    </tr>\n",
       "    <tr>\n",
       "      <th>29</th>\n",
       "      <td>B</td>\n",
       "      <td>391.71000</td>\n",
       "      <td>False</td>\n",
       "      <td>16.255556</td>\n",
       "      <td>12.562500</td>\n",
       "    </tr>\n",
       "    <tr>\n",
       "      <th>58</th>\n",
       "      <td>RM</td>\n",
       "      <td>6.12200</td>\n",
       "      <td>False</td>\n",
       "      <td>17.400000</td>\n",
       "      <td>15.111111</td>\n",
       "    </tr>\n",
       "    <tr>\n",
       "      <th>15</th>\n",
       "      <td>RM</td>\n",
       "      <td>6.15200</td>\n",
       "      <td>False</td>\n",
       "      <td>8.568750</td>\n",
       "      <td>11.840000</td>\n",
       "    </tr>\n",
       "    <tr>\n",
       "      <th>30</th>\n",
       "      <td>DIS</td>\n",
       "      <td>1.70280</td>\n",
       "      <td>False</td>\n",
       "      <td>7.770000</td>\n",
       "      <td>9.900000</td>\n",
       "    </tr>\n",
       "  </tbody>\n",
       "</table>\n",
       "<p>70 rows × 5 columns</p>\n",
       "</div>"
      ],
      "text/plain": [
       "     split_variable  split_value discrete  left_prediction  right_prediction\n",
       "0              None          NaN     None              NaN               NaN\n",
       "1             LSTAT      7.85000    False        31.495763         18.367797\n",
       "2                RM      7.42000    False        28.742857         44.985000\n",
       "4               DIS      1.35670    False        50.000000         28.071579\n",
       "9           PTRATIO     18.40000    False        29.756452         24.906061\n",
       "18              TAX    264.00000    False        32.385000         28.504762\n",
       "36              AGE     21.10000    False        27.800000         33.531250\n",
       "73               ZN      0.00000    False        36.600000         32.823077\n",
       "147            CRIM      0.04932    False        31.325000         33.488889\n",
       "37             CRIM      0.06724    False        27.121739         30.178947\n",
       "74            INDUS      1.52000    False        31.700000         25.850000\n",
       "149               B    396.06000    False        26.975000         23.600000\n",
       "298              ZN     85.00000    False        26.500000         32.200000\n",
       "596             NOX      0.46000    False        25.371429         28.475000\n",
       "75              RAD      4.00000    False        26.533333         31.861538\n",
       "151               B    353.89000    False        25.650000         32.990909\n",
       "303             NOX      0.42800    False        23.300000         33.960000\n",
       "19             CRIM      0.03615    False        29.020000         24.171429\n",
       "39                B    354.70000    False        27.500000         24.048148\n",
       "79              TAX    305.00000    False        23.705556         24.733333\n",
       "158           INDUS      4.86000    False        25.566667         23.333333\n",
       "317             RAD      3.00000    False        24.500000         23.041667\n",
       "635             NOX      0.49300    False        23.254545         20.700000\n",
       "1270            AGE     40.10000    False        23.757143         22.375000\n",
       "5           PTRATIO     14.70000    False        47.740000         42.230000\n",
       "3               NOX      0.65500    False        20.219643         13.792647\n",
       "6               DIS      1.16910    False        50.000000         20.041317\n",
       "13          PTRATIO     19.60000    False        21.708247         17.731429\n",
       "26               RM      6.59000    False        21.196629         27.400000\n",
       "52            INDUS      2.46000    False        26.075000         20.967059\n",
       "...             ...          ...      ...              ...               ...\n",
       "844            CHAS      0.00000     True        20.100000         23.000000\n",
       "1688            RAD      2.00000    False        20.600000         19.683333\n",
       "423               B    297.09000    False        23.800000         18.652941\n",
       "847             RAD      3.00000    False        16.150000         18.986667\n",
       "1695            TAX    304.00000    False        20.257143         17.875000\n",
       "27                B    352.58000    False        15.600000         18.644898\n",
       "54             CRIM      0.20746    False         8.100000         15.975000\n",
       "109              RM      3.86300    False        23.100000         15.600000\n",
       "219             AGE     48.20000    False        19.900000         15.361111\n",
       "439           INDUS      8.14000    False        13.533333         15.726667\n",
       "879             TAX    384.00000    False        18.600000         15.521429\n",
       "1759            RAD      4.00000    False        15.600000         15.515385\n",
       "55              AGE     91.90000    False        19.512500         17.011765\n",
       "110             TAX    334.00000    False        18.481250         20.543750\n",
       "220              RM      6.09600    False        18.150000         20.800000\n",
       "440           INDUS      8.14000    False        18.630769         11.900000\n",
       "880            CRIM      0.62739    False        19.012500         18.020000\n",
       "221              RM      6.22900    False        20.178571         23.100000\n",
       "442            CRIM      0.01360    False        18.900000         20.276923\n",
       "885             RAD      5.00000    False        20.071429         20.516667\n",
       "111              RM      6.18500    False        15.836364         19.166667\n",
       "222            CRIM      0.13262    False        19.500000         15.470000\n",
       "7              CRIM      9.82349    False        16.247619          9.826923\n",
       "14              AGE     91.40000    False        18.081250         15.119231\n",
       "28                B    272.21000    False        13.540000         20.145455\n",
       "57            INDUS     18.10000    False        20.630000         15.300000\n",
       "29                B    391.71000    False        16.255556         12.562500\n",
       "58               RM      6.12200    False        17.400000         15.111111\n",
       "15               RM      6.15200    False         8.568750         11.840000\n",
       "30              DIS      1.70280    False         7.770000          9.900000\n",
       "\n",
       "[70 rows x 5 columns]"
      ]
     },
     "execution_count": 114,
     "metadata": {},
     "output_type": "execute_result"
    }
   ],
   "source": [
    "tree"
   ]
  },
  {
   "cell_type": "code",
   "execution_count": 115,
   "metadata": {
    "ExecuteTime": {
     "end_time": "2019-03-12T08:41:44.747546Z",
     "start_time": "2019-03-12T08:41:41.966974Z"
    }
   },
   "outputs": [],
   "source": [
    "def climb(data, tree):\n",
    "    n = data.shape[0]\n",
    "    prediction = pd.Series()\n",
    "    for i in range(n):\n",
    "        tmp = data.iloc[i]\n",
    "        leaf = False\n",
    "        node = 1\n",
    "        while not leaf:\n",
    "            variable = tree.loc[node]['split_variable']\n",
    "            discrete = tree.loc[node]['discrete']\n",
    "            if discrete:\n",
    "                left = tmp[variable] == tree.loc[node]['split_value']\n",
    "            else:\n",
    "                left = tmp[variable] <= tree.loc[node]['split_value']\n",
    "            if left:\n",
    "                prediction.loc[i] = tree.loc[node]['left_prediction']\n",
    "                node = node*2\n",
    "            else:\n",
    "                prediction.loc[i] = tree.loc[node]['right_prediction']\n",
    "                node = node*2+1\n",
    "            leaf = not (node in tree.index)\n",
    "    return prediction\n",
    "\n",
    "prediction = climb(boston.iloc[test_index], tree)"
   ]
  },
  {
   "cell_type": "code",
   "execution_count": 121,
   "metadata": {
    "ExecuteTime": {
     "end_time": "2019-03-12T08:43:47.860651Z",
     "start_time": "2019-03-12T08:43:47.848654Z"
    }
   },
   "outputs": [
    {
     "name": "stdout",
     "output_type": "stream",
     "text": [
      "(152, 1)\n"
     ]
    }
   ],
   "source": [
    "y_hat = np.array(prediction).reshape(len(prediction),1)\n",
    "print(y_hat.shape)"
   ]
  },
  {
   "cell_type": "code",
   "execution_count": 118,
   "metadata": {
    "ExecuteTime": {
     "end_time": "2019-03-12T08:42:45.534061Z",
     "start_time": "2019-03-12T08:42:45.525061Z"
    }
   },
   "outputs": [
    {
     "data": {
      "text/plain": [
       "(152, 1)"
      ]
     },
     "execution_count": 118,
     "metadata": {},
     "output_type": "execute_result"
    }
   ],
   "source": [
    "test_y.shape"
   ]
  },
  {
   "cell_type": "code",
   "execution_count": 123,
   "metadata": {
    "ExecuteTime": {
     "end_time": "2019-03-12T08:43:59.969766Z",
     "start_time": "2019-03-12T08:43:59.959767Z"
    }
   },
   "outputs": [
    {
     "data": {
      "text/plain": [
       "3743.746454860767"
      ]
     },
     "execution_count": 123,
     "metadata": {},
     "output_type": "execute_result"
    }
   ],
   "source": [
    "mse(test_y, y_hat)"
   ]
  },
  {
   "cell_type": "markdown",
   "metadata": {},
   "source": [
    "回忆线性回归的mse是3906，表明回归树相比线性回归表现要好一些。"
   ]
  },
  {
   "cell_type": "code",
   "execution_count": null,
   "metadata": {},
   "outputs": [],
   "source": []
  }
 ],
 "metadata": {
  "kernelspec": {
   "display_name": "Python 3",
   "language": "python",
   "name": "python3"
  },
  "language_info": {
   "codemirror_mode": {
    "name": "ipython",
    "version": 3
   },
   "file_extension": ".py",
   "mimetype": "text/x-python",
   "name": "python",
   "nbconvert_exporter": "python",
   "pygments_lexer": "ipython3",
   "version": "3.6.4"
  },
  "latex_envs": {
   "LaTeX_envs_menu_present": true,
   "autoclose": false,
   "autocomplete": true,
   "bibliofile": "biblio.bib",
   "cite_by": "apalike",
   "current_citInitial": 1,
   "eqLabelWithNumbers": true,
   "eqNumInitial": 1,
   "hotkeys": {
    "equation": "Ctrl-E",
    "itemize": "Ctrl-I"
   },
   "labels_anchors": false,
   "latex_user_defs": false,
   "report_style_numbering": true,
   "user_envs_cfg": false
  },
  "varInspector": {
   "cols": {
    "lenName": 16,
    "lenType": 16,
    "lenVar": 40
   },
   "kernels_config": {
    "python": {
     "delete_cmd_postfix": "",
     "delete_cmd_prefix": "del ",
     "library": "var_list.py",
     "varRefreshCmd": "print(var_dic_list())"
    },
    "r": {
     "delete_cmd_postfix": ") ",
     "delete_cmd_prefix": "rm(",
     "library": "var_list.r",
     "varRefreshCmd": "cat(var_dic_list()) "
    }
   },
   "types_to_exclude": [
    "module",
    "function",
    "builtin_function_or_method",
    "instance",
    "_Feature"
   ],
   "window_display": false
  }
 },
 "nbformat": 4,
 "nbformat_minor": 2
}
