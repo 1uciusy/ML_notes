{
 "cells": [
  {
   "cell_type": "markdown",
   "metadata": {},
   "source": [
    "# Kmeans聚类\n",
    "\n",
    "## 一、概念\n",
    "\n",
    "Kmeans是经典的无监督学习算法，不需要因变量$Y$来对数据进行学习，并根据学习结果将需要分类的数据分入之前分好的类中。\n",
    "\n",
    "Kmeans主要有以下几步：\n",
    "\n",
    "1. 随即选取K个样本点作为中心点\n",
    "\n",
    "2. 计算所有样本点到各个中心点的距离\n",
    "\n",
    "3. 将样本点就近分入属于最近的中心那一类中，得到K类\n",
    "\n",
    "4. 计算各类的中心\n",
    "\n",
    "不断重复迭代上述几步，直到中心点不再变动，模型就训练完成了。\n",
    "\n",
    "## 二、实施细节\n",
    "\n",
    "### 1.距离的选取\n",
    "\n",
    "距离公式的选取有多种，最常见的就是L1和L2。\n",
    "\n",
    "L1距离又称曼哈顿距离，两点$A(x_1, y_1)$，$B(x_2, y_2)$的L1距离为：\n",
    "\n",
    "$$\n",
    "L1(A, B) = |x_1 - x_2| + |y_1 - y_2|\n",
    "$$\n",
    "\n",
    "L2距离又称欧式距离，两点$A(x_1, y_1)$，$B(x_2, y_2)$的L2距离为：\n",
    "\n",
    "$$\n",
    "L2(A, B) = \\sqrt{(x_1 - x_2)^2 + (y_1 - y_2)^2}\n",
    "$$\n",
    "\n",
    "L1和L2距离有更泛化的定义，即为闵科夫斯基（Minkowski）距离，对于$A(x_1, x_2,...x_n)$，$B(y_1, y_2,...,y_n)$\n",
    "\n",
    "$$\n",
    "Minkowski(A,B;p) = (\\sum_{i=1}^n {|x_i-y_i|}^p)^{\\frac 1 p}\n",
    "$$\n",
    "\n",
    "也有其他的距离公式可以选取，根据实际情况选用不同的距离公式即可。\n",
    "\n",
    "### 2.新样本中心的计算\n",
    "\n",
    "将样本点就近分类之后需要计算新的样本点进行迭代，新样本点的计算大多是对该类的样本点取均值得到\n",
    "\n",
    "### 3.损失函数\n",
    "\n",
    "损失函数定义为各个样本点到其所属类的中心点的距离和，此处的距离和先前定义的距离保持一致，设有k类，$x_{ij}$表示从属于第i类的第j个点，第i类有$n_i$个样本点，各类中心点为$\\mu_i$：\n",
    "\n",
    "$$\n",
    "loss = \\sum_{i=1}^l \\sum_{j=1}^{n_i}distance(x_{ij}, \\mu_i)\n",
    "$$\n",
    "\n",
    "损失函数理论上会随着设定的中心点（类的数量）增加而不断降低，当只有一个类时损失最高，当所有样本点都是一个类时损失为0。然而相同类数并不能保证收敛之后有相同的损失和中心点，所以在极端情况下，类数较多时的损失仍有可能比类数较少是的损失大。\n",
    "\n",
    "### 4.K的选取\n",
    "\n",
    "K的选取有多种方法，最经典直观的是肘部原则：当类数不断增加时，损失整体而言随之减少。因此可以重复计算类数为2，3，4，...时的损失，取其平均然后作图，当前期K的增加会导致损失急剧地减小，函数图像会十分陡峭；当K达到一定数目之后，损失减小变得平缓，形成一个类似于肘部的形状，肘部的“关节”对应的K值即是合适的K值"
   ]
  },
  {
   "cell_type": "markdown",
   "metadata": {},
   "source": [
    "## 三、应用\n",
    "\n",
    "整个Kmeans算法在数学上并不复杂，但是实施起来有一定的繁琐程度，适合将算法分解成各个函数，以pandas的索引作为类的标识。"
   ]
  },
  {
   "cell_type": "code",
   "execution_count": 60,
   "metadata": {
    "ExecuteTime": {
     "end_time": "2019-02-24T12:51:59.780305Z",
     "start_time": "2019-02-24T12:51:59.740315Z"
    }
   },
   "outputs": [
    {
     "data": {
      "text/html": [
       "<div>\n",
       "<style scoped>\n",
       "    .dataframe tbody tr th:only-of-type {\n",
       "        vertical-align: middle;\n",
       "    }\n",
       "\n",
       "    .dataframe tbody tr th {\n",
       "        vertical-align: top;\n",
       "    }\n",
       "\n",
       "    .dataframe thead th {\n",
       "        text-align: right;\n",
       "    }\n",
       "</style>\n",
       "<table border=\"1\" class=\"dataframe\">\n",
       "  <thead>\n",
       "    <tr style=\"text-align: right;\">\n",
       "      <th></th>\n",
       "      <th>sepal.l</th>\n",
       "      <th>sepal.w</th>\n",
       "      <th>petal.l</th>\n",
       "      <th>petal.w</th>\n",
       "    </tr>\n",
       "    <tr>\n",
       "      <th>class</th>\n",
       "      <th></th>\n",
       "      <th></th>\n",
       "      <th></th>\n",
       "      <th></th>\n",
       "    </tr>\n",
       "  </thead>\n",
       "  <tbody>\n",
       "    <tr>\n",
       "      <th>Iris-setosa</th>\n",
       "      <td>5.1</td>\n",
       "      <td>3.5</td>\n",
       "      <td>1.4</td>\n",
       "      <td>0.2</td>\n",
       "    </tr>\n",
       "    <tr>\n",
       "      <th>Iris-setosa</th>\n",
       "      <td>4.9</td>\n",
       "      <td>3.0</td>\n",
       "      <td>1.4</td>\n",
       "      <td>0.2</td>\n",
       "    </tr>\n",
       "    <tr>\n",
       "      <th>Iris-setosa</th>\n",
       "      <td>4.7</td>\n",
       "      <td>3.2</td>\n",
       "      <td>1.3</td>\n",
       "      <td>0.2</td>\n",
       "    </tr>\n",
       "    <tr>\n",
       "      <th>Iris-setosa</th>\n",
       "      <td>4.6</td>\n",
       "      <td>3.1</td>\n",
       "      <td>1.5</td>\n",
       "      <td>0.2</td>\n",
       "    </tr>\n",
       "    <tr>\n",
       "      <th>Iris-setosa</th>\n",
       "      <td>5.0</td>\n",
       "      <td>3.6</td>\n",
       "      <td>1.4</td>\n",
       "      <td>0.2</td>\n",
       "    </tr>\n",
       "  </tbody>\n",
       "</table>\n",
       "</div>"
      ],
      "text/plain": [
       "             sepal.l  sepal.w  petal.l  petal.w\n",
       "class                                          \n",
       "Iris-setosa      5.1      3.5      1.4      0.2\n",
       "Iris-setosa      4.9      3.0      1.4      0.2\n",
       "Iris-setosa      4.7      3.2      1.3      0.2\n",
       "Iris-setosa      4.6      3.1      1.5      0.2\n",
       "Iris-setosa      5.0      3.6      1.4      0.2"
      ]
     },
     "execution_count": 60,
     "metadata": {},
     "output_type": "execute_result"
    }
   ],
   "source": [
    "import numpy as np\n",
    "import pandas as pd\n",
    "\n",
    "iris = pd.read_csv('Iris.data', header=None, names = ['sepal.l','sepal.w','petal.l','petal.w','class'])\n",
    "iris.index = iris['class']\n",
    "iris = iris.drop('class', axis=1)\n",
    "iris.head(5)"
   ]
  },
  {
   "cell_type": "code",
   "execution_count": 53,
   "metadata": {
    "ExecuteTime": {
     "end_time": "2019-02-24T12:49:23.293085Z",
     "start_time": "2019-02-24T12:49:23.261577Z"
    },
    "code_folding": []
   },
   "outputs": [
    {
     "name": "stdout",
     "output_type": "stream",
     "text": [
      "2.0\n"
     ]
    },
    {
     "data": {
      "text/plain": [
       "1     6.345077\n",
       "1     5.916925\n",
       "1     5.836095\n",
       "1     5.749783\n",
       "1     6.321392\n",
       "1     6.886218\n",
       "1     5.896609\n",
       "1     6.232977\n",
       "1     5.456189\n",
       "1     5.989992\n",
       "1     6.718631\n",
       "1     6.099180\n",
       "1     5.831809\n",
       "1     5.358171\n",
       "1     7.149825\n",
       "1     7.366139\n",
       "1     6.798529\n",
       "1     6.349016\n",
       "1     7.064701\n",
       "1     6.541407\n",
       "1     6.606815\n",
       "1     6.489222\n",
       "1     5.929587\n",
       "1     6.327717\n",
       "1     6.184658\n",
       "1     6.049793\n",
       "1     6.267376\n",
       "1     6.448256\n",
       "1     6.371813\n",
       "1     5.910161\n",
       "       ...    \n",
       "2     9.779059\n",
       "0     8.198171\n",
       "2    10.771258\n",
       "0     8.615683\n",
       "2     9.627045\n",
       "2    10.065784\n",
       "0     8.518216\n",
       "0     8.570881\n",
       "2     9.196195\n",
       "2     9.850888\n",
       "2    10.169562\n",
       "2    11.036757\n",
       "2     9.219544\n",
       "0     8.705745\n",
       "2     8.791473\n",
       "2    10.525683\n",
       "2     9.400532\n",
       "2     9.168424\n",
       "0     8.442748\n",
       "2     9.528379\n",
       "2     9.571834\n",
       "2     9.408507\n",
       "0     8.399405\n",
       "2     9.827512\n",
       "2     9.722140\n",
       "2     9.285473\n",
       "0     8.634234\n",
       "2     9.071384\n",
       "2     9.189668\n",
       "0     8.547514\n",
       "Length: 150, dtype: float64"
      ]
     },
     "execution_count": 53,
     "metadata": {},
     "output_type": "execute_result"
    }
   ],
   "source": [
    "def distance(a, b, p=2, dim=0):\n",
    "    diff = np.abs(a-b)\n",
    "    diff = np.power(diff, p)\n",
    "    diff = np.power(np.sum(diff, axis=dim), 1/p)\n",
    "    return diff\n",
    "\n",
    "a = np.array([0, 0, 0, 0])\n",
    "b = np.array([1, 1, 1, 1])\n",
    "print(distance(a, b))\n",
    "\n",
    "distance(a, iris, dim=1)"
   ]
  },
  {
   "cell_type": "markdown",
   "metadata": {},
   "source": [
    "是否收敛可以通过损失减少是否小于的阈值，或中心点是否移动判断。\n",
    "\n",
    "一般而言二者均可，通过判断中心点是否移动更稳健（也更麻烦）。下面写出如何判断中心点是否移动的函数，但稍后不会用在训练的函数中。\n",
    "\n",
    "因为计算机的特性，导致通过计算得来的两个浮点数几乎不可能相等，譬如一个不可逆矩阵的行列式可能不等于零（但实际上就是0），为解决这种问题通常是设置一定的阈值，低于这个阈值就视为两个值相同，通常的阈值是1e-16，但为了简便，下面的函数的阈值设置为0.0001，以判断前后的中心点是否不同。"
   ]
  },
  {
   "cell_type": "code",
   "execution_count": 4,
   "metadata": {
    "ExecuteTime": {
     "end_time": "2019-02-24T12:03:16.827324Z",
     "start_time": "2019-02-24T12:03:16.811329Z"
    },
    "code_folding": [
     0
    ]
   },
   "outputs": [
    {
     "name": "stdout",
     "output_type": "stream",
     "text": [
      "a : [0 0] b : [1 1]\n",
      "Is a and b the same point? : False\n",
      "a : [0.23559094 0.59014251] b : [0.23559093 0.5901425 ]\n",
      "Is a and b the same point numerically? : False\n",
      "Is a and b the same point by distance? : True\n"
     ]
    }
   ],
   "source": [
    "def judge(a, b):\n",
    "    diff = np.abs(a - b)\n",
    "    diff = np.sum(diff)\n",
    "    return diff < 0.0001\n",
    "\n",
    "a = np.array([0, 0])\n",
    "b = np.array([1, 1])\n",
    "print('a : '+str(a)+' b : '+str(b))\n",
    "print('Is a and b the same point? : '+str(judge(a, b)))\n",
    "\n",
    "a = np.random.randn(2)\n",
    "b = a.astype('float32')\n",
    "print('a : '+str(a)+' b : '+str(b))\n",
    "print('Is a and b the same point numerically? : '+str(a is b))\n",
    "print('Is a and b the same point by distance? : '+str(judge(a, b)))"
   ]
  },
  {
   "cell_type": "code",
   "execution_count": 57,
   "metadata": {
    "ExecuteTime": {
     "end_time": "2019-02-24T12:51:03.882694Z",
     "start_time": "2019-02-24T12:51:03.826704Z"
    }
   },
   "outputs": [
    {
     "data": {
      "text/plain": [
       "(array([2, 2, 2, 2, 2, 2, 2, 2, 2, 2, 2, 2, 2, 2, 2, 2, 2, 2, 2, 2, 2, 2,\n",
       "        2, 2, 2, 2, 2, 2, 2, 2, 2, 2, 2, 2, 2, 2, 2, 2, 2, 2, 2, 2, 2, 2,\n",
       "        2, 2, 2, 2, 2, 2, 1, 1, 1, 1, 1, 0, 1, 2, 1, 1, 2, 1, 1, 1, 1, 1,\n",
       "        1, 1, 1, 1, 1, 1, 0, 1, 1, 1, 1, 1, 1, 1, 1, 1, 1, 0, 0, 1, 1, 1,\n",
       "        1, 1, 0, 1, 1, 2, 1, 1, 1, 1, 2, 1, 0, 0, 0, 0, 0, 0, 0, 0, 0, 1,\n",
       "        1, 0, 1, 0, 0, 1, 0, 1, 0, 0, 1, 0, 0, 1, 0, 0, 1, 1, 0, 0, 0, 1,\n",
       "        0, 0, 0, 1, 0, 0, 1, 1, 1, 1, 0, 0, 1, 1, 0, 1, 0, 0], dtype=int64),\n",
       " 153.58512483193363)"
      ]
     },
     "execution_count": 57,
     "metadata": {},
     "output_type": "execute_result"
    }
   ],
   "source": [
    "def distance_overall(data, center):\n",
    "    k = center.shape[0]\n",
    "    dis = pd.DataFrame()\n",
    "    for i in range(k):\n",
    "        dis[str(i)] = distance(center.iloc[i], data, dim=1)\n",
    "    \n",
    "    dis = np.array(dis)\n",
    "    index = np.argmin(dis, axis=1)\n",
    "    dis = np.min(dis, axis=1)\n",
    "    loss = np.sum(dis)\n",
    "    return index,loss\n",
    "\n",
    "np.random.seed(2099)\n",
    "index = np.random.permutation(150)[0:3]\n",
    "center = iris.iloc[index[0:3]]\n",
    "distance_overall(iris, center)"
   ]
  },
  {
   "cell_type": "code",
   "execution_count": 62,
   "metadata": {
    "ExecuteTime": {
     "end_time": "2019-02-24T12:52:50.291854Z",
     "start_time": "2019-02-24T12:52:50.132029Z"
    }
   },
   "outputs": [
    {
     "data": {
      "text/plain": [
       "(    sepal.l   sepal.w   petal.l   petal.w\n",
       " 1  6.850000  3.073684  5.742105  2.071053\n",
       " 2  5.006000  3.428000  1.462000  0.246000\n",
       " 3  5.901613  2.748387  4.393548  1.433871,\n",
       "     sepal.l  sepal.w  petal.l  petal.w\n",
       " 1       5.1      3.5      1.4      0.2\n",
       " 1       4.9      3.0      1.4      0.2\n",
       " 1       4.7      3.2      1.3      0.2\n",
       " 1       4.6      3.1      1.5      0.2\n",
       " 1       5.0      3.6      1.4      0.2\n",
       " 1       5.4      3.9      1.7      0.4\n",
       " 1       4.6      3.4      1.4      0.3\n",
       " 1       5.0      3.4      1.5      0.2\n",
       " 1       4.4      2.9      1.4      0.2\n",
       " 1       4.9      3.1      1.5      0.1\n",
       " 1       5.4      3.7      1.5      0.2\n",
       " 1       4.8      3.4      1.6      0.2\n",
       " 1       4.8      3.0      1.4      0.1\n",
       " 1       4.3      3.0      1.1      0.1\n",
       " 1       5.8      4.0      1.2      0.2\n",
       " 1       5.7      4.4      1.5      0.4\n",
       " 1       5.4      3.9      1.3      0.4\n",
       " 1       5.1      3.5      1.4      0.3\n",
       " 1       5.7      3.8      1.7      0.3\n",
       " 1       5.1      3.8      1.5      0.3\n",
       " 1       5.4      3.4      1.7      0.2\n",
       " 1       5.1      3.7      1.5      0.4\n",
       " 1       4.6      3.6      1.0      0.2\n",
       " 1       5.1      3.3      1.7      0.5\n",
       " 1       4.8      3.4      1.9      0.2\n",
       " 1       5.0      3.0      1.6      0.2\n",
       " 1       5.0      3.4      1.6      0.4\n",
       " 1       5.2      3.5      1.5      0.2\n",
       " 1       5.2      3.4      1.4      0.2\n",
       " 1       4.7      3.2      1.6      0.2\n",
       " ..      ...      ...      ...      ...\n",
       " 0       6.9      3.2      5.7      2.3\n",
       " 2       5.6      2.8      4.9      2.0\n",
       " 0       7.7      2.8      6.7      2.0\n",
       " 2       6.3      2.7      4.9      1.8\n",
       " 0       6.7      3.3      5.7      2.1\n",
       " 0       7.2      3.2      6.0      1.8\n",
       " 2       6.2      2.8      4.8      1.8\n",
       " 2       6.1      3.0      4.9      1.8\n",
       " 0       6.4      2.8      5.6      2.1\n",
       " 0       7.2      3.0      5.8      1.6\n",
       " 0       7.4      2.8      6.1      1.9\n",
       " 0       7.9      3.8      6.4      2.0\n",
       " 0       6.4      2.8      5.6      2.2\n",
       " 2       6.3      2.8      5.1      1.5\n",
       " 0       6.1      2.6      5.6      1.4\n",
       " 0       7.7      3.0      6.1      2.3\n",
       " 0       6.3      3.4      5.6      2.4\n",
       " 0       6.4      3.1      5.5      1.8\n",
       " 2       6.0      3.0      4.8      1.8\n",
       " 0       6.9      3.1      5.4      2.1\n",
       " 0       6.7      3.1      5.6      2.4\n",
       " 0       6.9      3.1      5.1      2.3\n",
       " 2       5.8      2.7      5.1      1.9\n",
       " 0       6.8      3.2      5.9      2.3\n",
       " 0       6.7      3.3      5.7      2.5\n",
       " 0       6.7      3.0      5.2      2.3\n",
       " 2       6.3      2.5      5.0      1.9\n",
       " 0       6.5      3.0      5.2      2.0\n",
       " 0       6.2      3.4      5.4      2.3\n",
       " 2       5.9      3.0      5.1      1.8\n",
       " \n",
       " [150 rows x 4 columns],\n",
       " 97.20457357401651)"
      ]
     },
     "execution_count": 62,
     "metadata": {},
     "output_type": "execute_result"
    }
   ],
   "source": [
    "def kmeans(data, k=3):\n",
    "    decay = 1\n",
    "    loss_pre = 0\n",
    "    loss_aft = float('inf')\n",
    "    \n",
    "    initial_index = np.random.permutation(data.shape[0])\n",
    "    center = data.iloc[initial_index[0:k]]\n",
    "    \n",
    "    while decay > 0.01:\n",
    "        tmp = np.array([0, 0, 0, 0])\n",
    "        \n",
    "        loss_pre = loss_aft\n",
    "        data.index, loss_aft = distance_overall(data, center)\n",
    "        for i in range(k):\n",
    "            cluster = np.array(data.loc[i])\n",
    "            tmp = np.vstack([tmp, np.mean(cluster, axis = 0)])\n",
    "        \n",
    "        center = pd.DataFrame(tmp)\n",
    "        center.columns = ['sepal.l','sepal.w','petal.l','petal.w']\n",
    "        center = center.drop(0, axis=0)\n",
    "        decay = loss_pre-loss_aft\n",
    "    \n",
    "    return center, data, loss_aft\n",
    "\n",
    "kmeans(iris)"
   ]
  },
  {
   "cell_type": "code",
   "execution_count": null,
   "metadata": {},
   "outputs": [],
   "source": []
  }
 ],
 "metadata": {
  "kernelspec": {
   "display_name": "Python 3",
   "language": "python",
   "name": "python3"
  },
  "language_info": {
   "codemirror_mode": {
    "name": "ipython",
    "version": 3
   },
   "file_extension": ".py",
   "mimetype": "text/x-python",
   "name": "python",
   "nbconvert_exporter": "python",
   "pygments_lexer": "ipython3",
   "version": "3.6.4"
  },
  "latex_envs": {
   "LaTeX_envs_menu_present": true,
   "autoclose": false,
   "autocomplete": true,
   "bibliofile": "biblio.bib",
   "cite_by": "apalike",
   "current_citInitial": 1,
   "eqLabelWithNumbers": true,
   "eqNumInitial": 1,
   "hotkeys": {
    "equation": "Ctrl-E",
    "itemize": "Ctrl-I"
   },
   "labels_anchors": false,
   "latex_user_defs": false,
   "report_style_numbering": true,
   "user_envs_cfg": false
  },
  "varInspector": {
   "cols": {
    "lenName": 16,
    "lenType": 16,
    "lenVar": 40
   },
   "kernels_config": {
    "python": {
     "delete_cmd_postfix": "",
     "delete_cmd_prefix": "del ",
     "library": "var_list.py",
     "varRefreshCmd": "print(var_dic_list())"
    },
    "r": {
     "delete_cmd_postfix": ") ",
     "delete_cmd_prefix": "rm(",
     "library": "var_list.r",
     "varRefreshCmd": "cat(var_dic_list()) "
    }
   },
   "types_to_exclude": [
    "module",
    "function",
    "builtin_function_or_method",
    "instance",
    "_Feature"
   ],
   "window_display": false
  }
 },
 "nbformat": 4,
 "nbformat_minor": 2
}
