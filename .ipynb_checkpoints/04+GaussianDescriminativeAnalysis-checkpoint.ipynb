{
 "cells": [
  {
   "cell_type": "markdown",
   "metadata": {},
   "source": [
    "# 高斯判别分析（Gaussian Discriminant Analysis）\n",
    "\n",
    "## 一、概念\n",
    "\n",
    "高斯判别分析是用于分类的有监督学习算法，但是略不同于logistic regress。\n",
    "\n",
    "Logistic regression本质上是学习在给定自变量的情况下因变量的分布，也即条件分布$P(y|x)$，学习的是从从样本空间$X$到标签$\\{ 0, 1\\}$的直接映射，这种算法被称为**判别学习算法（discriminative learning algorithm）**。\n",
    "\n",
    "高斯判别分析学习的不是$P(y|x)$，由$P(y|x) = \\frac {P(x,y)}{P(x)} = \\frac {P(x|y)P(y)}{P(x)}$，其中$P(y), P(x)$可以进行假定，比如高斯判别分析假定X属于多元正态分布，Y属于伯努利分布，因此需要学习的分布就是$P(x|y)$，这种算法被称为**生成学习算法（generative learning algorithms）**\n",
    "\n",
    "高斯判别分析有如下假设：\n",
    "\n",
    "1. 自变量Y服从伯努利分布：$y\\sim Bernoulli(\\phi)$\n",
    "\n",
    "\n",
    "2. 在Y=0的条件下X服从多元正态分布：$x|y=0 \\sim N(\\mu_0, \\Sigma)$\n",
    "\n",
    "\n",
    "3. 在Y=1的条件下X服从多元正态分布：$x|y=1 \\sim N(\\mu_1, \\Sigma)$\n",
    "\n",
    "写成概率密度函数的形式则是：\n",
    "\n",
    "$$\n",
    "\\begin{split}\n",
    "p(y) &= \\phi^y(1-\\phi)^{1-y}\\\\\n",
    "p(x|y=0) &= \\frac 1 {(2\\pi)^{\\frac p 2}|\\Sigma|^{\\frac 1 2}}exp\\left( - \\frac 1 2(x-\\mu_0)^T \\Sigma^{-1} \\left( x-\\mu_0 \\right) \\right)\\\\\n",
    "p(x|y=1) &= \\frac 1 {(2\\pi)^{\\frac p 2}|\\Sigma|^{\\frac 1 2}}exp\\left( - \\frac 1 2(x-\\mu_1)^T \\Sigma^{-1} \\left( x-\\mu_1 \\right) \\right)\n",
    "\\end{split}\n",
    "$$\n",
    "\n",
    "其中，$y\\in\\{0, 1\\}$，$x, \\mu_0, \\mu_1 \\in R^{p}$ ，X是p维列向量，$\\mu_0,\\mu_1$分别是对应的均值向量，$\\Sigma \\in R^{p\\times p}$是$p\\times p$维协方差矩阵。\n",
    "\n",
    "模型参数为概率分布中的参数：$\\phi,\\mu_0,\\mu_1,\\Sigma$。"
   ]
  },
  {
   "cell_type": "markdown",
   "metadata": {},
   "source": [
    "## 二、优化\n",
    "\n",
    "由于我们要学习的是概率分布的参数，而非函数映射，因此优化的目标不再是通过损失函数求导获得，而是通过求解极大似然估计。\n",
    "\n",
    "$$\n",
    "\\begin{split}\n",
    "l(\\phi, \\mu_0, \\mu_1, \\Sigma) & = log \\prod_{i=1}^n p(x_i, y_i; \\phi, \\mu_0, \\mu_1, \\Sigma) \\\\\n",
    "& = log\\prod_{i=1}^n p(x_i| y_i; \\mu_0, \\mu_1, \\Sigma)p(y_i;\\phi)\n",
    "\\end{split}\n",
    "$$\n",
    "\n",
    "$$\n",
    "p(x,y) = \\left[ p\\left(x|y=0\\right) p\\left(y=0\\right)\\right] ^{1-y} \\left[p\\left(x|y=1\\right)p\\left(y=1\\right)\\right] ^{y}\n",
    "$$\n",
    "\n",
    "于是对数似然函数：\n",
    "\n",
    "$$\n",
    "\\begin{split}\n",
    "l(\\phi, \\mu_0, \\mu_1, \\Sigma) &= log\\prod_{i=1}^n p(x_i| y_i; \\mu_0, \\mu_1, \\Sigma)p(y_i;\\phi) \\\\\n",
    "& = \\sum_{i=1}^n [(1-y_i)log(p(x_i|y_i=0)p(y_i=0)) + y_i log(p(x_i|y_i=1)p(y_i=1))] \\\\\n",
    "& = \\sum_{i=1}^n [(1-y_i)log(p(x_i|y_i=0)) + (1-y_i)log(p(y_i=0)) + y_i log(p(x_i|y_i=1)) + y_i log(p(y_i=1))] \\\\\n",
    "& = \\sum_{i=1}^n (1-y_i)[-\\frac n 2 log(2\\pi) -\\frac 1 2 log(|\\Sigma |) -\\frac 1 2 {(X-\\mu_0)}^T\\Sigma^{-1}(X-\\mu_0) + log(1-\\phi)] \\\\\n",
    "& + \\sum_{i=1}^n y_i[-\\frac n 2 log(2\\pi) -\\frac 1 2 log(|\\Sigma |) -\\frac 1 2 {(X-\\mu_1)}^T\\Sigma^{-1}(X-\\mu_1) + log(\\phi)]\n",
    "\\end{split}\n",
    "$$\n",
    "\n",
    "对各个参数分别求导再令其等于零：\n",
    "\n",
    "$$\n",
    "\\begin{split}\n",
    "&\\frac{\\partial l(\\phi, \\mu_0, \\mu_1, \\Sigma)}{\\partial \\phi} = \\sum_{i=1}^n -\\frac {(1-y_i)}{1-\\phi} + \\frac{y_i}{\\phi}=0 \\\\\n",
    "&\\Leftrightarrow \\sum_{i=1}^n -(1-y_i)\\phi + y_i(1-\\phi) = 0 \\\\\n",
    "&\\Leftrightarrow \\phi = \\frac 1 n \\sum_{i=1}^n y_i\n",
    "\\end{split}\n",
    "$$\n",
    "\n",
    "对于$\\mu_0,\\mu_1,\\Sigma$的极大似然估计可以参考《应用多元统计分析（北京大学出版社，高慧璇编著）》P38-P40，书中给到的公式是对于单一正态总体：\n",
    "\n",
    "$$\n",
    "\\begin{split}\n",
    "\\hat \\mu &= \\bar X\\\\\n",
    "\\Sigma &= \\frac 1 n \\sum_{i=1}^n(x_i - \\bar X)(x_i - \\bar X)^T\n",
    "\\end{split}\n",
    "$$\n",
    "\n",
    "对于高斯判别分析，两类对应不同的分布函数，因此分类进行极大似然估计即可：\n",
    "\n",
    "$$\n",
    "\\hat \\mu_0 = \\frac{\\sum_{i=1}^n I(y_i = 0)x_i}{\\sum_{i=1}^n I(y_i=0)}\n",
    "$$\n",
    "\n",
    "$$\n",
    "\\hat \\mu_1 = \\frac{\\sum_{i=1}^n I(y_i = 1)x_i}{\\sum_{i=1}^n I(y_i=1)}\n",
    "$$\n",
    "\n",
    "$$\n",
    "\\Sigma = \\frac 1 n \\sum_{i=1}^n (x_i - \\hat \\mu_{y_i}){(x_i - \\hat \\mu_{y_i})}^T\n",
    "$$"
   ]
  },
  {
   "cell_type": "markdown",
   "metadata": {},
   "source": [
    "## 三、应用\n",
    "\n",
    "当我们求到两个条件分布的概率密度函数之后，只需要将新样本带入两个分布的概率密度函数，函数值较大者，即是样本更有可能属于的那一类。"
   ]
  },
  {
   "cell_type": "code",
   "execution_count": 1,
   "metadata": {
    "ExecuteTime": {
     "end_time": "2019-03-12T08:57:30.564253Z",
     "start_time": "2019-03-12T08:57:28.518550Z"
    }
   },
   "outputs": [
    {
     "data": {
      "text/plain": [
       "array(['Iris-setosa', 'Iris-versicolor'], dtype=object)"
      ]
     },
     "execution_count": 1,
     "metadata": {},
     "output_type": "execute_result"
    }
   ],
   "source": [
    "import numpy as np\n",
    "import pandas as pd\n",
    "\n",
    "names = ['sepal.l','sepal.w','petal.l','petal.w','class']\n",
    "iris = pd.read_csv('data_set/Iris.data', header=None, names = names)\n",
    "iris.index = iris['class']\n",
    "iris = iris.loc[['Iris-setosa', 'Iris-versicolor'],:]\n",
    "iris['class'].unique()"
   ]
  },
  {
   "cell_type": "code",
   "execution_count": 45,
   "metadata": {
    "ExecuteTime": {
     "end_time": "2019-02-25T10:21:48.964918Z",
     "start_time": "2019-02-25T10:21:48.943918Z"
    }
   },
   "outputs": [],
   "source": [
    "n = iris.shape[0] # 样本数\n",
    "p = iris.shape[1]-1 # 变量数\n",
    "\n",
    "np.random.seed(2099)\n",
    "index = np.random.permutation(n) # 打乱样本索引\n",
    "\n",
    "train_index = index[0: int(0.7*n)]\n",
    "test_index = index[int(0.7*n): n]\n",
    "\n",
    "y = iris['class']\n",
    "y = y=='Iris-setosa'\n",
    "x = iris.drop(['class'], axis=1)\n",
    "\n",
    "train_x = x.iloc[train_index]\n",
    "train_y = y.iloc[train_index]\n",
    "test_x = x.iloc[test_index]\n",
    "test_y = y.iloc[test_index]\n",
    "\n",
    "train_y = np.array(train_y).reshape([int(0.7*n), 1])\n",
    "test_y = np.array(test_y).reshape([n-int(0.7*n), 1])"
   ]
  },
  {
   "cell_type": "code",
   "execution_count": 46,
   "metadata": {
    "ExecuteTime": {
     "end_time": "2019-02-25T10:21:52.661954Z",
     "start_time": "2019-02-25T10:21:52.641960Z"
    }
   },
   "outputs": [
    {
     "name": "stdout",
     "output_type": "stream",
     "text": [
      "[[5.91470588]\n",
      " [2.75882353]\n",
      " [4.23823529]\n",
      " [1.32352941]]\n",
      "[[5.02777778]\n",
      " [3.475     ]\n",
      " [1.49444444]\n",
      " [0.25277778]]\n",
      "[[30.16985714 16.99785714 16.11471429  4.48242857]\n",
      " [16.99785714 10.02442857  8.39214286  2.24971429]\n",
      " [16.11471429  8.39214286  9.97014286  2.95457143]\n",
      " [ 4.48242857  2.24971429  2.95457143  0.90814286]]\n"
     ]
    }
   ],
   "source": [
    "versicolor = np.where(train_y==0)\n",
    "setosa = np.where(train_y==1)\n",
    "\n",
    "phi = train_y.mean()\n",
    "\n",
    "mu_0_hat = np.dot(train_x.T, 1-train_y)/np.sum(1-train_y)\n",
    "mu_1_hat = np.dot(train_x.T, train_y)/np.sum(train_y)\n",
    "\n",
    "train_x = np.array(train_x)\n",
    "sigma_x = train_x.copy()\n",
    "sigma_x[versicolor[0]] = sigma_x[versicolor[0]] - mu_0_hat.reshape([1,p])\n",
    "sigma_x[setosa[0]] = sigma_x[setosa[0]] - mu_1_hat.reshape([1,p])\n",
    "sigma = np.dot(train_x.T, train_x)/train_x.shape[0]\n",
    "\n",
    "print(mu_0_hat)\n",
    "print(mu_1_hat)\n",
    "print(sigma)"
   ]
  },
  {
   "cell_type": "code",
   "execution_count": 47,
   "metadata": {
    "ExecuteTime": {
     "end_time": "2019-02-25T10:21:56.381152Z",
     "start_time": "2019-02-25T10:21:56.358151Z"
    }
   },
   "outputs": [
    {
     "name": "stdout",
     "output_type": "stream",
     "text": [
      "[[6.6 2.9 4.6 1.3]\n",
      " [5.2 4.1 1.5 0.1]\n",
      " [5.  3.5 1.3 0.3]\n",
      " [5.2 3.5 1.5 0.2]\n",
      " [5.5 2.5 4.  1.3]\n",
      " [6.1 3.  4.6 1.4]\n",
      " [5.7 4.4 1.5 0.4]\n",
      " [5.1 3.8 1.5 0.3]\n",
      " [5.6 3.  4.5 1.5]\n",
      " [5.6 2.7 4.2 1.3]\n",
      " [6.  2.2 4.  1. ]\n",
      " [5.  3.5 1.6 0.6]\n",
      " [5.1 3.8 1.9 0.4]\n",
      " [6.6 3.  4.4 1.4]\n",
      " [4.8 3.  1.4 0.1]\n",
      " [5.8 4.  1.2 0.2]\n",
      " [6.  2.7 5.1 1.6]\n",
      " [5.1 3.5 1.4 0.2]\n",
      " [6.7 3.1 4.7 1.5]\n",
      " [5.6 3.  4.1 1.3]\n",
      " [6.2 2.9 4.3 1.3]\n",
      " [5.  3.4 1.5 0.2]\n",
      " [6.3 3.3 4.7 1.6]\n",
      " [5.6 2.5 3.9 1.1]\n",
      " [4.8 3.4 1.9 0.2]\n",
      " [6.1 2.8 4.  1.3]\n",
      " [5.  3.  1.6 0.2]\n",
      " [5.6 2.9 3.6 1.3]\n",
      " [4.4 3.  1.3 0.2]\n",
      " [5.5 2.3 4.  1.3]\n",
      " [4.9 3.1 1.5 0.2]\n",
      " [4.7 3.2 1.6 0.2]\n",
      " [4.6 3.2 1.4 0.2]\n",
      " [5.5 4.2 1.4 0.2]\n",
      " [5.4 3.9 1.7 0.4]\n",
      " [5.2 2.7 3.9 1.4]\n",
      " [6.7 3.1 4.4 1.4]\n",
      " [4.6 3.1 1.5 0.2]\n",
      " [5.7 2.6 3.5 1. ]\n",
      " [4.3 3.  1.1 0.1]\n",
      " [6.5 2.8 4.6 1.5]\n",
      " [5.  2.  3.5 1. ]\n",
      " [5.1 3.5 1.4 0.3]\n",
      " [6.3 2.3 4.4 1.3]\n",
      " [5.4 3.7 1.5 0.2]\n",
      " [5.5 2.4 3.7 1. ]\n",
      " [4.8 3.1 1.6 0.2]\n",
      " [5.7 3.8 1.7 0.3]\n",
      " [6.2 2.2 4.5 1.5]\n",
      " [6.  2.9 4.5 1.5]\n",
      " [5.3 3.7 1.5 0.2]\n",
      " [4.9 2.4 3.3 1. ]\n",
      " [5.1 3.4 1.5 0.2]\n",
      " [5.7 3.  4.2 1.2]\n",
      " [5.1 3.7 1.5 0.4]\n",
      " [4.9 3.  1.4 0.2]\n",
      " [5.4 3.  4.5 1.5]\n",
      " [6.9 3.1 4.9 1.5]\n",
      " [5.7 2.9 4.2 1.3]\n",
      " [5.7 2.8 4.1 1.3]\n",
      " [4.7 3.2 1.3 0.2]\n",
      " [4.8 3.  1.4 0.3]\n",
      " [5.4 3.4 1.5 0.4]\n",
      " [4.6 3.4 1.4 0.3]\n",
      " [4.8 3.4 1.6 0.2]\n",
      " [5.8 2.7 4.1 1. ]\n",
      " [5.1 3.8 1.6 0.2]\n",
      " [5.9 3.2 4.8 1.8]\n",
      " [6.4 2.9 4.3 1.3]\n",
      " [5.  3.4 1.6 0.4]]\n",
      "[[ 0.68529412  0.14117647  0.36176471 -0.02352941]\n",
      " [ 0.17222222  0.625       0.00555556 -0.15277778]\n",
      " [-0.02777778  0.025      -0.19444444  0.04722222]\n",
      " [ 0.17222222  0.025       0.00555556 -0.05277778]\n",
      " [-0.41470588 -0.25882353 -0.23823529 -0.02352941]\n",
      " [ 0.18529412  0.24117647  0.36176471  0.07647059]\n",
      " [ 0.67222222  0.925       0.00555556  0.14722222]\n",
      " [ 0.07222222  0.325       0.00555556  0.04722222]\n",
      " [-0.31470588  0.24117647  0.26176471  0.17647059]\n",
      " [-0.31470588 -0.05882353 -0.03823529 -0.02352941]\n",
      " [ 0.08529412 -0.55882353 -0.23823529 -0.32352941]\n",
      " [-0.02777778  0.025       0.10555556  0.34722222]\n",
      " [ 0.07222222  0.325       0.40555556  0.14722222]\n",
      " [ 0.68529412  0.24117647  0.16176471  0.07647059]\n",
      " [-0.22777778 -0.475      -0.09444444 -0.15277778]\n",
      " [ 0.77222222  0.525      -0.29444444 -0.05277778]\n",
      " [ 0.08529412 -0.05882353  0.86176471  0.27647059]\n",
      " [ 0.07222222  0.025      -0.09444444 -0.05277778]\n",
      " [ 0.78529412  0.34117647  0.46176471  0.17647059]\n",
      " [-0.31470588  0.24117647 -0.13823529 -0.02352941]\n",
      " [ 0.28529412  0.14117647  0.06176471 -0.02352941]\n",
      " [-0.02777778 -0.075       0.00555556 -0.05277778]\n",
      " [ 0.38529412  0.54117647  0.46176471  0.27647059]\n",
      " [-0.31470588 -0.25882353 -0.33823529 -0.22352941]\n",
      " [-0.22777778 -0.075       0.40555556 -0.05277778]\n",
      " [ 0.18529412  0.04117647 -0.23823529 -0.02352941]\n",
      " [-0.02777778 -0.475       0.10555556 -0.05277778]\n",
      " [-0.31470588  0.14117647 -0.63823529 -0.02352941]\n",
      " [-0.62777778 -0.475      -0.19444444 -0.05277778]\n",
      " [-0.41470588 -0.45882353 -0.23823529 -0.02352941]\n",
      " [-0.12777778 -0.375       0.00555556 -0.05277778]\n",
      " [-0.32777778 -0.275       0.10555556 -0.05277778]\n",
      " [-0.42777778 -0.275      -0.09444444 -0.05277778]\n",
      " [ 0.47222222  0.725      -0.09444444 -0.05277778]\n",
      " [ 0.37222222  0.425       0.20555556  0.14722222]\n",
      " [-0.71470588 -0.05882353 -0.33823529  0.07647059]\n",
      " [ 0.78529412  0.34117647  0.16176471  0.07647059]\n",
      " [-0.42777778 -0.375       0.00555556 -0.05277778]\n",
      " [-0.21470588 -0.15882353 -0.73823529 -0.32352941]\n",
      " [-0.72777778 -0.475      -0.39444444 -0.15277778]\n",
      " [ 0.58529412  0.04117647  0.36176471  0.17647059]\n",
      " [-0.91470588 -0.75882353 -0.73823529 -0.32352941]\n",
      " [ 0.07222222  0.025      -0.09444444  0.04722222]\n",
      " [ 0.38529412 -0.45882353  0.16176471 -0.02352941]\n",
      " [ 0.37222222  0.225       0.00555556 -0.05277778]\n",
      " [-0.41470588 -0.35882353 -0.53823529 -0.32352941]\n",
      " [-0.22777778 -0.375       0.10555556 -0.05277778]\n",
      " [ 0.67222222  0.325       0.20555556  0.04722222]\n",
      " [ 0.28529412 -0.55882353  0.26176471  0.17647059]\n",
      " [ 0.08529412  0.14117647  0.26176471  0.17647059]\n",
      " [ 0.27222222  0.225       0.00555556 -0.05277778]\n",
      " [-1.01470588 -0.35882353 -0.93823529 -0.32352941]\n",
      " [ 0.07222222 -0.075       0.00555556 -0.05277778]\n",
      " [-0.21470588  0.24117647 -0.03823529 -0.12352941]\n",
      " [ 0.07222222  0.225       0.00555556  0.14722222]\n",
      " [-0.12777778 -0.475      -0.09444444 -0.05277778]\n",
      " [-0.51470588  0.24117647  0.26176471  0.17647059]\n",
      " [ 0.98529412  0.34117647  0.66176471  0.17647059]\n",
      " [-0.21470588  0.14117647 -0.03823529 -0.02352941]\n",
      " [-0.21470588  0.04117647 -0.13823529 -0.02352941]\n",
      " [-0.32777778 -0.275      -0.19444444 -0.05277778]\n",
      " [-0.22777778 -0.475      -0.09444444  0.04722222]\n",
      " [ 0.37222222 -0.075       0.00555556  0.14722222]\n",
      " [-0.42777778 -0.075      -0.09444444  0.04722222]\n",
      " [-0.22777778 -0.075       0.10555556 -0.05277778]\n",
      " [-0.11470588 -0.05882353 -0.13823529 -0.32352941]\n",
      " [ 0.07222222  0.325       0.10555556 -0.05277778]\n",
      " [-0.01470588  0.44117647  0.56176471  0.47647059]\n",
      " [ 0.48529412  0.14117647  0.06176471 -0.02352941]\n",
      " [-0.02777778 -0.075       0.10555556  0.14722222]]\n"
     ]
    }
   ],
   "source": [
    "print(train_x)\n",
    "print(sigma_x)"
   ]
  },
  {
   "cell_type": "code",
   "execution_count": 48,
   "metadata": {
    "ExecuteTime": {
     "end_time": "2019-02-25T10:21:59.868469Z",
     "start_time": "2019-02-25T10:21:59.847468Z"
    }
   },
   "outputs": [
    {
     "name": "stdout",
     "output_type": "stream",
     "text": [
      "[0.05158901 0.00071774 0.00684229 0.01363433 0.10481722 0.06113685\n",
      " 0.00119583 0.00915141 0.01488632 0.09046647 0.00198879 0.00050439\n",
      " 0.00628861 0.06557128 0.00694552 0.0017596  0.03971691 0.01374556\n",
      " 0.10110418 0.04544751 0.11081438 0.01494656 0.03028553 0.06698615\n",
      " 0.00074869 0.05341568 0.00926372 0.01447576 0.02068535 0.0755752\n",
      " 0.01407197 0.01128818 0.01744431 0.00503466 0.00975464 0.02501363\n",
      " 0.06469796 0.01640875 0.0545105  0.01508242 0.05888063 0.04887789\n",
      " 0.00996067 0.0104076  0.011924   0.04287573 0.01368134 0.01322966\n",
      " 0.0059869  0.07935464 0.01220885 0.10763214 0.01439774 0.01953495\n",
      " 0.00598368 0.00921308 0.00431031 0.10156933 0.06861011 0.10397956\n",
      " 0.01657193 0.00958558 0.00167008 0.01291809 0.00843288 0.00432163\n",
      " 0.00473276 0.00132238 0.08790556 0.01420927]\n",
      "[6.82145974e-03 9.41447425e-03 5.48385881e-02 1.03099458e-01\n",
      " 1.47588959e-02 7.36247380e-03 1.62449514e-02 7.82431323e-02\n",
      " 1.65550454e-03 1.25868332e-02 3.16592263e-04 2.34399683e-03\n",
      " 3.41785424e-02 1.02391409e-02 4.03174530e-02 2.81405131e-02\n",
      " 1.98331107e-03 1.12000920e-01 1.20493382e-02 8.71010007e-03\n",
      " 1.80457304e-02 1.01436993e-01 3.60534114e-03 1.25882520e-02\n",
      " 3.42851064e-03 1.04038107e-02 4.22756888e-02 4.03947900e-03\n",
      " 1.12648290e-01 9.12996701e-03 7.47071601e-02 5.72674304e-02\n",
      " 1.04390575e-01 7.46950956e-02 7.19122221e-02 3.91249043e-03\n",
      " 1.10804410e-02 8.30864459e-02 1.76740808e-02 1.06137068e-01\n",
      " 5.91500352e-03 8.96228628e-03 7.40861682e-02 9.93341840e-04\n",
      " 1.08462016e-01 9.64407135e-03 6.53127294e-02 1.03761861e-01\n",
      " 3.96574604e-04 8.70669407e-03 1.09315009e-01 3.16252943e-02\n",
      " 9.92660289e-02 3.80626848e-03 4.32564016e-02 4.95945153e-02\n",
      " 4.64461899e-04 1.04251885e-02 1.13031420e-02 1.73692347e-02\n",
      " 1.10285593e-01 4.63645497e-02 1.00594736e-02 8.22482361e-02\n",
      " 5.06573229e-02 8.93092907e-04 4.04944640e-02 1.04205060e-04\n",
      " 1.47739463e-02 7.34038100e-02]\n"
     ]
    }
   ],
   "source": [
    "def multi_norm(x, mu, sigma):\n",
    "    p = sigma.shape[0]\n",
    "    pdf = np.exp(-np.dot(np.dot(x - mu.T, np.linalg.inv(sigma)), x.T-mu)/2)/np.power(2*np.pi, p/2)/np.power(np.linalg.det(sigma), 0.5)\n",
    "    return np.diag(pdf)\n",
    "\n",
    "print(multi_norm(train_x, mu=mu_0_hat, sigma=sigma))\n",
    "print(multi_norm(train_x, mu=mu_1_hat, sigma=sigma))"
   ]
  },
  {
   "cell_type": "code",
   "execution_count": 50,
   "metadata": {
    "ExecuteTime": {
     "end_time": "2019-02-25T10:22:27.544615Z",
     "start_time": "2019-02-25T10:22:27.532613Z"
    }
   },
   "outputs": [
    {
     "name": "stdout",
     "output_type": "stream",
     "text": [
      "[False  True  True  True False False  True  True False False False  True\n",
      "  True False  True  True False  True False False False  True False False\n",
      "  True False  True False  True False  True  True  True  True  True False\n",
      " False  True False  True False False  True False  True False  True  True\n",
      " False False  True False  True False  True  True False False False False\n",
      "  True  True  True  True  True False  True False False  True]\n"
     ]
    }
   ],
   "source": [
    "is_versicolor = multi_norm(train_x, mu=mu_0_hat, sigma=sigma)\n",
    "is_setosa = multi_norm(train_x, mu=mu_1_hat, sigma=sigma)\n",
    "train_y_hat = is_versicolor < is_setosa\n",
    "print(train_y_hat)"
   ]
  },
  {
   "cell_type": "code",
   "execution_count": 53,
   "metadata": {
    "ExecuteTime": {
     "end_time": "2019-02-25T10:25:17.370608Z",
     "start_time": "2019-02-25T10:25:17.345545Z"
    }
   },
   "outputs": [
    {
     "name": "stdout",
     "output_type": "stream",
     "text": [
      "1.0\n"
     ]
    }
   ],
   "source": [
    "def accuracy(y, y_hat):\n",
    "    n = y.shape[0]\n",
    "    return np.sum(y==y_hat)/n\n",
    "\n",
    "train_y_hat = np.array(train_y_hat).reshape([len(train_y_hat), 1])\n",
    "train_acc = accuracy(train_y, train_y_hat)\n",
    "print(train_acc)"
   ]
  },
  {
   "cell_type": "code",
   "execution_count": 54,
   "metadata": {
    "ExecuteTime": {
     "end_time": "2019-02-25T10:26:02.333851Z",
     "start_time": "2019-02-25T10:26:02.148880Z"
    }
   },
   "outputs": [
    {
     "name": "stdout",
     "output_type": "stream",
     "text": [
      "[False False  True False  True  True False  True False False False  True\n",
      "  True False  True False False False False  True  True False False  True\n",
      " False False  True  True  True  True]\n"
     ]
    }
   ],
   "source": [
    "is_versicolor = multi_norm(test_x, mu=mu_0_hat, sigma=sigma)\n",
    "is_setosa = multi_norm(test_x, mu=mu_1_hat, sigma=sigma)\n",
    "test_y_hat = is_versicolor < is_setosa\n",
    "print(test_y_hat)"
   ]
  },
  {
   "cell_type": "code",
   "execution_count": 55,
   "metadata": {
    "ExecuteTime": {
     "end_time": "2019-02-25T10:26:40.844555Z",
     "start_time": "2019-02-25T10:26:40.837560Z"
    }
   },
   "outputs": [
    {
     "name": "stdout",
     "output_type": "stream",
     "text": [
      "1.0\n"
     ]
    }
   ],
   "source": [
    "test_y_hat = np.array(test_y_hat).reshape([len(test_y_hat), 1])\n",
    "test_acc = accuracy(test_y, test_y_hat)\n",
    "print(test_acc)"
   ]
  },
  {
   "cell_type": "code",
   "execution_count": null,
   "metadata": {},
   "outputs": [],
   "source": []
  }
 ],
 "metadata": {
  "kernelspec": {
   "display_name": "Python 3",
   "language": "python",
   "name": "python3"
  },
  "language_info": {
   "codemirror_mode": {
    "name": "ipython",
    "version": 3
   },
   "file_extension": ".py",
   "mimetype": "text/x-python",
   "name": "python",
   "nbconvert_exporter": "python",
   "pygments_lexer": "ipython3",
   "version": "3.6.4"
  },
  "latex_envs": {
   "LaTeX_envs_menu_present": true,
   "autoclose": false,
   "autocomplete": true,
   "bibliofile": "biblio.bib",
   "cite_by": "apalike",
   "current_citInitial": 1,
   "eqLabelWithNumbers": true,
   "eqNumInitial": 1,
   "hotkeys": {
    "equation": "Ctrl-E",
    "itemize": "Ctrl-I"
   },
   "labels_anchors": false,
   "latex_user_defs": false,
   "report_style_numbering": true,
   "user_envs_cfg": false
  },
  "varInspector": {
   "cols": {
    "lenName": 16,
    "lenType": 16,
    "lenVar": 40
   },
   "kernels_config": {
    "python": {
     "delete_cmd_postfix": "",
     "delete_cmd_prefix": "del ",
     "library": "var_list.py",
     "varRefreshCmd": "print(var_dic_list())"
    },
    "r": {
     "delete_cmd_postfix": ") ",
     "delete_cmd_prefix": "rm(",
     "library": "var_list.r",
     "varRefreshCmd": "cat(var_dic_list()) "
    }
   },
   "types_to_exclude": [
    "module",
    "function",
    "builtin_function_or_method",
    "instance",
    "_Feature"
   ],
   "window_display": false
  }
 },
 "nbformat": 4,
 "nbformat_minor": 2
}
