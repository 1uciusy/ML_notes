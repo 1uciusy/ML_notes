{
 "cells": [
  {
   "cell_type": "markdown",
   "metadata": {},
   "source": [
    "# Classification and Regresssion Trees(Classification)\n",
    "\n",
    "## 一、概念\n",
    "\n",
    "决策树是一种经典且当前应用依然十分活跃的算法，用简单的一句话概括决策树的训练过程就是不停划分变量空间最后得到函数映射。就像分段函数一样:\n",
    "\n",
    "$$\n",
    "sign(x)=\\begin{cases}\n",
    "1 & x>0\\\\\n",
    "-1 & x\\le 0\n",
    "\\end{cases}\n",
    "$$\n",
    "\n",
    "我们可以看到这样的分类具有完备和互斥地性质，这意味着对于样本空间内的输入都有且仅有一个输出。\n",
    "\n",
    "如果你熟悉数据结构，那么决策树是通常一个完全二叉树，如果不熟悉也没关系。\n",
    "\n",
    "决策树有以下要点：\n",
    "\n",
    "1. 组织形式——树，\n",
    "\n",
    "2. 划分准则——信息增益、基尼系数等，本质都是衡量“不纯度”\n",
    "\n",
    "3. 增长方式——通过不断地选择变量进行划分然后生成子树\n",
    "\n",
    "4. 剪枝——防止过拟合\n",
    "\n",
    "譬如我们有一组数据，判断病人是否可能患病，决策树可能就会通过判断年龄是否大于50，血压血糖是否大于某个值来进行判断，也因此决策树具有很强的可解释性，展示起来十分直观"
   ]
  },
  {
   "cell_type": "markdown",
   "metadata": {},
   "source": [
    "## 二、训练\n",
    "\n",
    "### 1.组织形式\n",
    "\n",
    "树依靠节点之间的关系来组织。因为暂时不方便传图，所以不赘述。根节点为1，父节点和子节点之间有如下关系式：\n",
    "\n",
    "$$\n",
    "\\begin{split}\n",
    "    parent(i) = \\lfloor \\frac i2 \\rfloor \\\\\n",
    "    left-child(i) = 2i \\\\\n",
    "    right-child(i) = 2i+1\n",
    "\\end{split}\n",
    "$$\n",
    "\n",
    "### 2.划分准则\n",
    "\n",
    "衡量不纯度的指标有很多，不同的决策树算法会选用不同的指标，比如经典的ID3树和C4.5选用信息熵作为划分准则，而CART分类树选用基尼系数。\n",
    "\n",
    "基尼系数：假设有K个类，样本点属于第i类的概率为$p_i$，概率分布的基尼系数定义为：\n",
    "\n",
    "$$\n",
    "Gini(p) = \\sum_{i=1}^K p_i(1-p_i) = 1 - \\sum_{i=1}^K p_i^2\n",
    "$$\n",
    "\n",
    "对于给定的样本集合D，其基尼系数为：\n",
    "\n",
    "$$\n",
    "Gini(D) = 1 - \\sum_{i=1}^K \\left(\\frac {|C_i|}{|D|} \\right)^2\n",
    "$$\n",
    "\n",
    "其中$C_i$是样本中属于第i类的样本子集，K是类的个数。\n",
    "\n",
    "如果样本集合D根据特征A是否去某一可能值a被分割成$D_1$和$D_2$两个子集，则在特征A取值a的情况下集合D的基尼系数定义为：\n",
    "\n",
    "$$\n",
    "Gini(D,A=a) = \\frac{|D_1|}{|D|}Gini(D_1) + \\frac{|D_2|}{|D|}Gini(D_2)\n",
    "$$\n",
    "\n",
    "\n",
    "\n",
    "### 3.增长方式\n",
    "\n",
    "有了组织形式和划分准则之后，我们就要考虑如何让这棵树“生长”。\n",
    "\n",
    "以二分类为例，易知基尼系数的最大值是0.5，当且仅当取值0或1的概率都为0.5，也就是变量取值0和1的概率一样大。此时模型的输出可以视为随机的，应用在样本集合中也就是0和1的样本一样多，此时进行预测的结果和抛硬币无异，这显然不是我们想要的。\n",
    "\n",
    "而当基尼系数的取到最小值0时，可知有取值为0或1的概率中一个为0，一个为1，也就是变量取值是确定的，此时模型的输出是固定的，应用在样本集合中也就是只有0或1的样本，此时进行预测的结果是确定的，这才是我们希望得到的。\n",
    "\n",
    "因此我们可以发现基尼系数越大表示样本D的不确定性越大，所以我们希望**随着树的生长，基尼系数以最快的速度下降**。\n",
    "\n",
    "\n",
    "以下表的数据为例，变量A是连续变量，变量B是离散变量：\n",
    "\n",
    "|索引|变量A|变量B|标签|\n",
    "|----|-----|-----|----|\n",
    "|1   |2.1  |1    |1   |\n",
    "|2   |2.2  |1    |1   |\n",
    "|3   |1.8  |1    |0   |\n",
    "|4   |2.0  |1    |0   |\n",
    "|5   |1.6  |1    |1   |\n",
    "|6   |2.8  |2    |1   |\n",
    "|7   |1.3  |2    |0   |\n",
    "|8   |0.1  |2    |0   |\n",
    "|9   |3.8  |2    |1   |\n",
    "|10  |2.9  |2    |1   |\n",
    "|11  |0.5  |3    |0   |\n",
    "|12  |2.7  |3    |1   |\n",
    "|13  |0.9  |3    |0   |\n",
    "|14  |1.4  |3    |0   |\n",
    "|15  |1.2  |3    |0   |\n",
    "\n",
    "#### 对离散变量\n",
    "\n",
    "$$\n",
    "\\begin{split}\n",
    "    &Gini(D,B=1) = \\frac{5}{15}\\times\\left(1-\\left(\\frac35\\right)^2-\\left(\\frac25\\right)^2\\right) + \\frac{10}{15}\\times \\left(1-\\left(\\frac{4}{10}\\right)^2-\\left(\\frac{6}{10}\\right)^2\\right)=\\frac{12}{25}\\\\\n",
    "    &Gini(D,B=2) = \\frac{12}{25}\\\\\n",
    "    &Gini(D,B=3) = \\frac{32}{75} < \\frac{36}{75} = \\frac{12}{25}\n",
    "\\end{split}\n",
    "$$\n",
    "\n",
    "于是我们将B是否等于3作为划分条件生成两个子节点，或者直接将B作为叶节点，B等于3则预测0，B不等于3则预测1.\n",
    "\n",
    "#### 对连续变量\n",
    "\n",
    "连续变量的情况就会稍复杂一些，这由连续变量的特点决定，连续变量是稠密的，很可能一个样本集合内的某一连续变量没有两个相同的值，此时划分按照变量是否等于某个值进行则极为不合理，于是划分取值则按照变量是否小于（小于等于）某个值进行。这和大于等于（大于）是完全等价的。\n",
    "\n",
    "决策树的特点决定，决策树从根节点到叶节点的划分变量和划分取值都**以使基尼系数下降最大为目标**，这意味着决策树是确定的，每一个划分都是最优的。而对于连续变量的最优划分，则需要遍历连续变量的每个取值（大多数情况下也是遍历整个样本），然后选出最优划分条件。\n",
    "\n",
    "以表中数据为例，连续变量A的最优划分条件是$I\\{A\\le 2.0\\}$（我是这么设计的...）\n",
    "\n",
    "$$\n",
    "Gini(D,A\\le 2.0) = \\frac{9}{15}\\left(1-\\left(\\frac19\\right)^2 - \\left(\\frac89 \\right)^2\\right) + \\frac{6}{15}\\left(1-\\left(\\frac66\\right)^2 - \\left(\\frac06 \\right)^2\\right) = \\frac{16}{135}\n",
    "$$\n",
    "\n",
    "#### 停止\n",
    "\n",
    "每次划分节点时，使用一个变量，在此节点的子树下，当前划分变量不会再次出现，当划分变量用完时树的生长就会自然停止。\n",
    "\n",
    "这样生成的树极有可能会过拟合，有两种解决方法：一是早停法，即是不把所有变量用来生成划分条件，只选择部分变量进行划分，然而这样生成的决策树不具有确定性，因为随机种子不同，选择的变量也不同；另一种解决方法则是对决策树进行剪枝。\n",
    "\n",
    "### 4.剪枝\n",
    "\n",
    "剪枝相关还不熟练，暂时跳过。"
   ]
  },
  {
   "cell_type": "markdown",
   "metadata": {},
   "source": [
    "## 三、应用\n",
    "\n",
    "直接上真实数据集可能比较玄学，先用先前的数据集进行验证："
   ]
  },
  {
   "cell_type": "code",
   "execution_count": null,
   "metadata": {
    "ExecuteTime": {
     "start_time": "2019-03-23T07:43:17.640Z"
    }
   },
   "outputs": [],
   "source": [
    "import copy\n",
    "import numpy as np\n",
    "import pandas as pd\n",
    "from scipy import stats\n",
    "\n",
    "test_data = pd.DataFrame({\n",
    "    'A':[2.1, 2.2, 1.8, 2.0, 1.6, 2.8, 1.3, 0.1, 3.8, 2.9, 0.5, 2.7, 0.9, 1.4, 1.2],\n",
    "    'B':[1, 1, 1, 1, 1, 2, 2, 2, 2, 2, 3, 3, 3, 3, 3],\n",
    "    'label':[1, 1, 0, 0, 1, 1, 0, 0, 1, 1, 0, 1, 0, 0, 0]\n",
    "})\n",
    "test_data"
   ]
  },
  {
   "cell_type": "code",
   "execution_count": 2,
   "metadata": {
    "ExecuteTime": {
     "end_time": "2019-03-10T11:02:50.187388Z",
     "start_time": "2019-03-10T11:02:50.143396Z"
    }
   },
   "outputs": [
    {
     "name": "stdout",
     "output_type": "stream",
     "text": [
      "0.4977777777777777\n"
     ]
    }
   ],
   "source": [
    "def Gini(data, labels, index, target='label'):\n",
    "    data = data.loc[index]\n",
    "    n = data.shape[0]\n",
    "\n",
    "    gini = 1\n",
    "    \n",
    "    for label in labels:\n",
    "        p = np.sum(data[target] == label)/n\n",
    "        gini -= p*p\n",
    "    \n",
    "    return gini\n",
    "\n",
    "print(Gini(data=test_data, labels=[0, 1], index=np.linspace(0, 14, 15)))"
   ]
  },
  {
   "cell_type": "code",
   "execution_count": 3,
   "metadata": {
    "ExecuteTime": {
     "end_time": "2019-03-10T11:02:52.061098Z",
     "start_time": "2019-03-10T11:02:52.009107Z"
    },
    "code_folding": []
   },
   "outputs": [
    {
     "name": "stdout",
     "output_type": "stream",
     "text": [
      "0.4266666666666665\n",
      "0.4266666666666667\n",
      "0.11851851851851854\n",
      "0.11851851851851852\n"
     ]
    }
   ],
   "source": [
    "def conditional_gini(data, labels, split_variable, \n",
    "                     split_value, target='label', discrete=True):\n",
    "    n = data.shape[0]\n",
    "    if discrete:\n",
    "        index1 = data[data[split_variable]==split_value].index\n",
    "        index2 = data[data[split_variable]!=split_value].index\n",
    "        \n",
    "        gini1 = Gini(data=data, labels=labels, index=index1, target=target)\n",
    "        gini2 = Gini(data=data, labels=labels, index=index2, target=target)\n",
    "        \n",
    "        gini = len(index1)/n*gini1 + len(index2)/n*gini2\n",
    "        \n",
    "        return gini\n",
    "    else:\n",
    "        index1 = data[data[split_variable]<=split_value].index\n",
    "        index2 = data[data[split_variable]>split_value].index\n",
    "        \n",
    "        gini1 = Gini(data=data, labels=labels, index=index1, target=target)\n",
    "        gini2 = Gini(data=data, labels=labels, index=index2, target=target)\n",
    "        \n",
    "        gini = len(index1)/n*gini1 + len(index2)/n*gini2\n",
    "\n",
    "        return gini\n",
    "\n",
    "print(conditional_gini(data=test_data, labels=[0,1], \n",
    "                       split_variable='B', split_value=3))\n",
    "print(32/75)\n",
    "print(conditional_gini(data=test_data, labels=[0,1], \n",
    "                       split_variable='A', split_value=2, discrete=False))\n",
    "print(16/135)"
   ]
  },
  {
   "cell_type": "code",
   "execution_count": 4,
   "metadata": {
    "ExecuteTime": {
     "end_time": "2019-03-10T11:02:54.824162Z",
     "start_time": "2019-03-10T11:02:54.491211Z"
    },
    "code_folding": []
   },
   "outputs": [
    {
     "name": "stderr",
     "output_type": "stream",
     "text": [
      "c:\\users\\37922\\appdata\\local\\programs\\python\\python36\\lib\\site-packages\\ipykernel_launcher.py:8: RuntimeWarning: invalid value encountered in longlong_scalars\n",
      "  \n"
     ]
    },
    {
     "name": "stdout",
     "output_type": "stream",
     "text": [
      "(0.11851851851851854, 2.0)\n",
      "(0.4266666666666665, 3)\n"
     ]
    },
    {
     "data": {
      "text/plain": [
       "(0.11851851851851854, 2.0)"
      ]
     },
     "execution_count": 4,
     "metadata": {},
     "output_type": "execute_result"
    }
   ],
   "source": [
    "def split_value(data, variable, target, discrete=True):\n",
    "    labels = np.unique(data[target])\n",
    "    #data = data.loc[index]\n",
    "    gini = 1\n",
    "    \n",
    "    if discrete:\n",
    "        values = np.unique(data[variable])\n",
    "    else:\n",
    "        values = data[variable].copy()\n",
    "    split_value = values[0]\n",
    "    for value in values:\n",
    "        tmp = conditional_gini(data=data, labels=labels, split_variable=variable, \n",
    "                               split_value=value, target=target, discrete=discrete)\n",
    "        if tmp < gini:\n",
    "            gini = tmp\n",
    "            split_value = value\n",
    "        else:\n",
    "            continue\n",
    "    \n",
    "    return gini, split_value\n",
    "\n",
    "a, b = split_value(data=test_data, variable='A', target='label', discrete=False)\n",
    "print(split_value(data=test_data, variable='A', target='label', discrete=False))\n",
    "print(split_value(data=test_data, variable='B', target='label', discrete=True))\n",
    "a, b"
   ]
  },
  {
   "cell_type": "code",
   "execution_count": 5,
   "metadata": {
    "ExecuteTime": {
     "end_time": "2019-03-10T11:02:56.973296Z",
     "start_time": "2019-03-10T11:02:56.799321Z"
    },
    "code_folding": []
   },
   "outputs": [
    {
     "name": "stderr",
     "output_type": "stream",
     "text": [
      "c:\\users\\37922\\appdata\\local\\programs\\python\\python36\\lib\\site-packages\\ipykernel_launcher.py:8: RuntimeWarning: invalid value encountered in longlong_scalars\n",
      "  \n"
     ]
    },
    {
     "data": {
      "text/plain": [
       "(0.11851851851851854, 'A', 2.0, False)"
      ]
     },
     "execution_count": 5,
     "metadata": {},
     "output_type": "execute_result"
    }
   ],
   "source": [
    "def split_variable(data, index, target, variable_set):\n",
    "    gini = 1\n",
    "    #data = data.loc[index]\n",
    "    to_split_value = None\n",
    "    to_split_variable = None\n",
    "    \n",
    "    tmp_gini = None\n",
    "    tmp_value = None\n",
    "    var_type = None\n",
    "    \n",
    "    for dtype in variable_set:\n",
    "        discrete = dtype=='discrete'\n",
    "        for variable in variable_set[dtype]:\n",
    "            tmp_gini, tmp_value = split_value(data, variable, \n",
    "                                              target, discrete)\n",
    "            #print(tmp_gini)\n",
    "            #print(tmp_value)\n",
    "            if gini > tmp_gini:\n",
    "                gini = tmp_gini\n",
    "                to_split_value = tmp_value\n",
    "                to_split_variable = variable\n",
    "                var_type = discrete\n",
    "    \n",
    "    return gini, to_split_variable, to_split_value, var_type\n",
    "\n",
    "variable_set = {\n",
    "    'discrete':['B'],\n",
    "    'continuous':['A']\n",
    "}\n",
    "split_variable(data=test_data, index=np.linspace(0, 14, 15), \n",
    "               target='label', variable_set=variable_set)"
   ]
  },
  {
   "cell_type": "markdown",
   "metadata": {},
   "source": [
    "这次选的数据集是汽车数据集：http://archive.ics.uci.edu/ml/datasets/Car+Evaluation \n",
    "\n",
    "一共有六个变量：\n",
    "\n",
    "- buying：购买的价格，有四个取值，vhigh、high、med、low\n",
    "\n",
    "- maint：保养的价格，有四个取值，vhigh、high、med、low\n",
    "\n",
    "- doors：门的数量，有四个取值，2、3、4、5more\n",
    "\n",
    "- persons：载荷人数，有三个取值，2、4、more\n",
    "\n",
    "- lug_boot：后备箱的尺寸，有三个取值，small、med、big\n",
    "\n",
    "- safety：安全性，有三个取值，low、med、high\n",
    "\n",
    "还有一个标签：\n",
    "\n",
    "- acceptability：可接受程度，有四个取值，unacc、acc、good、vgood\n",
    "\n",
    "就直觉而言，门的数量和载荷人数按照连续变量进行处理更为合适，也有助于演示连续变量的划分。"
   ]
  },
  {
   "cell_type": "code",
   "execution_count": 6,
   "metadata": {
    "ExecuteTime": {
     "end_time": "2019-03-10T11:03:00.072131Z",
     "start_time": "2019-03-10T11:02:59.995144Z"
    }
   },
   "outputs": [
    {
     "data": {
      "text/html": [
       "<div>\n",
       "<style scoped>\n",
       "    .dataframe tbody tr th:only-of-type {\n",
       "        vertical-align: middle;\n",
       "    }\n",
       "\n",
       "    .dataframe tbody tr th {\n",
       "        vertical-align: top;\n",
       "    }\n",
       "\n",
       "    .dataframe thead th {\n",
       "        text-align: right;\n",
       "    }\n",
       "</style>\n",
       "<table border=\"1\" class=\"dataframe\">\n",
       "  <thead>\n",
       "    <tr style=\"text-align: right;\">\n",
       "      <th></th>\n",
       "      <th>buying</th>\n",
       "      <th>maint</th>\n",
       "      <th>doors</th>\n",
       "      <th>persons</th>\n",
       "      <th>lug_boot</th>\n",
       "      <th>safety</th>\n",
       "      <th>acc</th>\n",
       "    </tr>\n",
       "  </thead>\n",
       "  <tbody>\n",
       "    <tr>\n",
       "      <th>0</th>\n",
       "      <td>vhigh</td>\n",
       "      <td>vhigh</td>\n",
       "      <td>2</td>\n",
       "      <td>2</td>\n",
       "      <td>small</td>\n",
       "      <td>low</td>\n",
       "      <td>unacc</td>\n",
       "    </tr>\n",
       "    <tr>\n",
       "      <th>1</th>\n",
       "      <td>vhigh</td>\n",
       "      <td>vhigh</td>\n",
       "      <td>2</td>\n",
       "      <td>2</td>\n",
       "      <td>small</td>\n",
       "      <td>med</td>\n",
       "      <td>unacc</td>\n",
       "    </tr>\n",
       "    <tr>\n",
       "      <th>2</th>\n",
       "      <td>vhigh</td>\n",
       "      <td>vhigh</td>\n",
       "      <td>2</td>\n",
       "      <td>2</td>\n",
       "      <td>small</td>\n",
       "      <td>high</td>\n",
       "      <td>unacc</td>\n",
       "    </tr>\n",
       "    <tr>\n",
       "      <th>3</th>\n",
       "      <td>vhigh</td>\n",
       "      <td>vhigh</td>\n",
       "      <td>2</td>\n",
       "      <td>2</td>\n",
       "      <td>med</td>\n",
       "      <td>low</td>\n",
       "      <td>unacc</td>\n",
       "    </tr>\n",
       "    <tr>\n",
       "      <th>4</th>\n",
       "      <td>vhigh</td>\n",
       "      <td>vhigh</td>\n",
       "      <td>2</td>\n",
       "      <td>2</td>\n",
       "      <td>med</td>\n",
       "      <td>med</td>\n",
       "      <td>unacc</td>\n",
       "    </tr>\n",
       "  </tbody>\n",
       "</table>\n",
       "</div>"
      ],
      "text/plain": [
       "  buying  maint doors persons lug_boot safety    acc\n",
       "0  vhigh  vhigh     2       2    small    low  unacc\n",
       "1  vhigh  vhigh     2       2    small    med  unacc\n",
       "2  vhigh  vhigh     2       2    small   high  unacc\n",
       "3  vhigh  vhigh     2       2      med    low  unacc\n",
       "4  vhigh  vhigh     2       2      med    med  unacc"
      ]
     },
     "execution_count": 6,
     "metadata": {},
     "output_type": "execute_result"
    }
   ],
   "source": [
    "title = ['buying','maint','doors','persons','lug_boot','safety','acc']\n",
    "car = pd.read_csv('data_set/car.data', header=None, names=title)\n",
    "car.head()"
   ]
  },
  {
   "cell_type": "markdown",
   "metadata": {},
   "source": [
    "计算训练集和测试集的基尼系数"
   ]
  },
  {
   "cell_type": "code",
   "execution_count": 7,
   "metadata": {
    "ExecuteTime": {
     "end_time": "2019-03-10T11:03:02.747212Z",
     "start_time": "2019-03-10T11:03:02.618230Z"
    }
   },
   "outputs": [
    {
     "name": "stdout",
     "output_type": "stream",
     "text": [
      "0.46404653272499263\n",
      "0.4407096795749942\n"
     ]
    }
   ],
   "source": [
    "car = car.replace(['more', '5more'], 6)\n",
    "n = car.shape[0]\n",
    "\n",
    "np.random.seed(2099)\n",
    "index = np.random.permutation(n)\n",
    "train_index = index[0: int(0.7*n)]\n",
    "test_index = index[int(0.7*n): n]\n",
    "\n",
    "labels = np.unique(car['acc'])\n",
    "print(Gini(data=car, labels=labels, index=train_index, target='acc'))\n",
    "print(Gini(data=car, labels=labels, index=test_index, target='acc'))"
   ]
  },
  {
   "cell_type": "markdown",
   "metadata": {},
   "source": [
    "计算以buying为划分变量，‘vhigh’为划分值的基尼系数"
   ]
  },
  {
   "cell_type": "code",
   "execution_count": 8,
   "metadata": {
    "ExecuteTime": {
     "end_time": "2019-03-10T11:03:05.194008Z",
     "start_time": "2019-03-10T11:03:05.170009Z"
    }
   },
   "outputs": [
    {
     "name": "stdout",
     "output_type": "stream",
     "text": [
      "0.45587846574195173\n"
     ]
    }
   ],
   "source": [
    "conditional_gini(car.loc[train_index], labels, \n",
    "                 split_variable='buying', split_value='vhigh', target='acc')"
   ]
  },
  {
   "cell_type": "markdown",
   "metadata": {},
   "source": [
    "寻找以buying为划分变量时最好的划分值"
   ]
  },
  {
   "cell_type": "code",
   "execution_count": 9,
   "metadata": {
    "ExecuteTime": {
     "end_time": "2019-03-10T11:03:07.887061Z",
     "start_time": "2019-03-10T11:03:07.816068Z"
    }
   },
   "outputs": [
    {
     "data": {
      "text/plain": [
       "(0.45587846574195173, 'vhigh')"
      ]
     },
     "execution_count": 9,
     "metadata": {},
     "output_type": "execute_result"
    }
   ],
   "source": [
    "split_value(data=car.loc[train_index], variable='buying', \n",
    "            target='acc', discrete=True)"
   ]
  },
  {
   "cell_type": "code",
   "execution_count": 10,
   "metadata": {
    "ExecuteTime": {
     "end_time": "2019-03-10T11:03:52.715317Z",
     "start_time": "2019-03-10T11:03:52.708316Z"
    }
   },
   "outputs": [],
   "source": [
    "variable_set={\n",
    "    'discrete':['buying', 'maint', 'lug_boot', 'safety'],\n",
    "    'continuous':['doors', 'persons']\n",
    "}"
   ]
  },
  {
   "cell_type": "code",
   "execution_count": 11,
   "metadata": {
    "ExecuteTime": {
     "end_time": "2019-03-10T11:04:27.824042Z",
     "start_time": "2019-03-10T11:03:55.084279Z"
    },
    "scrolled": true
   },
   "outputs": [
    {
     "name": "stderr",
     "output_type": "stream",
     "text": [
      "c:\\users\\37922\\appdata\\local\\programs\\python\\python36\\lib\\site-packages\\ipykernel_launcher.py:8: RuntimeWarning: invalid value encountered in longlong_scalars\n",
      "  \n"
     ]
    },
    {
     "data": {
      "text/plain": [
       "(0.386157126093107, 'safety', 'low', True)"
      ]
     },
     "execution_count": 11,
     "metadata": {},
     "output_type": "execute_result"
    }
   ],
   "source": [
    "car['doors'] = car['doors'].astype('int')\n",
    "car['persons'] = car['persons'].astype('int')\n",
    "\n",
    "split_variable(data=car, index=train_index, \n",
    "               target='acc', variable_set=variable_set)"
   ]
  },
  {
   "cell_type": "markdown",
   "metadata": {},
   "source": [
    "定义*build_tree*递归生成一棵树，遇到困难的地方就是传递可分割变量的字典变量，因为我们按照连续和离散划分变量，针对不同类型的变量划分方法也不一样。离散是按是否等于某个值进行判断，而连续变量则是按是否小于等于某个值，因此我们传递的可划分变量是以字典组织的。\n",
    "\n",
    "而python传递实例时是传地址，因此一个节点对字典进行删除元素的操作会对所有的所有的节点产生影响。\n",
    "\n",
    "一般这样处理是用copy()方法即可，但对字典并不可行，于是经过查阅发现deepcopy()可行。"
   ]
  },
  {
   "cell_type": "code",
   "execution_count": 41,
   "metadata": {
    "ExecuteTime": {
     "end_time": "2019-03-10T12:38:03.302719Z",
     "start_time": "2019-03-10T12:33:41.635943Z"
    },
    "code_folding": []
   },
   "outputs": [
    {
     "name": "stdout",
     "output_type": "stream",
     "text": [
      "1:False\n"
     ]
    },
    {
     "name": "stderr",
     "output_type": "stream",
     "text": [
      "c:\\users\\37922\\appdata\\local\\programs\\python\\python36\\lib\\site-packages\\ipykernel_launcher.py:8: RuntimeWarning: invalid value encountered in longlong_scalars\n",
      "  \n"
     ]
    },
    {
     "name": "stdout",
     "output_type": "stream",
     "text": [
      "2:True\n",
      "3:False\n",
      "6:True\n",
      "7:False\n",
      "14:False\n",
      "28:True\n",
      "29:False\n",
      "58:False\n",
      "116:True\n",
      "117:True\n",
      "59:False\n",
      "118:True\n",
      "119:True\n",
      "15:False\n",
      "30:False\n",
      "60:False\n",
      "120:True\n",
      "121:True\n",
      "61:False\n",
      "122:True\n",
      "123:True\n",
      "31:False\n",
      "62:False\n",
      "124:True\n",
      "125:True\n",
      "63:False\n",
      "126:True\n",
      "127:True\n"
     ]
    }
   ],
   "source": [
    "def build_tree(data, index, variable_set, tree, target, node=1):\n",
    "    \"\"\"\n",
    "    data: all the data\n",
    "    index: the data on which shall be splited, data won't change in recursion but index\n",
    "    variable_set: variables to be split\n",
    "    tree: a dataframe with node,split_variable,split_value,discrete,leaf,left and right prediction\n",
    "    target: the label variable\n",
    "    node: the node of the tree\n",
    "    \"\"\"\n",
    "    tmp = data.iloc[index]\n",
    "    leaf = len(variable_set[str(node)]['discrete'])==0\n",
    "    leaf = leaf and len(variable_set[str(node)]['continuous'])==0\n",
    "    leaf = leaf or len(np.unique(tmp[target]))==1 \n",
    "    \n",
    "    print(str(node)+\":\"+str(leaf))\n",
    "    \n",
    "    if not leaf:\n",
    "        gini, variable, value, discrete = split_variable(data, index, target, \n",
    "                                                         variable_set[str(node)])\n",
    "        prediction = stats.mode(tmp[target])[0][0]\n",
    "        if discrete:\n",
    "            variable_set[str(node)]['discrete'].remove(variable)\n",
    "            variable_set[str(node*2)] = copy.deepcopy(variable_set[str(node)])\n",
    "            variable_set[str(node*2+1)] = copy.deepcopy(variable_set[str(node)])\n",
    "            #variable_set['continuous'].remove(variable)\n",
    "            #left_set = variable_set.copy()\n",
    "            #right_set = variable_set.copy()\n",
    "            \n",
    "            index1 = tmp[tmp[variable] == value].index\n",
    "            left_prediction = stats.mode(data.iloc[index1][target])[0][0]\n",
    "            index2 = tmp[tmp[variable] != value].index\n",
    "            right_prediction = stats.mode(data.iloc[index2][target])[0][0]\n",
    "        else:\n",
    "            variable_set[str(node)]['continuous'].remove(variable)\n",
    "            variable_set[str(node*2)] = copy.deepcopy(variable_set[str(node)])\n",
    "            variable_set[str(node*2+1)] = copy.deepcopy(variable_set[str(node)]) \n",
    "            #variable_set['continuous'].remove(variable)\n",
    "            #left_set = variable_set.copy()\n",
    "            #right_set = variable_set.copy()\n",
    "            \n",
    "            index1 = tmp[tmp[variable] <= value].index\n",
    "            left_prediction = stats.mode(data.iloc[index1][target])[0][0]\n",
    "            index2 = tmp[tmp[variable] > value].index\n",
    "            right_prediction = stats.mode(data.iloc[index2][target])[0][0]\n",
    "\n",
    "        tree.loc[node] = [variable, value, discrete, left_prediction, right_prediction]\n",
    "        \n",
    "        build_tree(data=data, index=index1, variable_set=variable_set, \n",
    "                   tree=tree, target='acc', node=node*2)\n",
    "        build_tree(data=data, index=index2, variable_set=variable_set, \n",
    "                   tree=tree, target='acc', node=node*2+1)\n",
    "\n",
    "\n",
    "tree = {\n",
    "    'split_variable':[None],\n",
    "    'split_value':[None],\n",
    "    'discrete':[None],\n",
    "    'left_prediction': [None],\n",
    "    'right_prediction':[None]\n",
    "}\n",
    "tree = pd.DataFrame(tree)\n",
    "variables={\n",
    "    'discrete':['buying', 'maint', 'lug_boot', 'safety'],\n",
    "    'continuous':['doors', 'persons']\n",
    "}\n",
    "variable_set={\n",
    "    '1':variables\n",
    "}\n",
    "build_tree(data=car, index=train_index, variable_set=variable_set, \n",
    "           tree=tree, target='acc')"
   ]
  },
  {
   "cell_type": "markdown",
   "metadata": {},
   "source": [
    "定义预测的函数为*climb*（爬树嘻嘻），主要作用是按照树的条件进行查询和判断。"
   ]
  },
  {
   "cell_type": "code",
   "execution_count": 64,
   "metadata": {
    "ExecuteTime": {
     "end_time": "2019-03-10T13:57:34.511683Z",
     "start_time": "2019-03-10T13:57:31.201189Z"
    }
   },
   "outputs": [],
   "source": [
    "def climb(data, tree):\n",
    "    n = data.shape[0]\n",
    "    prediction = pd.Series()\n",
    "    for i in range(n):\n",
    "        tmp = data.iloc[i]\n",
    "        leaf = False\n",
    "        node = 1\n",
    "        while not leaf:\n",
    "            variable = tree.loc[node]['split_variable']\n",
    "            discrete = tree.loc[node]['discrete']\n",
    "            if discrete:\n",
    "                left = tmp[variable] == tree.loc[node]['split_value']\n",
    "            else:\n",
    "                left = tmp[variable] <= tree.loc[node]['split_value']\n",
    "            if left:\n",
    "                prediction.loc[i] = tree.loc[node]['left_prediction']\n",
    "                node = node*2\n",
    "            else:\n",
    "                prediction.loc[i] = tree.loc[node]['right_prediction']\n",
    "                node = node*2+1\n",
    "            leaf = not (node in tree.index)\n",
    "    return prediction\n",
    "\n",
    "prediction = climb(car.iloc[test_index], tree)      "
   ]
  },
  {
   "cell_type": "code",
   "execution_count": 72,
   "metadata": {
    "ExecuteTime": {
     "end_time": "2019-03-10T14:06:07.795617Z",
     "start_time": "2019-03-10T14:06:07.781619Z"
    }
   },
   "outputs": [
    {
     "name": "stdout",
     "output_type": "stream",
     "text": [
      "the accuracy rate is: 0.8342967244701349\n"
     ]
    }
   ],
   "source": [
    "prediction.index = test_index\n",
    "\n",
    "rate = np.sum(prediction == car.iloc[test_index]['acc'])/len(prediction)\n",
    "print('the accuracy rate is: '+str(rate))"
   ]
  },
  {
   "cell_type": "code",
   "execution_count": 53,
   "metadata": {
    "ExecuteTime": {
     "end_time": "2019-03-10T13:46:22.604539Z",
     "start_time": "2019-03-10T13:46:22.563543Z"
    }
   },
   "outputs": [
    {
     "data": {
      "text/html": [
       "<div>\n",
       "<style scoped>\n",
       "    .dataframe tbody tr th:only-of-type {\n",
       "        vertical-align: middle;\n",
       "    }\n",
       "\n",
       "    .dataframe tbody tr th {\n",
       "        vertical-align: top;\n",
       "    }\n",
       "\n",
       "    .dataframe thead th {\n",
       "        text-align: right;\n",
       "    }\n",
       "</style>\n",
       "<table border=\"1\" class=\"dataframe\">\n",
       "  <thead>\n",
       "    <tr style=\"text-align: right;\">\n",
       "      <th></th>\n",
       "      <th>split_variable</th>\n",
       "      <th>split_value</th>\n",
       "      <th>discrete</th>\n",
       "      <th>left_prediction</th>\n",
       "      <th>right_prediction</th>\n",
       "    </tr>\n",
       "  </thead>\n",
       "  <tbody>\n",
       "    <tr>\n",
       "      <th>0</th>\n",
       "      <td>None</td>\n",
       "      <td>None</td>\n",
       "      <td>None</td>\n",
       "      <td>None</td>\n",
       "      <td>None</td>\n",
       "    </tr>\n",
       "    <tr>\n",
       "      <th>1</th>\n",
       "      <td>safety</td>\n",
       "      <td>low</td>\n",
       "      <td>True</td>\n",
       "      <td>unacc</td>\n",
       "      <td>unacc</td>\n",
       "    </tr>\n",
       "    <tr>\n",
       "      <th>3</th>\n",
       "      <td>persons</td>\n",
       "      <td>2</td>\n",
       "      <td>False</td>\n",
       "      <td>unacc</td>\n",
       "      <td>acc</td>\n",
       "    </tr>\n",
       "    <tr>\n",
       "      <th>7</th>\n",
       "      <td>buying</td>\n",
       "      <td>vhigh</td>\n",
       "      <td>True</td>\n",
       "      <td>unacc</td>\n",
       "      <td>acc</td>\n",
       "    </tr>\n",
       "    <tr>\n",
       "      <th>14</th>\n",
       "      <td>maint</td>\n",
       "      <td>vhigh</td>\n",
       "      <td>True</td>\n",
       "      <td>unacc</td>\n",
       "      <td>acc</td>\n",
       "    </tr>\n",
       "    <tr>\n",
       "      <th>29</th>\n",
       "      <td>lug_boot</td>\n",
       "      <td>small</td>\n",
       "      <td>True</td>\n",
       "      <td>unacc</td>\n",
       "      <td>acc</td>\n",
       "    </tr>\n",
       "    <tr>\n",
       "      <th>58</th>\n",
       "      <td>doors</td>\n",
       "      <td>2</td>\n",
       "      <td>False</td>\n",
       "      <td>unacc</td>\n",
       "      <td>unacc</td>\n",
       "    </tr>\n",
       "    <tr>\n",
       "      <th>59</th>\n",
       "      <td>doors</td>\n",
       "      <td>2</td>\n",
       "      <td>False</td>\n",
       "      <td>acc</td>\n",
       "      <td>acc</td>\n",
       "    </tr>\n",
       "    <tr>\n",
       "      <th>15</th>\n",
       "      <td>maint</td>\n",
       "      <td>vhigh</td>\n",
       "      <td>True</td>\n",
       "      <td>acc</td>\n",
       "      <td>acc</td>\n",
       "    </tr>\n",
       "    <tr>\n",
       "      <th>30</th>\n",
       "      <td>lug_boot</td>\n",
       "      <td>small</td>\n",
       "      <td>True</td>\n",
       "      <td>unacc</td>\n",
       "      <td>acc</td>\n",
       "    </tr>\n",
       "    <tr>\n",
       "      <th>60</th>\n",
       "      <td>doors</td>\n",
       "      <td>2</td>\n",
       "      <td>False</td>\n",
       "      <td>unacc</td>\n",
       "      <td>unacc</td>\n",
       "    </tr>\n",
       "    <tr>\n",
       "      <th>61</th>\n",
       "      <td>doors</td>\n",
       "      <td>2</td>\n",
       "      <td>False</td>\n",
       "      <td>acc</td>\n",
       "      <td>acc</td>\n",
       "    </tr>\n",
       "    <tr>\n",
       "      <th>31</th>\n",
       "      <td>lug_boot</td>\n",
       "      <td>small</td>\n",
       "      <td>True</td>\n",
       "      <td>acc</td>\n",
       "      <td>acc</td>\n",
       "    </tr>\n",
       "    <tr>\n",
       "      <th>62</th>\n",
       "      <td>doors</td>\n",
       "      <td>2</td>\n",
       "      <td>False</td>\n",
       "      <td>unacc</td>\n",
       "      <td>acc</td>\n",
       "    </tr>\n",
       "    <tr>\n",
       "      <th>63</th>\n",
       "      <td>doors</td>\n",
       "      <td>2</td>\n",
       "      <td>False</td>\n",
       "      <td>acc</td>\n",
       "      <td>acc</td>\n",
       "    </tr>\n",
       "  </tbody>\n",
       "</table>\n",
       "</div>"
      ],
      "text/plain": [
       "   split_variable split_value discrete left_prediction right_prediction\n",
       "0            None        None     None            None             None\n",
       "1          safety         low     True           unacc            unacc\n",
       "3         persons           2    False           unacc              acc\n",
       "7          buying       vhigh     True           unacc              acc\n",
       "14          maint       vhigh     True           unacc              acc\n",
       "29       lug_boot       small     True           unacc              acc\n",
       "58          doors           2    False           unacc            unacc\n",
       "59          doors           2    False             acc              acc\n",
       "15          maint       vhigh     True             acc              acc\n",
       "30       lug_boot       small     True           unacc              acc\n",
       "60          doors           2    False           unacc            unacc\n",
       "61          doors           2    False             acc              acc\n",
       "31       lug_boot       small     True             acc              acc\n",
       "62          doors           2    False           unacc              acc\n",
       "63          doors           2    False             acc              acc"
      ]
     },
     "execution_count": 53,
     "metadata": {},
     "output_type": "execute_result"
    }
   ],
   "source": [
    "tree"
   ]
  },
  {
   "cell_type": "code",
   "execution_count": null,
   "metadata": {},
   "outputs": [],
   "source": []
  }
 ],
 "metadata": {
  "kernelspec": {
   "display_name": "Python 3",
   "language": "python",
   "name": "python3"
  },
  "language_info": {
   "codemirror_mode": {
    "name": "ipython",
    "version": 3
   },
   "file_extension": ".py",
   "mimetype": "text/x-python",
   "name": "python",
   "nbconvert_exporter": "python",
   "pygments_lexer": "ipython3",
   "version": "3.6.4"
  },
  "latex_envs": {
   "LaTeX_envs_menu_present": true,
   "autoclose": false,
   "autocomplete": true,
   "bibliofile": "biblio.bib",
   "cite_by": "apalike",
   "current_citInitial": 1,
   "eqLabelWithNumbers": true,
   "eqNumInitial": 1,
   "hotkeys": {
    "equation": "Ctrl-E",
    "itemize": "Ctrl-I"
   },
   "labels_anchors": false,
   "latex_user_defs": false,
   "report_style_numbering": true,
   "user_envs_cfg": false
  },
  "varInspector": {
   "cols": {
    "lenName": 16,
    "lenType": 16,
    "lenVar": 40
   },
   "kernels_config": {
    "python": {
     "delete_cmd_postfix": "",
     "delete_cmd_prefix": "del ",
     "library": "var_list.py",
     "varRefreshCmd": "print(var_dic_list())"
    },
    "r": {
     "delete_cmd_postfix": ") ",
     "delete_cmd_prefix": "rm(",
     "library": "var_list.r",
     "varRefreshCmd": "cat(var_dic_list()) "
    }
   },
   "types_to_exclude": [
    "module",
    "function",
    "builtin_function_or_method",
    "instance",
    "_Feature"
   ],
   "window_display": false
  }
 },
 "nbformat": 4,
 "nbformat_minor": 2
}
