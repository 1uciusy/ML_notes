{
 "cells": [
  {
   "cell_type": "markdown",
   "metadata": {},
   "source": [
    "# AdaBoost\n",
    "\n",
    "Adaboost是adaptive boosting的缩写。\n",
    "\n",
    "如果说bagging的思想是“三个臭皮匠顶个诸葛亮”的话，那么adaboost的思想就是“知错能改善莫大焉”。\n",
    "\n",
    "## 加权\n",
    "\n",
    "加权是一种非常常见的处理手段，“权”就是权重的意思，加权就是对应得乘以权重系数。\n",
    "\n",
    "在机器学习中加权的情况可能存在与样本和模型中，集成学习就是对模型进行加权然后进行组合，bagging就有简单平均和根据模型表现进行投票两种加权方法。\n",
    "\n",
    "一般加权有两种，和权重成正比的还有和权重成反比的。\n",
    "\n",
    "当我们的权重是精度或准确率等**数值大小和表现好坏成正比**的指标时，我们希望通过加权使精度好的组成部分比重更大，在集成后的模型中影响作用越大，此时我们会选择指标的单增函数作为权重，通常是就是指标本身。但有时想要进一步突出/稍微弱化权重影响时我们则需要对指标进行一定处理。\n",
    "\n",
    "考虑二次函数$x^2$和指数函数$exp$，假设两个模型一个准确率是80%，而另一个是60%时:\n",
    "\n",
    "- 采用简单加权：\n",
    "\n",
    "$$\n",
    "\\frac{0.8}{0.8+0.6} = 0.57\n",
    "$$\n",
    "\n",
    "- 若采用二次函数\n",
    "\n",
    "$$\n",
    "\\frac{0.8^2}{0.8^2+0.6^2}=0.64\n",
    "$$\n",
    "\n",
    "- 若采用指数函数\n",
    "\n",
    "$$\n",
    "\\frac{e^{0.8}}{e^{0.8}+e^{0.6}} = 0.54\n",
    "$$\n",
    "\n",
    "这就是不同的加权策略问题。\n",
    "\n",
    "当我们的权重是损失函数等**数值大小和表现好坏成反比**的指标时，我们可以取个负数转化成上一种情况。再就是可以及进行单调递减且保号的函数变换，譬如取倒数再加权，这也是转换成上一种情况。\n",
    "\n",
    "然而除了**对模型进行加权**以外，还有**对样本进行加权**。\n",
    "\n",
    "对样本加权就是将样本的权重包含在损失函数中，以二分类为例，未加权的损失函数是交叉熵$L(y,\\hat y)=\\sum_{i=1}^n y_ilog(\\hat y_i)+(1-y_i)log(1-\\hat y_i)$，假设权重是$\\gamma_i$，则加权后的损失函数是$L(y,\\hat y)=\\sum_{i=1}^n \\gamma_i(y_ilog(\\hat y_i)+(1-y_i)log(1-\\hat y_i))$。\n",
    "\n",
    "而对样本进行加权的依据就是模型在这个样本上的表现，单一模型表现不好的样本可能只是个例，模型普遍表现不好的样本则可能就是暗含模型没有学习到的信息。\n",
    "\n",
    "adaboost就是从给样本赋权出发，进而确定学习器权重的算法。"
   ]
  },
  {
   "cell_type": "markdown",
   "metadata": {},
   "source": [
    "## 损失函数\n",
    "\n",
    "假设我们的学习数据是二分类的，$Y\\in \\{-1, +1\\}$，adaboost的"
   ]
  }
 ],
 "metadata": {
  "kernelspec": {
   "display_name": "Python 3",
   "language": "python",
   "name": "python3"
  },
  "language_info": {
   "codemirror_mode": {
    "name": "ipython",
    "version": 3
   },
   "file_extension": ".py",
   "mimetype": "text/x-python",
   "name": "python",
   "nbconvert_exporter": "python",
   "pygments_lexer": "ipython3",
   "version": "3.7.3"
  },
  "latex_envs": {
   "LaTeX_envs_menu_present": true,
   "autoclose": false,
   "autocomplete": true,
   "bibliofile": "biblio.bib",
   "cite_by": "apalike",
   "current_citInitial": 1,
   "eqLabelWithNumbers": true,
   "eqNumInitial": 1,
   "hotkeys": {
    "equation": "Ctrl-E",
    "itemize": "Ctrl-I"
   },
   "labels_anchors": false,
   "latex_user_defs": false,
   "report_style_numbering": true,
   "user_envs_cfg": false
  },
  "varInspector": {
   "cols": {
    "lenName": 16,
    "lenType": 16,
    "lenVar": 40
   },
   "kernels_config": {
    "python": {
     "delete_cmd_postfix": "",
     "delete_cmd_prefix": "del ",
     "library": "var_list.py",
     "varRefreshCmd": "print(var_dic_list())"
    },
    "r": {
     "delete_cmd_postfix": ") ",
     "delete_cmd_prefix": "rm(",
     "library": "var_list.r",
     "varRefreshCmd": "cat(var_dic_list()) "
    }
   },
   "types_to_exclude": [
    "module",
    "function",
    "builtin_function_or_method",
    "instance",
    "_Feature"
   ],
   "window_display": false
  }
 },
 "nbformat": 4,
 "nbformat_minor": 2
}
